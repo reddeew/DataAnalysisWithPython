{
 "cells": [
  {
   "cell_type": "markdown",
   "metadata": {},
   "source": [
    "### Q1. \n",
    "Write a Python program to get the string from the given string where all the occurrence of its first char has been changed to '$' except first char itself? \n",
    "\n",
    "- Sample String: 'prospect' \n",
    "- Expected Result : 'pros$ect'"
   ]
  },
  {
   "cell_type": "code",
   "execution_count": 1,
   "metadata": {},
   "outputs": [
    {
     "name": "stdout",
     "output_type": "stream",
     "text": [
      "Enter String: prospect\n",
      "Input String : prospect\n"
     ]
    }
   ],
   "source": [
    "inputStr = input(\"Enter String: \")\n",
    "print(\"Input String : \"+inputStr)"
   ]
  },
  {
   "cell_type": "code",
   "execution_count": 4,
   "metadata": {},
   "outputs": [
    {
     "data": {
      "text/plain": [
       "'pros$ect'"
      ]
     },
     "execution_count": 4,
     "metadata": {},
     "output_type": "execute_result"
    }
   ],
   "source": [
    "firstChar = inputStr[0]\n",
    "firstChar + inputStr.replace(firstChar, '$')[1:]"
   ]
  },
  {
   "cell_type": "markdown",
   "metadata": {},
   "source": [
    "### Q2. Write a Python program to get the single string from the two given strings, and separated by the space and swap the first two characters of each string?\n",
    "\n",
    "- Sample String : 'abc', 'xyz'. \n",
    "- Expected Result: 'xyc abz'"
   ]
  },
  {
   "cell_type": "code",
   "execution_count": 5,
   "metadata": {},
   "outputs": [
    {
     "name": "stdout",
     "output_type": "stream",
     "text": [
      "Enter String: abc xyz\n",
      "Input String : abc xyz\n"
     ]
    }
   ],
   "source": [
    "inputStr2 = input(\"Enter String: \")\n",
    "print(\"Input String : \"+inputStr2)"
   ]
  },
  {
   "cell_type": "code",
   "execution_count": 13,
   "metadata": {},
   "outputs": [
    {
     "data": {
      "text/plain": [
       "'xyc abz'"
      ]
     },
     "execution_count": 13,
     "metadata": {},
     "output_type": "execute_result"
    }
   ],
   "source": [
    "strs = inputStr2.split()\n",
    "strs[1][:2] + strs[0][2:] + \" \" +strs[0][:2] + strs[1][2:]"
   ]
  },
  {
   "cell_type": "markdown",
   "metadata": {},
   "source": [
    "### Q3. Write the Python program to add 'ing' at the end of the given string (length of the string should be at least 3). If given string already ends with 'ing,' then add 'ly' instead. If string length of the given string is less than 3, leave it unchanged?\n",
    "\n",
    "- Sample string: ' abc ' \n",
    "- Expected result: ' abcing ' \n",
    "\n",
    "- Sample string: ' string ' \n",
    "- Expected result: ' stringly '"
   ]
  },
  {
   "cell_type": "code",
   "execution_count": 16,
   "metadata": {},
   "outputs": [],
   "source": [
    "def addStr3(str) :\n",
    "    if len(str) > 2 :\n",
    "        if(str[-3:] == 'ing') :\n",
    "            return str + 'ly'\n",
    "        else :\n",
    "            return str + 'ing'\n",
    "    return str        "
   ]
  },
  {
   "cell_type": "code",
   "execution_count": 19,
   "metadata": {},
   "outputs": [
    {
     "name": "stdout",
     "output_type": "stream",
     "text": [
      "Enter String: abc\n",
      "Input String : abc\n",
      "OutPut : abcing\n"
     ]
    }
   ],
   "source": [
    "inputStr3 = input(\"Enter String: \")\n",
    "print(\"Input String : \"+inputStr3)\n",
    "print(\"OutPut : \"+addStr3(inputStr3))"
   ]
  },
  {
   "cell_type": "code",
   "execution_count": 20,
   "metadata": {},
   "outputs": [
    {
     "name": "stdout",
     "output_type": "stream",
     "text": [
      "Enter String: string\n",
      "Input String : string\n",
      "OutPut : stringly\n"
     ]
    }
   ],
   "source": [
    "inputStr3 = input(\"Enter String: \")\n",
    "print(\"Input String : \"+inputStr3)\n",
    "print(\"OutPut : \"+addStr3(inputStr3))"
   ]
  },
  {
   "cell_type": "code",
   "execution_count": 21,
   "metadata": {},
   "outputs": [
    {
     "name": "stdout",
     "output_type": "stream",
     "text": [
      "Enter String: ab\n",
      "Input String : ab\n",
      "OutPut : ab\n"
     ]
    }
   ],
   "source": [
    "inputStr3 = input(\"Enter String: \")\n",
    "print(\"Input String : \"+inputStr3)\n",
    "print(\"OutPut : \"+addStr3(inputStr3))"
   ]
  },
  {
   "cell_type": "markdown",
   "metadata": {},
   "source": [
    "### Q4. Write the Python program to find the first appearance of the substring 'not' and 'poor' from the given string, if 'not' follows the 'poor', replace the whole 'not'...' poor' substring with 'good'.Return the resulting string.\n",
    "\n",
    "- Sample string: 'The lyrics are not that poor!' 'The lyrics are poor!' \n",
    "- Expected Result: 'The lyrics are good!' 'The lyrics are poor!'"
   ]
  },
  {
   "cell_type": "code",
   "execution_count": 38,
   "metadata": {},
   "outputs": [
    {
     "data": {
      "text/plain": [
       "\"The lyrics are good!' 'The lyrics are poor!\""
      ]
     },
     "execution_count": 38,
     "metadata": {},
     "output_type": "execute_result"
    }
   ],
   "source": [
    "inputStr4 = \"The lyrics are not that poor!' 'The lyrics are poor!\"\n",
    "replaceStr = 'good' \n",
    "findStr = inputStr4[inputStr4.find('not'):(inputStr4.find('poor') + len(replaceStr))]\n",
    "inputStr4.replace(findStr,replaceStr)    "
   ]
  },
  {
   "cell_type": "code",
   "execution_count": null,
   "metadata": {},
   "outputs": [],
   "source": []
  }
 ],
 "metadata": {
  "kernelspec": {
   "display_name": "Python 3",
   "language": "python",
   "name": "python3"
  },
  "language_info": {
   "codemirror_mode": {
    "name": "ipython",
    "version": 3
   },
   "file_extension": ".py",
   "mimetype": "text/x-python",
   "name": "python",
   "nbconvert_exporter": "python",
   "pygments_lexer": "ipython3",
   "version": "3.7.1"
  }
 },
 "nbformat": 4,
 "nbformat_minor": 2
}
