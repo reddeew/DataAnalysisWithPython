{
 "cells": [
  {
   "cell_type": "markdown",
   "metadata": {},
   "source": [
    "# Task 1"
   ]
  },
  {
   "cell_type": "markdown",
   "metadata": {},
   "source": [
    "### 1. Install Jupyter notebook and run the first program and share the screenshot of the output."
   ]
  },
  {
   "cell_type": "markdown",
   "metadata": {},
   "source": [
    "https://github.com/sateeshfrnd/DataAnalysisWithPython/blob/master/Assignments/jupeter-notebook.PNG"
   ]
  },
  {
   "cell_type": "markdown",
   "metadata": {},
   "source": [
    "### 2. Write a program which will find all such numbers which are divisible by 7 but are not a multipleof 5, between 2000 and 3200 (both included). The numbers obtained should be printed in acomma-separated sequence on a single line."
   ]
  },
  {
   "cell_type": "code",
   "execution_count": 1,
   "metadata": {},
   "outputs": [
    {
     "name": "stdout",
     "output_type": "stream",
     "text": [
      "2002,2009,2016,2023,2037,2044,2051\n"
     ]
    }
   ],
   "source": [
    "numList=list()\n",
    "for i in range(2000,2055):\n",
    "    if i%7 == 0 and i%5 !=0:\n",
    "       numList.append(str(i))\n",
    "  \n",
    "result = \",\".join(numList)\n",
    "print(result) "
   ]
  },
  {
   "cell_type": "markdown",
   "metadata": {},
   "source": [
    "### 3. Write a Python program to accept the user's first and last name and then getting them printed inthe the reverse order with a space between first name and last name."
   ]
  },
  {
   "cell_type": "code",
   "execution_count": 2,
   "metadata": {},
   "outputs": [
    {
     "name": "stdout",
     "output_type": "stream",
     "text": [
      "First Name: Satish\n",
      "Last Name: Kumar\n",
      "Kumar Satish\n",
      "hsitaS ramuK\n"
     ]
    }
   ],
   "source": [
    "fname = input(\"First Name: \")\n",
    "lname = input(\"Last Name: \")\n",
    "\n",
    "str = \" \".join([lname, fname])\n",
    "print(str)\n",
    "\n",
    "result = \" \".join([fname[::-1], lname[::-1]])\n",
    "print(result) "
   ]
  },
  {
   "cell_type": "markdown",
   "metadata": {},
   "source": [
    "### 4. Write a Python program to find the volume of a sphere with diameter 12 cm.\n",
    "#### Formula: V=4/3 * π * r3"
   ]
  },
  {
   "cell_type": "code",
   "execution_count": 3,
   "metadata": {},
   "outputs": [
    {
     "name": "stdout",
     "output_type": "stream",
     "text": [
      "Diameter: 12\n",
      "Volume =  904.7786842338603\n"
     ]
    }
   ],
   "source": [
    "import math\n",
    "PI=math.pi\n",
    "d = input(\"Diameter: \")\n",
    "r = int(d)/2\n",
    "volume = 4/3 * PI * (r**3)\n",
    "print(\"Volume = \",volume)"
   ]
  },
  {
   "cell_type": "markdown",
   "metadata": {},
   "source": [
    "# Task 2"
   ]
  },
  {
   "cell_type": "markdown",
   "metadata": {},
   "source": [
    "### 1. Write a program which accepts a sequence of comma-separated numbers from console and generate a list."
   ]
  },
  {
   "cell_type": "code",
   "execution_count": 4,
   "metadata": {},
   "outputs": [
    {
     "name": "stdout",
     "output_type": "stream",
     "text": [
      "Enter numbers with comma as separater: 23,56,3,65,68,4356,34\n",
      "23,56,3,65,68,4356,34\n",
      "<class 'list'>\n",
      "['23', '56', '3', '65', '68', '4356', '34']\n"
     ]
    }
   ],
   "source": [
    "seq = input(\"Enter numbers with comma as separater: \")\n",
    "print(seq)\n",
    "list = seq.split(',')\n",
    "print(type(list))\n",
    "print(list)"
   ]
  },
  {
   "cell_type": "markdown",
   "metadata": {},
   "source": [
    "### 2. Create the below pattern using nested for loop in Python.** ** * ** * * ** * * * ** * * ** * ** **"
   ]
  },
  {
   "cell_type": "code",
   "execution_count": 5,
   "metadata": {},
   "outputs": [
    {
     "name": "stdout",
     "output_type": "stream",
     "text": [
      "*\n",
      "**\n",
      "***\n",
      "****\n",
      "*****\n",
      "****\n",
      "***\n",
      "**\n",
      "*\n"
     ]
    }
   ],
   "source": [
    "count = 0\n",
    "i = 0\n",
    "while (count < 9):\n",
    "    if count < 5 :\n",
    "        i = i + 1\n",
    "    else:\n",
    "        i = i -1\n",
    "    print(i*\"*\")\n",
    "    count =count + 1"
   ]
  },
  {
   "cell_type": "markdown",
   "metadata": {},
   "source": [
    "### 3. Write a Python program to reverse a word after accepting the input from the user.\n",
    "- Sample Output:\n",
    "    - Input word: AcadGild\n",
    "    - Output: dilGdacA"
   ]
  },
  {
   "cell_type": "code",
   "execution_count": 6,
   "metadata": {},
   "outputs": [
    {
     "name": "stdout",
     "output_type": "stream",
     "text": [
      "Input Word: AcadGild\n",
      "Output :  dliGdacA\n"
     ]
    }
   ],
   "source": [
    "input = input(\"Input Word: \")\n",
    "output = input[::-1]\n",
    "print(\"Output : \",output) "
   ]
  },
  {
   "cell_type": "markdown",
   "metadata": {},
   "source": [
    "### 4.Write a Python Program to print the given string in the format specified in the ​sample output.\n",
    "WE, THE PEOPLE OF INDIA, having solemnly resolved to constitute India into aSOVEREIGN, SOCIALIST, SECULAR, DEMOCRATIC REPUBLIC and to secure to allits citizens\n",
    "\n",
    "Sample Output:\n",
    "WE, THE PEOPLE OF INDIA, having solemnly resolved to constitute India into a SOVEREIGN, !SOCIALIST, SECULAR, DEMOCRATIC REPUBLIC  and to secure to all its citizens"
   ]
  },
  {
   "cell_type": "code",
   "execution_count": 3,
   "metadata": {},
   "outputs": [
    {
     "name": "stdout",
     "output_type": "stream",
     "text": [
      "WE, THE PEOPLE OF INDIA,\n",
      "        having solemnly resolved to constitute India into a SOVEREIGN,! \n",
      "                 SOCIALIST, SECULAR, DEMOCRATIC REPUBLIC \n",
      "                  and to secure to allits citizens\n"
     ]
    }
   ],
   "source": [
    "str = \"WE, THE PEOPLE OF INDIA,\\n\\thaving solemnly resolved to constitute India into a SOVEREIGN,! \\n\\t\\t SOCIALIST, SECULAR, DEMOCRATIC REPUBLIC \\n\\t\\t  and to secure to allits citizens\"\n",
    "\n",
    "print(str.expandtabs())"
   ]
  }
 ],
 "metadata": {
  "kernelspec": {
   "display_name": "Python 3",
   "language": "python",
   "name": "python3"
  },
  "language_info": {
   "codemirror_mode": {
    "name": "ipython",
    "version": 3
   },
   "file_extension": ".py",
   "mimetype": "text/x-python",
   "name": "python",
   "nbconvert_exporter": "python",
   "pygments_lexer": "ipython3",
   "version": "3.7.1"
  }
 },
 "nbformat": 4,
 "nbformat_minor": 2
}
