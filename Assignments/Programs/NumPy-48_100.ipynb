{
 "cells": [
  {
   "cell_type": "code",
   "execution_count": 1,
   "metadata": {},
   "outputs": [],
   "source": [
    "import numpy as np"
   ]
  },
  {
   "cell_type": "markdown",
   "metadata": {},
   "source": [
    "## Q48. Write the NumPy program to create a 2d array with 6 on the border and 0 inside?"
   ]
  },
  {
   "cell_type": "raw",
   "metadata": {},
   "source": [
    "Expected Output- \n",
    "Original array-\n",
    "[[6 6 6 6 6]\n",
    " [6 6 6 6 6]\n",
    " [6 6 6 6 6]\n",
    " [6 6 6 6 6]\n",
    " [6 6 6 6 6]]\n",
    "6 on the border and 0 inside in the array-\n",
    "[[6 6 6 6 6]\n",
    " [6 0 0 0 6]\n",
    " [6 0 0 0 6]\n",
    " [6 0 0 0 6]\n",
    " [6 6 6 6 6]]"
   ]
  },
  {
   "cell_type": "code",
   "execution_count": 2,
   "metadata": {},
   "outputs": [
    {
     "name": "stdout",
     "output_type": "stream",
     "text": [
      "Original array-\n",
      "[[6 6 6 6 6]\n",
      " [6 6 6 6 6]\n",
      " [6 6 6 6 6]\n",
      " [6 6 6 6 6]\n",
      " [6 6 6 6 6]]\n",
      "6 on the border and 0 inside in the array-\n",
      "[[6 6 6 6 6]\n",
      " [6 0 0 0 6]\n",
      " [6 0 0 0 6]\n",
      " [6 0 0 0 6]\n",
      " [6 6 6 6 6]]\n"
     ]
    }
   ],
   "source": [
    "n = np.full((5,5),6)\n",
    "print(\"Original array-\")\n",
    "print(n)\n",
    "\n",
    "n[1:-1,1:-1] = 0\n",
    "print('6 on the border and 0 inside in the array-')\n",
    "print(n)"
   ]
  },
  {
   "cell_type": "markdown",
   "metadata": {},
   "source": [
    "## Q49. Write the NumPy program to create a 8x8 matrix and fill it with the checkerboard pattern?"
   ]
  },
  {
   "cell_type": "raw",
   "metadata": {},
   "source": [
    "Checkerboard pattern-\n",
    "[[3 9 3 9 3 9 3 9]\n",
    " [9 3 9 3 9 3 9 3]\n",
    " [3 9 3 9 3 9 3 9]\n",
    " [9 3 9 3 9 3 9 3]\n",
    " [3 9 3 9 3 9 3 9]\n",
    " [9 3 9 3 9 3 9 3]\n",
    " [3 9 3 9 3 9 3 9]\n",
    " [9 3 9 3 9 3 9 3]]"
   ]
  },
  {
   "cell_type": "code",
   "execution_count": 3,
   "metadata": {},
   "outputs": [
    {
     "name": "stdout",
     "output_type": "stream",
     "text": [
      "Checkerboard pattern-\n",
      "[[3 9 3 9 3 9 3 9]\n",
      " [9 3 9 3 9 3 9 3]\n",
      " [3 9 3 9 3 9 3 9]\n",
      " [9 3 9 3 9 3 9 3]\n",
      " [3 9 3 9 3 9 3 9]\n",
      " [9 3 9 3 9 3 9 3]\n",
      " [3 9 3 9 3 9 3 9]\n",
      " [9 3 9 3 9 3 9 3]]\n"
     ]
    }
   ],
   "source": [
    "n = np.full((8,8),3)\n",
    "#print(n)\n",
    "print('Checkerboard pattern-')\n",
    "\n",
    "n[1::2,::2] = 9\n",
    "#print(n)\n",
    "n[::2,1::2] = 9\n",
    "print(n)"
   ]
  },
  {
   "cell_type": "markdown",
   "metadata": {},
   "source": [
    "## Q50. Write the NumPy program to create an empty and a full array."
   ]
  },
  {
   "cell_type": "code",
   "execution_count": 4,
   "metadata": {},
   "outputs": [
    {
     "name": "stdout",
     "output_type": "stream",
     "text": [
      "Create an empty array\n",
      "[[1.26357716e-311 2.47032823e-322 0.00000000e+000]\n",
      " [0.00000000e+000 1.11260619e-306 1.58817677e-052]\n",
      " [4.76162208e-090 4.66818875e-062 4.29342017e-038]\n",
      " [3.08810135e-057 3.99910963e+252 9.97518558e-047]]\n",
      "\n",
      "Create a full array\n",
      "[[2 2 2]\n",
      " [2 2 2]]\n"
     ]
    }
   ],
   "source": [
    "print('Create an empty array')\n",
    "e = np.empty((4,3))\n",
    "print(e)\n",
    "\n",
    "print('\\nCreate a full array')\n",
    "f = np.full((2,3),2)\n",
    "print(f)"
   ]
  },
  {
   "cell_type": "markdown",
   "metadata": {},
   "source": [
    "## Q51. Write the NumPy program to convert the values of Centigrade degrees into the Fahrenheit degrees and the centigrade values are stored in the NumPy array."
   ]
  },
  {
   "cell_type": "raw",
   "metadata": {},
   "source": [
    "Sample Array -[0, 12, 45.21 ,34, 99.91] \n",
    "\n",
    "Expected Output- \n",
    "Values in Fahrenheit degrees- \n",
    "[ 0. 12. 45.21 34. 99.91] \n",
    "Values in Centigrade degrees- \n",
    "[-17.77777778 -11.11111111 7.33888889 1.11111111 37.72777778]"
   ]
  },
  {
   "cell_type": "code",
   "execution_count": 5,
   "metadata": {},
   "outputs": [
    {
     "name": "stdout",
     "output_type": "stream",
     "text": [
      "Values in Centigrad degrees-\n",
      "[ 0.   12.   45.21 34.   99.91]\n",
      "Values in Fahrenheit degrees-\n",
      "[ 32.     53.6   113.378  93.2   211.838]\n"
     ]
    }
   ],
   "source": [
    "# if the input is Centigrad values\n",
    "\n",
    "array = [0, 12, 45.21, 34, 99.91]\n",
    "c = np.array(array)\n",
    "print('Values in Centigrad degrees-')\n",
    "print(c)\n",
    "\n",
    "print('Values in Fahrenheit degrees-')\n",
    "f = (9 * c +(32*5)) / 5\n",
    "print(f)"
   ]
  },
  {
   "cell_type": "code",
   "execution_count": 6,
   "metadata": {},
   "outputs": [
    {
     "name": "stdout",
     "output_type": "stream",
     "text": [
      "Values in Fahrenheit degrees-\n",
      "[ 0.   12.   45.21 34.   99.91]\n",
      "Values in Centigrad degrees-\n",
      "[-17.77777778 -11.11111111   7.33888889   1.11111111  37.72777778]\n"
     ]
    }
   ],
   "source": [
    "# if the input is Fahrenheit values\n",
    "\n",
    "array = [0, 12, 45.21, 34, 99.91]\n",
    "f = np.array(array)\n",
    "print('Values in Fahrenheit degrees-')\n",
    "print(f)\n",
    "\n",
    "print('Values in Centigrad degrees-')\n",
    "c = (5 * (f-32)) / 9\n",
    "print(c)"
   ]
  },
  {
   "cell_type": "markdown",
   "metadata": {},
   "source": [
    "## Q52. Write the NumPy program to find the real and imaginary parts of an array of complex numbers?"
   ]
  },
  {
   "cell_type": "raw",
   "metadata": {},
   "source": [
    "Expected Output- \n",
    "Original array \n",
    "[ 1.00000000+0.j 0.70710678+0.70710678j] \n",
    "\n",
    "Real part of the array- \n",
    "[ 1. 0.70710678] \n",
    "\n",
    "Imaginary part of the array- \n",
    "[ 0. 0.70710678]"
   ]
  },
  {
   "cell_type": "code",
   "execution_count": 7,
   "metadata": {},
   "outputs": [
    {
     "name": "stdout",
     "output_type": "stream",
     "text": [
      "Original array\n",
      "[12.+45.21j 34.+99.91j]\n",
      "\n",
      "Real part of the array:\n",
      "[12. 34.]\n",
      "\n",
      "Imaginary part of the array:\n",
      "[45.21 99.91]\n"
     ]
    }
   ],
   "source": [
    "Data = np.random.random((2, 2))\n",
    "np52 = np.empty(Data.shape[:-1], dtype=complex) #np.array([ 1.+4.j,  2.+5.j])#np.empty((1,2))\n",
    "print('Original array')\n",
    "print(np52)\n",
    "print(\"\\nReal part of the array:\")\n",
    "print(np52.real)\n",
    "print(\"\\nImaginary part of the array:\")\n",
    "print(np52.imag)"
   ]
  },
  {
   "cell_type": "markdown",
   "metadata": {},
   "source": [
    "## Q53. Write the NumPy program to test whether each element of a 1-D array is also present in the second array?"
   ]
  },
  {
   "cell_type": "raw",
   "metadata": {},
   "source": [
    "Expected Output- \n",
    "Array1: [ 0 10 20 40 60] \n",
    "Array2: [0, 40] \n",
    "Compare each element of array1 and array2 \n",
    "[ True False False True False]"
   ]
  },
  {
   "cell_type": "code",
   "execution_count": 8,
   "metadata": {},
   "outputs": [
    {
     "name": "stdout",
     "output_type": "stream",
     "text": [
      "Array1:  [ 0 10 20 40 60]\n",
      "Array2:  [ 0 10 20 40 60]\n",
      "Compare each element of array1 and array2\n",
      "[ True False False  True False]\n"
     ]
    }
   ],
   "source": [
    "np53_1 = np.array([0, 10, 20, 40, 60])\n",
    "print(\"Array1: \",np53_1)\n",
    "\n",
    "np53_2 = [0, 40]\n",
    "print(\"Array2: \",np53_1)\n",
    "\n",
    "print(\"Compare each element of array1 and array2\")\n",
    "print(np.in1d(np53_1, np53_2))"
   ]
  },
  {
   "cell_type": "markdown",
   "metadata": {},
   "source": [
    "## Q54. Write the NumPy program to find common values between two arrays? "
   ]
  },
  {
   "cell_type": "raw",
   "metadata": {},
   "source": [
    "Expected Output- \n",
    "Array1: [ 0 10 20 40 60] \n",
    "Array2: [10, 30, 40] \n",
    "Common values between two arrays- \n",
    "[10 40]"
   ]
  },
  {
   "cell_type": "code",
   "execution_count": 9,
   "metadata": {},
   "outputs": [
    {
     "name": "stdout",
     "output_type": "stream",
     "text": [
      "Array1:  [ 0 10 20 40 60]\n",
      "Array2:  [10, 30, 40]\n",
      "Common values between two arrays-  [10 40]\n"
     ]
    }
   ],
   "source": [
    "np1 = np.array([0, 10, 20, 40, 60])\n",
    "print(\"Array1: \",np1)\n",
    "\n",
    "np2 = [10, 30, 40]\n",
    "print(\"Array2: \",np2)\n",
    "\n",
    "print(\"Common values between two arrays- \", np.intersect1d(np1, np2))"
   ]
  },
  {
   "cell_type": "markdown",
   "metadata": {},
   "source": [
    "## Q55. Write the NumPy program to get the unique elements of an array?"
   ]
  },
  {
   "cell_type": "raw",
   "metadata": {},
   "source": [
    "Expected Output- \n",
    "Original array- \n",
    "[10 10 20 20 30 30] \n",
    "Unique elements of the above array- \n",
    "[10 20 30]\n",
    "\n",
    "Original array- [[1 1] [2 3]] \n",
    "Unique elements of the above array- [1 2 3]"
   ]
  },
  {
   "cell_type": "code",
   "execution_count": 10,
   "metadata": {},
   "outputs": [
    {
     "name": "stdout",
     "output_type": "stream",
     "text": [
      "Original array-  [10 10 20 20 30 30]\n",
      "Unique elements of the above array-\n",
      " [10 20 30]\n",
      "Original array- \n",
      " [[1 1]\n",
      " [2 3]]\n",
      "Unique elements of the above array-  [1 2 3]\n"
     ]
    }
   ],
   "source": [
    "np1 = np.array([10, 10, 20, 20, 30, 30])\n",
    "print(\"Original array- \",np1)\n",
    "\n",
    "print(\"Unique elements of the above array-\\n\", np.unique(np1))\n",
    "np2 = np.array([[1, 1], [2, 3]])\n",
    "\n",
    "print(\"Original array- \\n\",np2)\n",
    "print(\"Unique elements of the above array- \",np.unique(np2))"
   ]
  },
  {
   "cell_type": "markdown",
   "metadata": {},
   "source": [
    "## Q56. Write the NumPy program to find the set exclusive-or of two arrays. Set exclusive-or will return the sorted, unique values that are in only one (not both) of the input arrays?"
   ]
  },
  {
   "cell_type": "raw",
   "metadata": {},
   "source": [
    "Array1- [ 0 10 20 40 60 80] \n",
    "Array2- [10, 30, 40, 50, 70] \n",
    "Unique values that are in only one (not both) of the input arrays- \n",
    "[ 0 20 30 50 60 70 80]"
   ]
  },
  {
   "cell_type": "code",
   "execution_count": 11,
   "metadata": {},
   "outputs": [
    {
     "name": "stdout",
     "output_type": "stream",
     "text": [
      "Array1-  [ 0 10 20 40 60 80]\n",
      "Array2-  [10, 30, 40, 50, 70]\n",
      "Unique values that are in only one (not both) of the input arrays-\n",
      "[ 0 20 30 50 60 70 80]\n"
     ]
    }
   ],
   "source": [
    "np1 = np.array([0, 10, 20, 40, 60, 80])\n",
    "print(\"Array1- \",np1)\n",
    "\n",
    "np2 = [10, 30, 40, 50, 70]\n",
    "print(\"Array2- \",np2)\n",
    "\n",
    "print(\"Unique values that are in only one (not both) of the input arrays-\")\n",
    "print(np.setxor1d(np1, np2))"
   ]
  },
  {
   "cell_type": "markdown",
   "metadata": {},
   "source": [
    "## Q57. Write the NumPy program to test if all elements in an array evaluate to True ? \n",
    "- Note: 0 evaluates to False in NumPy."
   ]
  },
  {
   "cell_type": "code",
   "execution_count": 12,
   "metadata": {},
   "outputs": [
    {
     "name": "stdout",
     "output_type": "stream",
     "text": [
      "True\n",
      "False\n"
     ]
    }
   ],
   "source": [
    "print(np.all([True,True,True])) # One of the element is False > True\n",
    "print(np.all([True,True,False])) # One of the element is False > False"
   ]
  },
  {
   "cell_type": "markdown",
   "metadata": {},
   "source": [
    "## Q58 Write the NumPy program to test whether any array element along the given axis evaluates to True? \n",
    "- Note: 0 evaluates to False in NumPy."
   ]
  },
  {
   "cell_type": "code",
   "execution_count": 13,
   "metadata": {},
   "outputs": [
    {
     "name": "stdout",
     "output_type": "stream",
     "text": [
      "False\n",
      "True\n"
     ]
    }
   ],
   "source": [
    "print(np.all([1,2,0])) # One of the element is 0 > False\n",
    "print(np.all([1,2,3])) # One of the element is 0 > True"
   ]
  },
  {
   "cell_type": "markdown",
   "metadata": {},
   "source": [
    "## Q59. Write the NumPy program to construct an array by repeating? "
   ]
  },
  {
   "cell_type": "raw",
   "metadata": {},
   "source": [
    "Sample array- [1, 2, 3, 4] \n",
    "Expected Output- \n",
    "Original array [1, 2, 3, 4] \n",
    "Repeating 2 times [1 2 3 4 1 2 3 4]\n",
    "Repeating 3 times [1 2 3 4 1 2 3 4 1 2 3 4]"
   ]
  },
  {
   "cell_type": "code",
   "execution_count": 14,
   "metadata": {},
   "outputs": [
    {
     "name": "stdout",
     "output_type": "stream",
     "text": [
      "Original array  [1, 2, 3, 4]\n",
      "Repeating 2 times\n",
      "[1 2 3 4 1 2 3 4]\n",
      "Repeating 3 times\n",
      "[1 2 3 4 1 2 3 4 1 2 3 4]\n"
     ]
    }
   ],
   "source": [
    "np1 = [1, 2, 3, 4]\n",
    "print(\"Original array \",np1)\n",
    "\n",
    "print(\"Repeating 2 times\")\n",
    "r2 = np.tile(np1, 2)\n",
    "print(r2)\n",
    "\n",
    "print(\"Repeating 3 times\")\n",
    "r3 = np.tile(np1, 3)\n",
    "print(r3)"
   ]
  },
  {
   "cell_type": "markdown",
   "metadata": {},
   "source": [
    "## Q60. Write the NumPy program to find the indices of the maximum and minimum values with the given axis of an array?"
   ]
  },
  {
   "cell_type": "raw",
   "metadata": {},
   "source": [
    "Original array- [1 2 3 4 5 6] \n",
    "Maximum Values- 5 Minimum Values- 0"
   ]
  },
  {
   "cell_type": "code",
   "execution_count": 15,
   "metadata": {},
   "outputs": [
    {
     "name": "stdout",
     "output_type": "stream",
     "text": [
      "Original array-  [1 2 3 4 5 6]\n",
      "Maximum Values-  5\n",
      "Minimum Values-  0\n"
     ]
    }
   ],
   "source": [
    "np60 = np.array([1, 2, 3, 4, 5, 6])\n",
    "print(\"Original array- \",np60)\n",
    "print(\"Maximum Values- \",np.argmax(np60))\n",
    "print(\"Minimum Values- \",np.argmin(np60))"
   ]
  },
  {
   "cell_type": "markdown",
   "metadata": {},
   "source": [
    "## Q61. Write the NumPy program compare two arrays using numpy?"
   ]
  },
  {
   "cell_type": "raw",
   "metadata": {},
   "source": [
    "Array a- [1 2] \n",
    "Array b- [4 5] \n",
    "\n",
    "a > b [False False] \n",
    "a >= b [False False] \n",
    "a < b [ True True] \n",
    "a <= b [ True True]"
   ]
  },
  {
   "cell_type": "code",
   "execution_count": 16,
   "metadata": {},
   "outputs": [
    {
     "name": "stdout",
     "output_type": "stream",
     "text": [
      "Array a-  [1 2]\n",
      "Array b-  [4 5]\n",
      "a > b :  [False False]\n",
      "a >= b :  [False False]\n",
      "a < b :  [ True  True]\n",
      "a <= b :  [ True  True]\n"
     ]
    }
   ],
   "source": [
    "a = np.array([1, 2])\n",
    "b = np.array([4, 5])\n",
    "\n",
    "print(\"Array a- \",a)\n",
    "print(\"Array b- \",b)\n",
    "\n",
    "print(\"a > b : \", np.greater(a, b))\n",
    "print(\"a >= b : \", np.greater_equal(a, b))\n",
    "print(\"a < b : \", np.less(a, b))\n",
    "print(\"a <= b : \",np.less_equal(a, b))\n"
   ]
  },
  {
   "cell_type": "markdown",
   "metadata": {},
   "source": [
    "## Q62. Write the NumPy program to sort an along the first, last axis of an array?"
   ]
  },
  {
   "cell_type": "raw",
   "metadata": {},
   "source": [
    "Sample array- [[2,5],[4,4]] \n",
    "Expected Output- \n",
    "Original array: [[4 6] [2 1]] \n",
    "Sort along the first axis: [[2 1] [4 6]]\n",
    "Sort along the last axis- [[1 2] [4 6]]"
   ]
  },
  {
   "cell_type": "code",
   "execution_count": 17,
   "metadata": {},
   "outputs": [
    {
     "name": "stdout",
     "output_type": "stream",
     "text": [
      "Original array: \n",
      " [[4 6]\n",
      " [2 1]]\n",
      "Sort along the first axis: \n",
      " [[2 1]\n",
      " [4 6]]\n",
      "Sort along the last axis: \n",
      " [[4 6]\n",
      " [1 2]]\n"
     ]
    }
   ],
   "source": [
    "np62 = np.array([[4, 6],[2, 1]])\n",
    "\n",
    "print(\"Original array: \\n\", np62)\n",
    "print(\"Sort along the first axis: \\n\",np.sort(np62, axis=0))\n",
    "print(\"Sort along the last axis: \\n\",np.sort(np62, axis=1))"
   ]
  },
  {
   "cell_type": "markdown",
   "metadata": {},
   "source": [
    "## Q63. Write the NumPy program to sort pairs of first name and last name return their indices (first by last name, then by first name)."
   ]
  },
  {
   "cell_type": "raw",
   "metadata": {},
   "source": [
    "first_names - ( Betsey, Shelley, Lanell, Genesis, Margery ) \n",
    "last_names - ( Battle, Brien, Plotner, Stahl, Woolum ) \n",
    "Expected Output- [1 3 2 4 0]"
   ]
  },
  {
   "cell_type": "code",
   "execution_count": 18,
   "metadata": {},
   "outputs": [
    {
     "name": "stdout",
     "output_type": "stream",
     "text": [
      "[0 1 2 3 4]\n"
     ]
    }
   ],
   "source": [
    "first_names = ( 'Betsey', 'Shelley', 'Lanell', 'Genesis', 'Margery' )\n",
    "last_names = ( 'Battle', 'Brien', 'Plotner', 'Stahl', 'Woolum' ) \n",
    "print(np.lexsort((first_names, last_names)))"
   ]
  },
  {
   "cell_type": "markdown",
   "metadata": {},
   "source": [
    "## Q64. Write the NumPy program to get the values and indices of the elements that are bigger than 10 in the given array?"
   ]
  },
  {
   "cell_type": "raw",
   "metadata": {},
   "source": [
    "Original array- \n",
    "[[ 0 10 20] [20 30 40]] \n",
    "\n",
    "Values bigger than 10 = [20 20 30 40] \n",
    "\n",
    "Their indices are (array([0, 1, 1, 1]), array([2, 0, 1, 2]))"
   ]
  },
  {
   "cell_type": "code",
   "execution_count": 19,
   "metadata": {},
   "outputs": [
    {
     "name": "stdout",
     "output_type": "stream",
     "text": [
      "Original array-\n",
      " [[ 0 10 20]\n",
      " [20 30 40]]\n",
      "Values bigger than 10 = [20 20 30 40]\n",
      "Their indices are  (array([0, 1, 1, 1], dtype=int64), array([2, 0, 1, 2], dtype=int64))\n"
     ]
    }
   ],
   "source": [
    "np1 = np.array([[0, 10, 20], [20, 30, 40]])\n",
    "print(\"Original array-\\n\",np1)\n",
    "print(\"Values bigger than 10 =\", np1[np1>10])\n",
    "print(\"Their indices are \", np.nonzero(np1 > 10))"
   ]
  },
  {
   "cell_type": "markdown",
   "metadata": {},
   "source": [
    "## Q65. Write the NumPy program to find the memory size of a NumPy array?\n",
    "- Expected Output- 128 bytes"
   ]
  },
  {
   "cell_type": "code",
   "execution_count": 20,
   "metadata": {},
   "outputs": [
    {
     "name": "stdout",
     "output_type": "stream",
     "text": [
      "256 bytes\n"
     ]
    }
   ],
   "source": [
    "np1 = np.zeros((4,4))\n",
    "print(\"%d bytes\" % (n.size * n.itemsize))"
   ]
  },
  {
   "cell_type": "markdown",
   "metadata": {},
   "source": [
    "## Q66. Write the NumPy program to create an array of ones and an array of zeros?"
   ]
  },
  {
   "cell_type": "raw",
   "metadata": {},
   "source": [
    "Expected Output- \n",
    "Create an array of zeros \n",
    "Default type is float \n",
    "[[ 0. 0.]] \n",
    "\n",
    "Type changes to int \n",
    "[[0 0]] \n",
    "Create an array of ones \n",
    "Default type is float \n",
    "[[ 1. 1.]] \n",
    "Type changes to int \n",
    "[[1 1]]"
   ]
  },
  {
   "cell_type": "code",
   "execution_count": 21,
   "metadata": {},
   "outputs": [
    {
     "name": "stdout",
     "output_type": "stream",
     "text": [
      "Create an array of zeros\n",
      "Default type is float\n",
      " [[0. 0.]]\n",
      "Type changes to int\n",
      "[[0 0]]\n",
      "Create an array of ones\n",
      "Default type is float\n",
      " [[1. 1.]]\n",
      "Type changes to int\n",
      "[[1 1]]\n"
     ]
    }
   ],
   "source": [
    "print(\"Create an array of zeros\")\n",
    "zeros = np.zeros((1,2))\n",
    "print(\"Default type is float\\n\",zeros)\n",
    "\n",
    "print(\"Type changes to int\")\n",
    "zeros1 = np.zeros((1,2), dtype = np.int)\n",
    "print(zeros1)\n",
    "\n",
    "print(\"Create an array of ones\")\n",
    "ones = np.ones((1,2)) \n",
    "print(\"Default type is float\\n\",ones)\n",
    "\n",
    "print(\"Type changes to int\")\n",
    "ones1 = np.ones((1,2), dtype = np.int)\n",
    "print(ones1)"
   ]
  },
  {
   "cell_type": "markdown",
   "metadata": {},
   "source": [
    "## Q67. Write the NumPy program to change the dimension of an array?"
   ]
  },
  {
   "cell_type": "raw",
   "metadata": {},
   "source": [
    "Expected Output- \n",
    "6 rows and 0 columns \n",
    "(6,)\n",
    "\n",
    "(3, 3) -> 3 rows and 3 columns \n",
    "[[1 2 3] [4 5 6] [7 8 9]] \n",
    "\n",
    "Change array shape to (3, 3) -> 3 rows and 3 columns \n",
    "[[1 2 3] [4 5 6] [7 8 9]]"
   ]
  },
  {
   "cell_type": "code",
   "execution_count": 22,
   "metadata": {},
   "outputs": [
    {
     "name": "stdout",
     "output_type": "stream",
     "text": [
      "6 rows and 0 columns\n",
      " (6,)\n",
      "(3, 3) -> 3 rows and 3 columns  [[1 2 3]\n",
      " [4 5 6]\n",
      " [7 8 9]]\n",
      "Change array shape to (3, 3) -> 3 rows and 3 columns \n",
      "[[1 2 3]\n",
      " [4 5 6]\n",
      " [7 8 9]]\n"
     ]
    }
   ],
   "source": [
    "np1 = np.array([1, 2, 3, 4, 5, 6])\n",
    "print(\"6 rows and 0 columns\\n\",np1.shape)\n",
    "\n",
    "np2 = np.array([[1, 2, 3],[4, 5, 6],[7,8,9]])\n",
    "print(\"(3, 3) -> 3 rows and 3 columns \",np2)\n",
    "\n",
    "np3 = np.array([1,2,3,4,5,6,7,8,9])\n",
    "print(\"Change array shape to (3, 3) -> 3 rows and 3 columns \")\n",
    "np3.shape = (3, 3)\n",
    "print(np3)"
   ]
  },
  {
   "cell_type": "markdown",
   "metadata": {},
   "source": [
    "## Q68. Write the NumPy program to create a new shape to an array without changing its data ?"
   ]
  },
  {
   "cell_type": "raw",
   "metadata": {},
   "source": [
    "Reshape 3x2- \n",
    "[[1 2] [3 4] [5 6]] \n",
    "\n",
    "Reshape 2x3- \n",
    "[[1 2 3] [4 5 6]]"
   ]
  },
  {
   "cell_type": "code",
   "execution_count": 23,
   "metadata": {},
   "outputs": [
    {
     "name": "stdout",
     "output_type": "stream",
     "text": [
      "Reshape 3x2-\n",
      " [[1 2]\n",
      " [3 4]\n",
      " [5 6]]\n",
      "Reshape 2x3-\n",
      " [[1 2 3]\n",
      " [4 5 6]]\n"
     ]
    }
   ],
   "source": [
    "x = np.array([1, 2, 3, 4, 5, 6])\n",
    "print(\"Reshape 3x2-\\n\",np.reshape(x,(3,2)))\n",
    "print(\"Reshape 2x3-\\n\",np.reshape(x,(2,3)))"
   ]
  },
  {
   "cell_type": "markdown",
   "metadata": {},
   "source": [
    "## Q69. Write the NumPy program to create a new array of 3*5, filled with 2?"
   ]
  },
  {
   "cell_type": "raw",
   "metadata": {},
   "source": [
    "Expected Output- [[2 2 2 2 2] [2 2 2 2 2] [2 2 2 2 2]]"
   ]
  },
  {
   "cell_type": "code",
   "execution_count": 24,
   "metadata": {},
   "outputs": [
    {
     "name": "stdout",
     "output_type": "stream",
     "text": [
      "[[2 2 2 2 2]\n",
      " [2 2 2 2 2]\n",
      " [2 2 2 2 2]]\n"
     ]
    }
   ],
   "source": [
    "print(np.full((3, 5), 2))"
   ]
  },
  {
   "cell_type": "markdown",
   "metadata": {},
   "source": [
    "## Q70. Write the NumPy program to create a 3-D array with ones on a diagonal and zeros elsewhere?"
   ]
  },
  {
   "cell_type": "raw",
   "metadata": {},
   "source": [
    "Expected Output- [[ 1. 0. 0.] [ 0. 1. 0.] [ 0. 0. 1.]]"
   ]
  },
  {
   "cell_type": "code",
   "execution_count": 25,
   "metadata": {},
   "outputs": [
    {
     "name": "stdout",
     "output_type": "stream",
     "text": [
      "[[1. 0. 0.]\n",
      " [0. 1. 0.]\n",
      " [0. 0. 1.]]\n"
     ]
    }
   ],
   "source": [
    "print(np.eye(3))"
   ]
  },
  {
   "cell_type": "markdown",
   "metadata": {},
   "source": [
    "## Q71. Write the NumPy program to split an array of 14 elements into the 3 arrays and each of which has 2, 4, and 8 elements in original order?"
   ]
  },
  {
   "cell_type": "raw",
   "metadata": {},
   "source": [
    "Expected Output- \n",
    "Original array- [ 1 2 3 4 5 6 7 8 9 10 11 12 13 14] \n",
    "\n",
    "After splitting- \n",
    "[array([1, 2]), array([3, 4, 5, 6]), array([ 7, 8, 9, 10, 11, 12, 13, 14])]"
   ]
  },
  {
   "cell_type": "code",
   "execution_count": 26,
   "metadata": {},
   "outputs": [
    {
     "name": "stdout",
     "output_type": "stream",
     "text": [
      "Original array-  [ 1  2  3  4  5  6  7  8  9 10 11 12 13 14]\n",
      "After splitting-\n",
      "[array([1, 2]), array([3, 4, 5, 6]), array([ 7,  8,  9, 10, 11, 12, 13, 14])]\n"
     ]
    }
   ],
   "source": [
    "np1 = np.array([ 1,2,3,4,5,6,7,8,9,10,11,12,13,14] )\n",
    "print('Original array- ',np1)\n",
    "\n",
    "print('After splitting-')\n",
    "print(np.split(np1, [2, 6]))"
   ]
  },
  {
   "cell_type": "markdown",
   "metadata": {},
   "source": [
    "## Q72. Write the NumPy program to split of an array of shape 4x4 it into two arrays along the second axis ?"
   ]
  },
  {
   "cell_type": "raw",
   "metadata": {},
   "source": [
    "Sample array - \n",
    "[[ 0 1 2 3] [ 4 5 6 7] [ 8 9 10 11] [12 13 14 15]] \n",
    "\n",
    "Expected Output-\n",
    "[array([[ 0, 1], [ 4, 5], [ 8, 9], [12, 13]]), array([[ 2, 3], [ 6, 7], [10, 11], [14, 15]]), array([], shape=(4, 0), dtype=int64)]"
   ]
  },
  {
   "cell_type": "code",
   "execution_count": 27,
   "metadata": {},
   "outputs": [
    {
     "name": "stdout",
     "output_type": "stream",
     "text": [
      "Sample array: [[ 0  1  2  3]\n",
      " [ 4  5  6  7]\n",
      " [ 8  9 10 11]\n",
      " [12 13 14 15]]\n",
      "[array([[ 0,  1],\n",
      "       [ 4,  5],\n",
      "       [ 8,  9],\n",
      "       [12, 13]]), array([[ 2,  3],\n",
      "       [ 6,  7],\n",
      "       [10, 11],\n",
      "       [14, 15]]), array([], shape=(4, 0), dtype=int32)]\n"
     ]
    }
   ],
   "source": [
    "np1 = np.arange(16).reshape((4, 4))\n",
    "print(\"Sample array:\",np1)\n",
    "print(np.hsplit(np1, [2, 6]))"
   ]
  },
  {
   "cell_type": "markdown",
   "metadata": {},
   "source": [
    "## Q73. Write the NumPy program to create a 5x5 matrix with row values ranging from 0 to 4?"
   ]
  },
  {
   "cell_type": "raw",
   "metadata": {},
   "source": [
    "Original array- \n",
    "[[ 0. 0. 0. 0. 0.] [ 0. 0. 0. 0. 0.] [ 0. 0. 0. 0. 0.] [ 0. 0. 0. 0. 0.] [ 0. 0. 0. 0. 0.]] \n",
    "\n",
    "Row values ranging from 0 to 4. \n",
    "[[ 0. 1. 2. 3. 4.] [ 0. 1. 2. 3. 4.] [ 0. 1. 2. 3. 4.] [ 0. 1. 2. 3. 4.] [ 0. 1. 2. 3. 4.]]"
   ]
  },
  {
   "cell_type": "code",
   "execution_count": 28,
   "metadata": {},
   "outputs": [
    {
     "name": "stdout",
     "output_type": "stream",
     "text": [
      "Original array:\n",
      "[[0. 0. 0. 0. 0.]\n",
      " [0. 0. 0. 0. 0.]\n",
      " [0. 0. 0. 0. 0.]\n",
      " [0. 0. 0. 0. 0.]\n",
      " [0. 0. 0. 0. 0.]]\n",
      "Row values ranging from 0 to 4.\n",
      "[[0. 1. 2. 3. 4.]\n",
      " [0. 1. 2. 3. 4.]\n",
      " [0. 1. 2. 3. 4.]\n",
      " [0. 1. 2. 3. 4.]\n",
      " [0. 1. 2. 3. 4.]]\n"
     ]
    }
   ],
   "source": [
    "zeros = np.zeros((5,5))\n",
    "print(\"Original array:\")\n",
    "print(zeros)\n",
    "print(\"Row values ranging from 0 to 4.\")\n",
    "zeros += np.arange(5)\n",
    "print(zeros)"
   ]
  },
  {
   "cell_type": "markdown",
   "metadata": {},
   "source": [
    "## Q74. Write the NumPy program to create an array of zeros and three column types (integer, float, character)?"
   ]
  },
  {
   "cell_type": "raw",
   "metadata": {},
   "source": [
    "Expected Output- \n",
    "[(1, 2., b'Albert Einstein') (2, 2., b'Edmond Halley') (3, 3., b'Gertrude B. Elion')]"
   ]
  },
  {
   "cell_type": "code",
   "execution_count": 29,
   "metadata": {},
   "outputs": [
    {
     "name": "stdout",
     "output_type": "stream",
     "text": [
      "[(1, 2., b'Albert Einstein') (2, 2., b'Edmond Halley')\n",
      " (3, 3., b'Gertrude B. Elion')]\n"
     ]
    }
   ],
   "source": [
    "x = np.zeros((3,), dtype=('i4,f4,a40'))\n",
    "new_data = [(1, 2., \"Albert Einstein\"), (2, 2., \"Edmond Halley\"), (3, 3., \"Gertrude B. Elion\")]\n",
    "x[:] = new_data\n",
    "print(x)"
   ]
  },
  {
   "cell_type": "markdown",
   "metadata": {},
   "source": [
    "## Q75. Write the NumPy program to remove the negative values in the numpy array with 0?"
   ]
  },
  {
   "cell_type": "raw",
   "metadata": {},
   "source": [
    "Expected Output- \n",
    "Original array: \n",
    "[-1 -4 0 2 3 4 5 -6] \n",
    "\n",
    "Replace the negative values of the said array with 0- \n",
    "[0 0 0 2 3 4 5 0]"
   ]
  },
  {
   "cell_type": "code",
   "execution_count": 30,
   "metadata": {},
   "outputs": [
    {
     "name": "stdout",
     "output_type": "stream",
     "text": [
      "Original array:\n",
      "[-1 -4  0  2  3  4  5 -6]\n",
      "Replace the negative values of the said array with 0:\n",
      "[0 0 0 2 3 4 5 0]\n"
     ]
    }
   ],
   "source": [
    "array1 = np.array([-1, -4, 0, 2, 3, 4, 5, -6])\n",
    "print(\"Original array:\")\n",
    "print(array1)\n",
    "\n",
    "print(\"Replace the negative values of the said array with 0:\")\n",
    "array1[array1 < 0] = 0\n",
    "print(array1)"
   ]
  },
  {
   "cell_type": "markdown",
   "metadata": {},
   "source": [
    "## Q76. Write the NumPy program to compute the histogram of a set of data?"
   ]
  },
  {
   "cell_type": "code",
   "execution_count": 31,
   "metadata": {},
   "outputs": [
    {
     "data": {
      "text/plain": [
       "<Figure size 640x480 with 1 Axes>"
      ]
     },
     "metadata": {},
     "output_type": "display_data"
    }
   ],
   "source": [
    "import matplotlib.pyplot as plt\n",
    "plt.hist([0, 2, 4], bins=[0, 1, 2, 3, 4])\n",
    "plt.show()"
   ]
  },
  {
   "cell_type": "markdown",
   "metadata": {},
   "source": [
    "## Q77. Write the NumPy program to compute the line graph of a set of data?"
   ]
  },
  {
   "cell_type": "code",
   "execution_count": 32,
   "metadata": {},
   "outputs": [
    {
     "name": "stderr",
     "output_type": "stream",
     "text": [
      "C:\\Users\\satee\\Anaconda3\\lib\\site-packages\\matplotlib\\figure.py:459: UserWarning: matplotlib is currently using a non-GUI backend, so cannot show the figure\n",
      "  \"matplotlib is currently using a non-GUI backend, \"\n"
     ]
    },
    {
     "data": {
      "image/png": "[encoded data removed]",
      "text/plain": [
       "<Figure size 432x288 with 1 Axes>"
      ]
     },
     "metadata": {
      "needs_background": "light"
     },
     "output_type": "display_data"
    }
   ],
   "source": [
    "import matplotlib.pyplot as plt\n",
    "\n",
    "arr = np.random.randint(1, 30, 10)\n",
    "y, x = np.histogram(arr, bins=np.arange(51))\n",
    "fig, ax = plt.subplots()\n",
    "ax.plot(x[:-1], y)\n",
    "\n",
    "fig.show()"
   ]
  },
  {
   "cell_type": "markdown",
   "metadata": {},
   "source": [
    "## Q78. Write the NumPy program to extracts all the elements from second row from given (4x4) array?"
   ]
  },
  {
   "cell_type": "raw",
   "metadata": {},
   "source": [
    "Sample Output- \n",
    "Original array- \n",
    "[[ 0 1 2 3] [ 4 5 6 7] [ 8 9 10 11] [12 13 14 15]] \n",
    "\n",
    "Extracted data- Second row \n",
    "[4 5 6 7]"
   ]
  },
  {
   "cell_type": "code",
   "execution_count": 33,
   "metadata": {},
   "outputs": [
    {
     "name": "stdout",
     "output_type": "stream",
     "text": [
      "Original array:\n",
      "[[ 0  1  2  3]\n",
      " [ 4  5  6  7]\n",
      " [ 8  9 10 11]\n",
      " [12 13 14 15]]\n",
      "Extracted data: Second row\n",
      "[4 5 6 7]\n"
     ]
    }
   ],
   "source": [
    "arra_data = np.arange(0,16).reshape((4, 4))\n",
    "\n",
    "print(\"Original array:\")\n",
    "print(arra_data)\n",
    "\n",
    "print(\"Extracted data: Second row\")\n",
    "print(arra_data[1,:])"
   ]
  },
  {
   "cell_type": "markdown",
   "metadata": {},
   "source": [
    "## Q79. Write the NumPy program to extract first element of the second row and fourth element of fourth row from a given (4x4) array?"
   ]
  },
  {
   "cell_type": "raw",
   "metadata": {},
   "source": [
    "Sample Output- \n",
    "Original array- \n",
    "[[ 0 1 2 3] [ 4 5 6 7] [ 8 9 10 11] [12 13 14 15]] \n",
    "\n",
    "Extracted data- First element of the second row and fourth element of fourth row \n",
    "[ 4 15]"
   ]
  },
  {
   "cell_type": "code",
   "execution_count": 34,
   "metadata": {},
   "outputs": [
    {
     "name": "stdout",
     "output_type": "stream",
     "text": [
      "Original array:\n",
      "[[ 0  1  2  3]\n",
      " [ 4  5  6  7]\n",
      " [ 8  9 10 11]\n",
      " [12 13 14 15]]\n",
      "Extracted data: First element of the second row and fourth element of fourth row  \n",
      "[ 4 15]\n"
     ]
    }
   ],
   "source": [
    "array1 = np.arange(0,16).reshape((4, 4))\n",
    "print(\"Original array:\")\n",
    "print(array1)\n",
    "\n",
    "print(\"Extracted data: First element of the second row and fourth element of fourth row  \")\n",
    "print(array1[[1,3], [0,3]])"
   ]
  },
  {
   "cell_type": "markdown",
   "metadata": {},
   "source": [
    "## Q80. Write the NumPy program to add two arrays A and B of sizes (3,3) and (,3)?"
   ]
  },
  {
   "cell_type": "raw",
   "metadata": {},
   "source": [
    "Sample Output- \n",
    "Original array- \n",
    "Array-1 [[1 1 1] [1 1 1] [1 1 1]] \n",
    "Array-2 [0 1 2] \n",
    "A + B: \n",
    "[[1 2 3][1 2 3] [1 2 3]]"
   ]
  },
  {
   "cell_type": "code",
   "execution_count": 35,
   "metadata": {},
   "outputs": [
    {
     "name": "stdout",
     "output_type": "stream",
     "text": [
      "Original array:\n",
      "Array-1\n",
      " [[1 1 1]\n",
      " [1 1 1]\n",
      " [1 1 1]]\n",
      "Array-2\n",
      " [0 1 2]\n",
      "A + B:\n",
      "\n",
      "[[1 2 3]\n",
      " [1 2 3]\n",
      " [1 2 3]]\n"
     ]
    }
   ],
   "source": [
    "a1 = np.ones((3,3), dtype=np.uint)\n",
    "a2 = np.arange(3)\n",
    "print(\"Original array:\")\n",
    "print(\"Array-1\\n\",a1)\n",
    "print(\"Array-2\\n\",a2)\n",
    "print(\"A + B:\\n\")\n",
    "sum = a1 + a2\n",
    "print(sum)"
   ]
  },
  {
   "cell_type": "markdown",
   "metadata": {},
   "source": [
    "## Q81. Write the NumPy program to copy data from a given array to another array?"
   ]
  },
  {
   "cell_type": "raw",
   "metadata": {},
   "source": [
    "Sample Output- \n",
    "Original array- \n",
    "[24 27 30 29 18 14] \n",
    "\n",
    "Copy of the said array-\n",
    "[24 27 30 29 18 14]"
   ]
  },
  {
   "cell_type": "code",
   "execution_count": 36,
   "metadata": {},
   "outputs": [
    {
     "name": "stdout",
     "output_type": "stream",
     "text": [
      "Original array- \n",
      " [24 27 30 29 18 14]\n",
      "\n",
      "Copy of the said array-\n",
      " [24 27 30 29 18 14]\n"
     ]
    }
   ],
   "source": [
    "np1 = np.array([24, 27, 30, 29, 18, 14])\n",
    "print(\"Original array- \\n\",np1)\n",
    "\n",
    "np2 = np.empty_like (np1)\n",
    "np2[:] = np1\n",
    "print(\"\\nCopy of the said array-\\n\",np2)"
   ]
  },
  {
   "cell_type": "markdown",
   "metadata": {},
   "source": [
    "## Q82. Write the NumPy program to calculate the sum of all columns of the 2D numpy array?"
   ]
  },
  {
   "cell_type": "raw",
   "metadata": {},
   "source": [
    "Sample Output- \n",
    "Original array- \n",
    "[[ 0 1 2 3 4 5 6 7 8] [ 9 10 11 12 13 14 15 16 17] [18 19 20 21 22 23 24 25 26] [27 28 29 30 31 32 33 34 35]] \n",
    "Sum of all columns- \n",
    "[54 58 62 66 70 74 78 82 86]"
   ]
  },
  {
   "cell_type": "code",
   "execution_count": 37,
   "metadata": {},
   "outputs": [
    {
     "name": "stdout",
     "output_type": "stream",
     "text": [
      "Original array- \n",
      " [[ 0  1  2  3  4  5  6  7  8]\n",
      " [ 9 10 11 12 13 14 15 16 17]\n",
      " [18 19 20 21 22 23 24 25 26]\n",
      " [27 28 29 30 31 32 33 34 35]]\n",
      "\n",
      "Sum of all columns:\n",
      "[54 58 62 66 70 74 78 82 86]\n"
     ]
    }
   ],
   "source": [
    "np1 = np.reshape(np.arange(36), [4, 9])\n",
    "print(\"Original array- \\n\",np1)\n",
    "\n",
    "result  = np1.sum(axis=0)\n",
    "print(\"\\nSum of all columns:\")\n",
    "print(result)"
   ]
  },
  {
   "cell_type": "markdown",
   "metadata": {},
   "source": [
    "## Q83. Write the NumPy program to calculate averages without NaNs along the given array?"
   ]
  },
  {
   "cell_type": "raw",
   "metadata": {},
   "source": [
    "Sample Output- \n",
    "Original array- \n",
    "[[10. 20. 30.] [40. 50. nan] [nan 6. nan] [nan nan nan]]\n",
    "\n",
    "Averages without NaNs along the said array- \n",
    "[20. 45. 6. nan]"
   ]
  },
  {
   "cell_type": "code",
   "execution_count": 38,
   "metadata": {},
   "outputs": [
    {
     "name": "stdout",
     "output_type": "stream",
     "text": [
      "Original array- \n",
      "[[10. 20. 30.]\n",
      " [40. 50. nan]\n",
      " [nan  6. nan]\n",
      " [nan nan nan]]\n",
      "\n",
      "Averages without NaNs along the said array:\n",
      "[20. 45.  6. nan]\n"
     ]
    }
   ],
   "source": [
    "np1 = np.array([[10, 20 ,30], [40, 50, np.nan], [np.nan, 6, np.nan], [np.nan, np.nan, np.nan]])\n",
    "print(\"Original array- \")\n",
    "print(np1)\n",
    "\n",
    "withoutNaN = np.ma.masked_array(np1,np.isnan(np1))\n",
    "result = np.mean(withoutNaN, axis=1)\n",
    "print(\"\\nAverages without NaNs along the said array:\")\n",
    "print(result.filled(np.nan))"
   ]
  },
  {
   "cell_type": "markdown",
   "metadata": {},
   "source": [
    "## Q84. Create two arrays of six elements. Write the NumPy program to count the number of instances of a value occurring in one array on the condition of another array."
   ]
  },
  {
   "cell_type": "raw",
   "metadata": {},
   "source": [
    "Sample Output- \n",
    "Original arrays- \n",
    "[ 10 -10 10 -10 -10 10] [0.85 0.45 0.9 0.8 0.12 0.6 ] \n",
    "Number of instances of a value occurring in one array on the condition of another array: 3"
   ]
  },
  {
   "cell_type": "code",
   "execution_count": 39,
   "metadata": {},
   "outputs": [
    {
     "name": "stdout",
     "output_type": "stream",
     "text": [
      "Original arrays-\n",
      "[ 10 -10  10 -10 -10  10]\n",
      "[0.85 0.45 0.9  0.8  0.12 0.6 ]\n"
     ]
    }
   ],
   "source": [
    "a1 = np.array([ 10,-10,10,-10,-10,10])\n",
    "a2 = np.array([0.85, 0.45, 0.9, 0.8, 0.12, 0.6 ] )\n",
    "print(\"Original arrays-\")\n",
    "print(a1)\n",
    "print(a2)"
   ]
  },
  {
   "cell_type": "markdown",
   "metadata": {},
   "source": [
    "## Q85. Write the NumPy program to convert a Python dictionary to a Numpy ndarray ?"
   ]
  },
  {
   "cell_type": "raw",
   "metadata": {},
   "source": [
    "Original dictionary- \n",
    "{'column0': {'a': 1, 'b': 0.0, 'c': 0.0, 'd': 2.0}, 'column1': {'a': 3.0, 'b': 1, 'c': 0.0, 'd': -1.0}, 'column2': {'a': 4, 'b': 1, 'c': 5.0, 'd': -1.0}, 'column3': {'a': 3.0, 'b': -1.0, 'c': -1.0, 'd': -1.0}} \n",
    "\n",
    "Type: <class 'dict'> ndarray- [[ 1. 0. 0. 2.] [ 3. 1. 0. -1.] [ 4. 1. 5. -1.] [ 3. -1. -1. -1.]] \n",
    "Type: <class 'numpy.ndarray'>"
   ]
  },
  {
   "cell_type": "code",
   "execution_count": 40,
   "metadata": {},
   "outputs": [
    {
     "name": "stdout",
     "output_type": "stream",
     "text": [
      "Original dictionary\n",
      "{'column0': {'a': 1, 'b': 0.0, 'c': 0.0, 'd': 2.0}, 'column1': {'a': 3.0, 'b': 1, 'c': 0.0, 'd': -1.0}, 'column2': {'a': 4, 'b': 1, 'c': 5.0, 'd': -1.0}, 'column3': {'a': 3.0, 'b': -1.0, 'c': -1.0, 'd': -1.0}}\n",
      "\n",
      "ndarray:\n",
      "[[ 1.  0.  0.  2.]\n",
      " [ 3.  1.  0. -1.]\n",
      " [ 4.  1.  5. -1.]\n",
      " [ 3. -1. -1. -1.]]\n",
      "Type:  <class 'numpy.ndarray'>\n"
     ]
    }
   ],
   "source": [
    "dict = \"\"\"{\"column0\":{\"a\":1,\"b\":0.0,\"c\":0.0,\"d\":2.0},\n",
    "   \"column1\":{\"a\":3.0,\"b\":1,\"c\":0.0,\"d\":-1.0},\n",
    "   \"column2\":{\"a\":4,\"b\":1,\"c\":5.0,\"d\":-1.0},\n",
    "   \"column3\":{\"a\":3.0,\"b\":-1.0,\"c\":-1.0,\"d\":-1.0}\n",
    "  }\"\"\"\n",
    "\n",
    "print(\"Original dictionary\")\n",
    "#print(dict)\n",
    "#print(type(dict))\n",
    "from ast import literal_eval\n",
    "t = literal_eval(dict)\n",
    "print(t)\n",
    "\n",
    "result = np.array([[v[j] for j in ['a', 'b', 'c', 'd']] for k, v in t.items()])\n",
    "print(\"\\nndarray:\")\n",
    "print(result)\n",
    "print(\"Type: \",type(result))\n"
   ]
  },
  {
   "cell_type": "markdown",
   "metadata": {},
   "source": [
    "## Q86. Write the Numpy program to find and store the non-zero unique rows in an array after comparing each row with other row in the given matrix?"
   ]
  },
  {
   "cell_type": "raw",
   "metadata": {},
   "source": [
    "Original array- \n",
    "[[ 1 1 0] [ 0 0 0] [ 0 2 3] [ 0 0 0] [ 0 -1 1] [ 0 0 0]] \n",
    "\n",
    "Non-zero unique rows- \n",
    "[[ 1 1 0] [ 0 2 3] [ 0 -1 1]]"
   ]
  },
  {
   "cell_type": "code",
   "execution_count": 41,
   "metadata": {},
   "outputs": [
    {
     "name": "stdout",
     "output_type": "stream",
     "text": [
      "Original array- \n",
      "[[ 1  1  0]\n",
      " [ 0  0  0]\n",
      " [ 0  2  3]\n",
      " [ 0  0  0]\n",
      " [ 0 -1  1]\n",
      " [ 0  0  0]]\n",
      "\n",
      "Non-zero unique rows- \n",
      "[[ 1  1  0]\n",
      " [ 0  2  3]\n",
      " [ 0 -1  1]]\n"
     ]
    }
   ],
   "source": [
    "np1 = np.array([[ 1,1,0],[ 0, 0, 0], [ 0, 2, 3] ,[ 0, 0, 0], [ 0, -1, 1] ,[ 0, 0, 0]] )\n",
    "print(\"Original array- \")\n",
    "print(np1)\n",
    "\n",
    "def myfunction( x ):\n",
    "    temp = np.array(x)\n",
    "    return np.any(temp)\n",
    "\n",
    "print(\"\\nNon-zero unique rows- \")\n",
    "flag = np.apply_along_axis( myfunction, axis=1, arr=np1 )\n",
    "\n",
    "#print(flag)\n",
    "print(np1[flag])"
   ]
  },
  {
   "cell_type": "markdown",
   "metadata": {},
   "source": [
    "## Q87. Write the NumPy program to multiply the matrix by another matrix of complex numbers and create a new matrix of complex numbers?"
   ]
  },
  {
   "cell_type": "raw",
   "metadata": {},
   "source": [
    "Sample output- \n",
    "First array- [ 1.+2.j 3.+4.j] \n",
    "Second array- [ 5.+6.j 7.+8.j] \n",
    "Product of above two arrays- (70-8j)"
   ]
  },
  {
   "cell_type": "code",
   "execution_count": 42,
   "metadata": {},
   "outputs": [
    {
     "name": "stdout",
     "output_type": "stream",
     "text": [
      "First array:\n",
      "[1.+2.j 3.+4.j]\n",
      "Second array:\n",
      "[1.+2.j 3.+4.j]\n",
      "Product of above two arrays:\n",
      "(70-8j)\n"
     ]
    }
   ],
   "source": [
    "f = np.array([1+2j,3+4j])\n",
    "print(\"First array:\")\n",
    "print(f)\n",
    "\n",
    "s = np.array([5+6j,7+8j])\n",
    "print(\"Second array:\")\n",
    "print(f)\n",
    "\n",
    "result = np.vdot(f, s)\n",
    "print(\"Product of above two arrays:\")\n",
    "print(result)"
   ]
  },
  {
   "cell_type": "markdown",
   "metadata": {},
   "source": [
    "## Q88. Write a NumPy program to generate the matrix product of two Arrays?"
   ]
  },
  {
   "cell_type": "raw",
   "metadata": {},
   "source": [
    "Sample Output- \n",
    "Matrices and vectors. \n",
    "x- [[1, 0], [1, 1]] \n",
    "y- [[3, 1], [2, 2]] \n",
    "\n",
    "Matrix product of above two arrays-\n",
    "[[3 1] [5 3]]"
   ]
  },
  {
   "cell_type": "code",
   "execution_count": 43,
   "metadata": {},
   "outputs": [
    {
     "name": "stdout",
     "output_type": "stream",
     "text": [
      "x - \n",
      " [[1 0]\n",
      " [1 1]]\n",
      "y - \n",
      " [[3 1]\n",
      " [2 2]]\n",
      "Matrix product of above two arrays-\n",
      "[[3 1]\n",
      " [5 3]]\n"
     ]
    }
   ],
   "source": [
    "x = np.array([[1, 0], [1, 1]])\n",
    "y = np.array([[3, 1], [2, 2]] )\n",
    "print(\"x - \\n\",x)\n",
    "print(\"y - \\n\",y)\n",
    "print(\"Matrix product of above two arrays-\")\n",
    "print(np.matmul(x,y))"
   ]
  },
  {
   "cell_type": "markdown",
   "metadata": {},
   "source": [
    "## Q89. Write the NumPy program to find roots of the following Polynomials?"
   ]
  },
  {
   "cell_type": "raw",
   "metadata": {},
   "source": [
    "a) (x2 - 4x + 7) \n",
    "b) x4 - 11x3 + 9x2 + 11x ? 10 \n",
    "\n",
    "Sample output- \n",
    "Roots of the first polynomial- [ 1. 1.] \n",
    "\n",
    "Roots of the second polynomial- [ 11.04461946+0.j -0.87114210+0.j 0.91326132+0.4531004j 0.91326132-0.4531004j ]"
   ]
  },
  {
   "cell_type": "code",
   "execution_count": 44,
   "metadata": {},
   "outputs": [
    {
     "name": "stdout",
     "output_type": "stream",
     "text": [
      "Roots of the first polynomial:\n",
      "[1. 1.]\n",
      "Roots of the second polynomial:\n",
      "[11.04461946+0.j        -0.8711421 +0.j         0.91326132+0.4531004j\n",
      "  0.91326132-0.4531004j]\n"
     ]
    }
   ],
   "source": [
    "print(\"Roots of the first polynomial:\")\n",
    "print(np.roots([1, -2, 1]))\n",
    "\n",
    "print(\"Roots of the second polynomial:\")\n",
    "print(np.roots([1, -12, 10, 7, -10]))"
   ]
  },
  {
   "cell_type": "markdown",
   "metadata": {},
   "source": [
    "## Q90. Write the NumPy program to calculate inverse of sine, cosine, and inverse tangent for all elements in a given array?"
   ]
  },
  {
   "cell_type": "raw",
   "metadata": {},
   "source": [
    "Sample output- \n",
    "Inverse sine- [-1.57079633 0. 1.57079633] \n",
    "Inverse cosine- [3.14159265 1.57079633 0. ] \n",
    "Inverse tangent- [-0.78539816 0. 0.78539816]"
   ]
  },
  {
   "cell_type": "code",
   "execution_count": 45,
   "metadata": {},
   "outputs": [
    {
     "name": "stdout",
     "output_type": "stream",
     "text": [
      "Inverse sine: [0.         0.10016742 0.20135792]\n",
      "Inverse cosine: [1.57079633 1.47062891 1.36943841]\n",
      "Inverse tangent: [0.         0.09966865 0.19739556]\n"
     ]
    }
   ],
   "source": [
    "x = np.array([0, .1, .2])\n",
    "print(\"Inverse sine:\", np.arcsin(x))\n",
    "print(\"Inverse cosine:\", np.arccos(x))\n",
    "print(\"Inverse tangent:\", np.arctan(x))"
   ]
  },
  {
   "cell_type": "markdown",
   "metadata": {},
   "source": [
    "## Q91. Write the NumPy program to calculate the difference between in neighbouring elements, element-wise of a given array?"
   ]
  },
  {
   "cell_type": "raw",
   "metadata": {},
   "source": [
    "Sample output- \n",
    "Original array- [1 3 5 7 0] \n",
    "Difference between neighbouring elements, element-wise of the said array- [ 2 2 2 -7]"
   ]
  },
  {
   "cell_type": "code",
   "execution_count": 46,
   "metadata": {},
   "outputs": [
    {
     "name": "stdout",
     "output_type": "stream",
     "text": [
      "Original array: \n",
      "[1 3 5 7 0]\n",
      "Difference between neighboring elements, element-wise, to the said array:\n",
      "[ 2  2  2 -7]\n"
     ]
    }
   ],
   "source": [
    "x = np.array([1, 3, 5, 7, 0])\n",
    "print(\"Original array: \")\n",
    "print(x)\n",
    "\n",
    "print(\"Difference between neighboring elements, element-wise, to the said array:\")\n",
    "result = np.ediff1d(x)\n",
    "print(result)"
   ]
  },
  {
   "cell_type": "markdown",
   "metadata": {},
   "source": [
    "## Q92. Write the Python program to find the maximum and the minimum value of a given flattened array?"
   ]
  },
  {
   "cell_type": "raw",
   "metadata": {},
   "source": [
    "Expected Output- \n",
    "Original flattened array- [[0 1] [2 3]] \n",
    "Maximum value of the above flattened array- 3 \n",
    "Minimum value of the above flattened array- 0"
   ]
  },
  {
   "cell_type": "code",
   "execution_count": 47,
   "metadata": {},
   "outputs": [
    {
     "name": "stdout",
     "output_type": "stream",
     "text": [
      "Original flattened array:\n",
      "[[0 1]\n",
      " [2 3]]\n",
      "Maximum value of the above flattened array:\n",
      "3\n",
      "Minimum value of the above flattened array:\n",
      "0\n"
     ]
    }
   ],
   "source": [
    "np1 = np.arange(4).reshape((2,2))\n",
    "print(\"Original flattened array:\")\n",
    "print(np1)\n",
    "\n",
    "print(\"Maximum value of the above flattened array:\")\n",
    "print(np.amax(np1))\n",
    "\n",
    "print(\"Minimum value of the above flattened array:\")\n",
    "print(np.amin(np1))"
   ]
  },
  {
   "cell_type": "markdown",
   "metadata": {},
   "source": [
    "## Q93. Write the NumPy program to calculate the difference between in the maximum and the minimum values of a given array along the second axis ?"
   ]
  },
  {
   "cell_type": "raw",
   "metadata": {},
   "source": [
    "Expected Output- \n",
    "Original array- [[ 0 1 2 3 4 5] [ 6 7 8 9 10 11]] \n",
    "Difference between the maximum and the minimum values of the said array- [5 5]"
   ]
  },
  {
   "cell_type": "code",
   "execution_count": 48,
   "metadata": {},
   "outputs": [
    {
     "name": "stdout",
     "output_type": "stream",
     "text": [
      "Original array:\n",
      "[[ 0  1  2  3  4  5]\n",
      " [ 6  7  8  9 10 11]]\n",
      "Difference between the maximum and the minimum values of the said array:\n",
      "[5 5]\n"
     ]
    }
   ],
   "source": [
    "x = np.arange(12).reshape((2, 6))\n",
    "print(\"Original array:\")\n",
    "print(x)\n",
    "\n",
    "print(\"Difference between the maximum and the minimum values of the said array:\")\n",
    "print(np.ptp(x, 1))"
   ]
  },
  {
   "cell_type": "markdown",
   "metadata": {},
   "source": [
    "## Q94. Write the NumPy program to compute the weighted of the given array ?"
   ]
  },
  {
   "cell_type": "raw",
   "metadata": {},
   "source": [
    "Sample Output- \n",
    "Original array- [0 1 2 3 4] \n",
    "Weighted average of the said array- 2.6666666666666665"
   ]
  },
  {
   "cell_type": "code",
   "execution_count": 49,
   "metadata": {},
   "outputs": [
    {
     "name": "stdout",
     "output_type": "stream",
     "text": [
      "\n",
      "Original array:\n",
      "[0 1 2 3 4]\n",
      "\n",
      "Weighted average of the said array:\n",
      "2.6666666666666665\n"
     ]
    }
   ],
   "source": [
    "x = np.arange(5)\n",
    "print(\"\\nOriginal array:\")\n",
    "print(x)\n",
    "\n",
    "weights = np.arange(1, 6)\n",
    "result = np.average(x, weights=weights)\n",
    "print(\"\\nWeighted average of the said array:\")\n",
    "print(result)"
   ]
  },
  {
   "cell_type": "markdown",
   "metadata": {},
   "source": [
    "## Q95. Write the NumPy program to compute the mean, standard deviation, and the variance of a given array along the second axis?"
   ]
  },
  {
   "cell_type": "raw",
   "metadata": {},
   "source": [
    "Sample output- \n",
    "Original array- [0 1 2 3 4 5] \n",
    "Mean- 2.5 \n",
    "std- 1 \n",
    "variance- 2.9166666666666665"
   ]
  },
  {
   "cell_type": "code",
   "execution_count": 50,
   "metadata": {},
   "outputs": [
    {
     "name": "stdout",
     "output_type": "stream",
     "text": [
      "\n",
      "Original array:\n",
      "[0 1 2 3 4 5]\n",
      "Mean-  2.5\n",
      "std-  1.707825127659933\n",
      "variance-  2.9166666666666665\n"
     ]
    }
   ],
   "source": [
    "x = np.arange(6)\n",
    "print(\"\\nOriginal array:\")\n",
    "print(x)\n",
    "\n",
    "print(\"Mean- \", np.mean(x))\n",
    "print(\"std- \", np.std(x))\n",
    "print(\"variance- \", np.mean((x - np.mean(x)) ** 2 ))"
   ]
  },
  {
   "cell_type": "markdown",
   "metadata": {},
   "source": [
    "## Q96. Write the Numpy program to compute the covariance matrix of the two given arrays?"
   ]
  },
  {
   "cell_type": "raw",
   "metadata": {},
   "source": [
    "Sample Output- \n",
    "Original array1- [0 1 2] \n",
    "Original array1- [2 1 0] \n",
    "Covariance matrix of the said arrays- [[ 1. -1.] [-1. 1.]]"
   ]
  },
  {
   "cell_type": "code",
   "execution_count": 51,
   "metadata": {},
   "outputs": [
    {
     "name": "stdout",
     "output_type": "stream",
     "text": [
      "Original array1-  [0 1 2]\n",
      "Original array2-  [2 1 0]\n",
      "Covariance matrix of the said arrays-  [[ 1. -1.]\n",
      " [-1.  1.]]\n"
     ]
    }
   ],
   "source": [
    "x = np.array([0, 1, 2])\n",
    "y = np.array([2, 1, 0])\n",
    "print(\"Original array1- \",x)\n",
    "print(\"Original array2- \",y)\n",
    "print(\"Covariance matrix of the said arrays- \",np.cov(x, y))"
   ]
  },
  {
   "cell_type": "markdown",
   "metadata": {},
   "source": [
    "## Q97. Write a NumPy program to compute the cross-correlation of two given arrays ?"
   ]
  },
  {
   "cell_type": "raw",
   "metadata": {},
   "source": [
    "Sample Output- \n",
    "Original array1-[0 1 3] \n",
    "Original array1- [2 4 5] \n",
    "Cross-correlation of the said arrays- [ [ 2.33333333 2.16666667 ] [ 2.16666667 2.33333333 ] ]"
   ]
  },
  {
   "cell_type": "code",
   "execution_count": 52,
   "metadata": {},
   "outputs": [
    {
     "name": "stdout",
     "output_type": "stream",
     "text": [
      "Original array1-  [0 1 3]\n",
      "Original array2-  [2 4 5]\n",
      "Cross-correlation of the said arrays-  [[2.33333333 2.16666667]\n",
      " [2.16666667 2.33333333]]\n"
     ]
    }
   ],
   "source": [
    "x = np.array([0, 1, 3])\n",
    "y = np.array([2, 4, 5])\n",
    "print(\"Original array1- \",x)\n",
    "print(\"Original array2- \",y)\n",
    "print(\"Cross-correlation of the said arrays- \",np.cov(x, y))"
   ]
  },
  {
   "cell_type": "markdown",
   "metadata": {},
   "source": [
    "## Q98. Write the NumPy program to compute Pearson product-moment correlation coefficients of two given arrays?"
   ]
  },
  {
   "cell_type": "raw",
   "metadata": {},
   "source": [
    "Sample Output- \n",
    "Original array1- [0 1 3] \n",
    "Original array1- [2 4 5] \n",
    "Pearson product-moment correlation coefficients of the said arrays- [[1. 0.92857143] [0.92857143 1. ]]"
   ]
  },
  {
   "cell_type": "code",
   "execution_count": 53,
   "metadata": {},
   "outputs": [
    {
     "name": "stdout",
     "output_type": "stream",
     "text": [
      "Original array1-  [0 1 3]\n",
      "Original array2-  [2 4 5]\n",
      "Pearson product-moment correlation coefficients of the said arrays-  [[1.         0.92857143]\n",
      " [0.92857143 1.        ]]\n"
     ]
    }
   ],
   "source": [
    "np98_1=np.array([0, 1, 3])\n",
    "np98_2=np.array([2, 4, 5])\n",
    "\n",
    "print(\"Original array1- \",np98_1)\n",
    "print(\"Original array2- \",np98_2)\n",
    "print(\"Pearson product-moment correlation coefficients of the said arrays- \",np.corrcoef(np98_1, np98_2))"
   ]
  },
  {
   "cell_type": "markdown",
   "metadata": {},
   "source": [
    "## Q99. Write the python program to count the number of occurrences of each value in a given array of non-negative integers?"
   ]
  },
  {
   "cell_type": "raw",
   "metadata": {},
   "source": [
    "Note: bincount() Function- It count the occurrence of each value in an array of the non- negative integers in the range of the array between the minimum and maximum values including the values that did not occur. \n",
    "\n",
    "Sample Output- \n",
    "Original array- [0, 1, 6, 1, 4, 1, 2, 2, 7] \n",
    "Number of occurrences of each value in array- [1 3 2 0 1 0 1 1]"
   ]
  },
  {
   "cell_type": "code",
   "execution_count": 54,
   "metadata": {},
   "outputs": [
    {
     "name": "stdout",
     "output_type": "stream",
     "text": [
      "Original array -  [0, 1, 6, 1, 4, 1, 2, 2, 7]\n",
      "Number of occurrences of each value in array- [1 3 2 0 1 0 1 1]\n"
     ]
    }
   ],
   "source": [
    "np99 = [0, 1, 6, 1, 4, 1, 2, 2, 7] \n",
    "print('Original array - ',np99)\n",
    "\n",
    "print(\"Number of occurrences of each value in array-\",np.bincount(np99))"
   ]
  },
  {
   "cell_type": "markdown",
   "metadata": {},
   "source": [
    "## Q100. Write a Numpy program to compute the histogram of nums against the bins?"
   ]
  },
  {
   "cell_type": "raw",
   "metadata": {},
   "source": [
    "Sample Output- \n",
    "nums- [0.5 0.7 1. 1.2 1.3 2.1]\n",
    "bins- [0 1 2 3] \n",
    "Result- (array([2, 3, 1], dtype=int64), array([0, 1, 2, 3]))"
   ]
  },
  {
   "cell_type": "code",
   "execution_count": 55,
   "metadata": {},
   "outputs": [
    {
     "name": "stdout",
     "output_type": "stream",
     "text": [
      "nums-  [0.5 0.7 1.  1.2 1.3 2.1]\n",
      "bins-  [0 1 2 3]\n",
      "Result - (array([2, 3, 1], dtype=int64), array([0, 1, 2, 3]))\n"
     ]
    },
    {
     "data": {
      "image/png": "[encoded data removed]",
      "text/plain": [
       "<Figure size 432x288 with 1 Axes>"
      ]
     },
     "metadata": {
      "needs_background": "light"
     },
     "output_type": "display_data"
    }
   ],
   "source": [
    "import numpy as np\n",
    "import matplotlib.pyplot as plt\n",
    "\n",
    "nums = np.array([0.5, 0.7, 1.0, 1.2, 1.3, 2.1])\n",
    "bins = np.array([0, 1, 2, 3])\n",
    "\n",
    "print(\"nums- \",nums)\n",
    "print(\"bins- \",bins)\n",
    "print(\"Result -\", np.histogram(nums, bins))\n",
    "\n",
    "%matplotlib inline\n",
    "plt.hist(nums, bins=bins)\n",
    "plt.show()"
   ]
  },
  {
   "cell_type": "code",
   "execution_count": null,
   "metadata": {},
   "outputs": [],
   "source": []
  }
 ],
 "metadata": {
  "kernelspec": {
   "display_name": "Python 3",
   "language": "python",
   "name": "python3"
  },
  "language_info": {
   "codemirror_mode": {
    "name": "ipython",
    "version": 3
   },
   "file_extension": ".py",
   "mimetype": "text/x-python",
   "name": "python",
   "nbconvert_exporter": "python",
   "pygments_lexer": "ipython3",
   "version": "3.7.1"
  }
 },
 "nbformat": 4,
 "nbformat_minor": 2
}
