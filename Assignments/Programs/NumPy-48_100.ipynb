{
 "cells": [
  {
   "cell_type": "code",
   "execution_count": 2,
   "metadata": {},
   "outputs": [],
   "source": [
    "import numpy as np"
   ]
  },
  {
   "cell_type": "markdown",
   "metadata": {},
   "source": [
    "## Q48. Write the NumPy program to create a 2d array with 6 on the border and 0 inside?"
   ]
  },
  {
   "cell_type": "raw",
   "metadata": {},
   "source": [
    "Expected Output- \n",
    "Original array-\n",
    "[[6 6 6 6 6]\n",
    " [6 6 6 6 6]\n",
    " [6 6 6 6 6]\n",
    " [6 6 6 6 6]\n",
    " [6 6 6 6 6]]\n",
    "6 on the border and 0 inside in the array-\n",
    "[[6 6 6 6 6]\n",
    " [6 0 0 0 6]\n",
    " [6 0 0 0 6]\n",
    " [6 0 0 0 6]\n",
    " [6 6 6 6 6]]"
   ]
  },
  {
   "cell_type": "code",
   "execution_count": 4,
   "metadata": {},
   "outputs": [
    {
     "name": "stdout",
     "output_type": "stream",
     "text": [
      "Original array-\n",
      "[[6 6 6 6 6]\n",
      " [6 6 6 6 6]\n",
      " [6 6 6 6 6]\n",
      " [6 6 6 6 6]\n",
      " [6 6 6 6 6]]\n",
      "6 on the border and 0 inside in the array-\n",
      "[[6 6 6 6 6]\n",
      " [6 0 0 0 6]\n",
      " [6 0 0 0 6]\n",
      " [6 0 0 0 6]\n",
      " [6 6 6 6 6]]\n"
     ]
    }
   ],
   "source": [
    "n = np.full((5,5),6)\n",
    "print(\"Original array-\")\n",
    "print(n)\n",
    "\n",
    "n[1:-1,1:-1] = 0\n",
    "print('6 on the border and 0 inside in the array-')\n",
    "print(n)"
   ]
  },
  {
   "cell_type": "markdown",
   "metadata": {},
   "source": [
    "## Q49. Write the NumPy program to create a 8x8 matrix and fill it with the checkerboard pattern?"
   ]
  },
  {
   "cell_type": "raw",
   "metadata": {},
   "source": [
    "Checkerboard pattern-\n",
    "[[3 9 3 9 3 9 3 9]\n",
    " [9 3 9 3 9 3 9 3]\n",
    " [3 9 3 9 3 9 3 9]\n",
    " [9 3 9 3 9 3 9 3]\n",
    " [3 9 3 9 3 9 3 9]\n",
    " [9 3 9 3 9 3 9 3]\n",
    " [3 9 3 9 3 9 3 9]\n",
    " [9 3 9 3 9 3 9 3]]"
   ]
  },
  {
   "cell_type": "code",
   "execution_count": 8,
   "metadata": {},
   "outputs": [
    {
     "name": "stdout",
     "output_type": "stream",
     "text": [
      "Checkerboard pattern-\n",
      "[[3 9 3 9 3 9 3 9]\n",
      " [9 3 9 3 9 3 9 3]\n",
      " [3 9 3 9 3 9 3 9]\n",
      " [9 3 9 3 9 3 9 3]\n",
      " [3 9 3 9 3 9 3 9]\n",
      " [9 3 9 3 9 3 9 3]\n",
      " [3 9 3 9 3 9 3 9]\n",
      " [9 3 9 3 9 3 9 3]]\n"
     ]
    }
   ],
   "source": [
    "n = np.full((8,8),3)\n",
    "#print(n)\n",
    "print('Checkerboard pattern-')\n",
    "\n",
    "n[1::2,::2] = 9\n",
    "#print(n)\n",
    "n[::2,1::2] = 9\n",
    "print(n)"
   ]
  },
  {
   "cell_type": "markdown",
   "metadata": {},
   "source": [
    "## Q50. Write the NumPy program to create an empty and a full array."
   ]
  },
  {
   "cell_type": "code",
   "execution_count": 12,
   "metadata": {},
   "outputs": [
    {
     "name": "stdout",
     "output_type": "stream",
     "text": [
      "Create an empty array\n",
      "[[9.82723989e-312 2.47032823e-322 0.00000000e+000]\n",
      " [0.00000000e+000 0.00000000e+000 1.58817677e-052]\n",
      " [5.64164656e-091 1.77102547e-051 3.61054305e+174]\n",
      " [3.11088268e+179 3.99910963e+252 1.46030983e-319]]\n",
      "\n",
      "Create a full array\n",
      "[[2 2 2]\n",
      " [2 2 2]]\n"
     ]
    }
   ],
   "source": [
    "print('Create an empty array')\n",
    "e = np.empty((4,3))\n",
    "print(e)\n",
    "\n",
    "print('\\nCreate a full array')\n",
    "f = np.full((2,3),2)\n",
    "print(f)"
   ]
  },
  {
   "cell_type": "markdown",
   "metadata": {},
   "source": [
    "## Q51. Write the NumPy program to convert the values of Centigrade degrees into the Fahrenheit degrees and the centigrade values are stored in the NumPy array."
   ]
  },
  {
   "cell_type": "raw",
   "metadata": {},
   "source": [
    "Sample Array -[0, 12, 45.21 ,34, 99.91] \n",
    "\n",
    "Expected Output- \n",
    "Values in Fahrenheit degrees- \n",
    "[ 0. 12. 45.21 34. 99.91] \n",
    "Values in Centigrade degrees- \n",
    "[-17.77777778 -11.11111111 7.33888889 1.11111111 37.72777778]"
   ]
  },
  {
   "cell_type": "code",
   "execution_count": 14,
   "metadata": {},
   "outputs": [
    {
     "name": "stdout",
     "output_type": "stream",
     "text": [
      "Values in Centigrad degrees-\n",
      "[ 0.   12.   45.21 34.   99.91]\n",
      "Values in Fahrenheit degrees-\n",
      "[ 32.     53.6   113.378  93.2   211.838]\n"
     ]
    }
   ],
   "source": [
    "# if the input is Centigrad values\n",
    "\n",
    "array = [0, 12, 45.21, 34, 99.91]\n",
    "c = np.array(array)\n",
    "print('Values in Centigrad degrees-')\n",
    "print(c)\n",
    "\n",
    "print('Values in Fahrenheit degrees-')\n",
    "f = (9 * c +(32*5)) / 5\n",
    "print(f)"
   ]
  },
  {
   "cell_type": "code",
   "execution_count": 15,
   "metadata": {},
   "outputs": [
    {
     "name": "stdout",
     "output_type": "stream",
     "text": [
      "Values in Fahrenheit degrees-\n",
      "[ 0.   12.   45.21 34.   99.91]\n",
      "Values in Centigrad degrees-\n",
      "[-17.77777778 -11.11111111   7.33888889   1.11111111  37.72777778]\n"
     ]
    }
   ],
   "source": [
    "# if the input is Fahrenheit values\n",
    "\n",
    "array = [0, 12, 45.21, 34, 99.91]\n",
    "f = np.array(array)\n",
    "print('Values in Fahrenheit degrees-')\n",
    "print(f)\n",
    "\n",
    "print('Values in Centigrad degrees-')\n",
    "c = (5 * (f-32)) / 9\n",
    "print(c)"
   ]
  },
  {
   "cell_type": "code",
   "execution_count": null,
   "metadata": {},
   "outputs": [],
   "source": []
  }
 ],
 "metadata": {
  "kernelspec": {
   "display_name": "Python 3",
   "language": "python",
   "name": "python3"
  },
  "language_info": {
   "codemirror_mode": {
    "name": "ipython",
    "version": 3
   },
   "file_extension": ".py",
   "mimetype": "text/x-python",
   "name": "python",
   "nbconvert_exporter": "python",
   "pygments_lexer": "ipython3",
   "version": "3.7.1"
  }
 },
 "nbformat": 4,
 "nbformat_minor": 2
}
