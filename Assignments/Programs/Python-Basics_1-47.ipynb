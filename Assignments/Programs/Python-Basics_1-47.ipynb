{
 "cells": [
  {
   "cell_type": "markdown",
   "metadata": {},
   "source": [
    "## Q1. \n",
    "Write a Python program to get the string from the given string where all the occurrence of its first char has been changed to '$' except first char itself? \n",
    "\n",
    "- Sample String: 'prospect' \n",
    "- Expected Result : 'pros$ect'"
   ]
  },
  {
   "cell_type": "code",
   "execution_count": 1,
   "metadata": {},
   "outputs": [
    {
     "name": "stdout",
     "output_type": "stream",
     "text": [
      "Enter String: prospect\n",
      "Input String : prospect\n"
     ]
    }
   ],
   "source": [
    "inputStr = input(\"Enter String: \")\n",
    "print(\"Input String : \"+inputStr)"
   ]
  },
  {
   "cell_type": "code",
   "execution_count": 2,
   "metadata": {},
   "outputs": [
    {
     "data": {
      "text/plain": [
       "'pros$ect'"
      ]
     },
     "execution_count": 2,
     "metadata": {},
     "output_type": "execute_result"
    }
   ],
   "source": [
    "firstChar = inputStr[0]\n",
    "firstChar + inputStr.replace(firstChar, '$')[1:]"
   ]
  },
  {
   "cell_type": "markdown",
   "metadata": {},
   "source": [
    "## Q2. Write a Python program to get the single string from the two given strings, and separated by the space and swap the first two characters of each string?\n",
    "\n",
    "- Sample String : 'abc', 'xyz'. \n",
    "- Expected Result: 'xyc abz'"
   ]
  },
  {
   "cell_type": "code",
   "execution_count": 3,
   "metadata": {},
   "outputs": [
    {
     "name": "stdout",
     "output_type": "stream",
     "text": [
      "Enter String: abc xyz\n",
      "Input String : abc xyz\n"
     ]
    }
   ],
   "source": [
    "inputStr2 = input(\"Enter String: \")\n",
    "print(\"Input String : \"+inputStr2)"
   ]
  },
  {
   "cell_type": "code",
   "execution_count": 4,
   "metadata": {},
   "outputs": [
    {
     "data": {
      "text/plain": [
       "'xyc abz'"
      ]
     },
     "execution_count": 4,
     "metadata": {},
     "output_type": "execute_result"
    }
   ],
   "source": [
    "strs = inputStr2.split()\n",
    "strs[1][:2] + strs[0][2:] + \" \" +strs[0][:2] + strs[1][2:]"
   ]
  },
  {
   "cell_type": "markdown",
   "metadata": {},
   "source": [
    "## Q3. Write the Python program to add 'ing' at the end of the given string (length of the string should be at least 3). If given string already ends with 'ing,' then add 'ly' instead. If string length of the given string is less than 3, leave it unchanged?\n",
    "\n",
    "- Sample string: ' abc ' \n",
    "- Expected result: ' abcing ' \n",
    "\n",
    "- Sample string: ' string ' \n",
    "- Expected result: ' stringly '"
   ]
  },
  {
   "cell_type": "code",
   "execution_count": 5,
   "metadata": {},
   "outputs": [],
   "source": [
    "def addStr3(str) :\n",
    "    if len(str) > 2 :\n",
    "        if(str[-3:] == 'ing') :\n",
    "            return str + 'ly'\n",
    "        else :\n",
    "            return str + 'ing'\n",
    "    return str        "
   ]
  },
  {
   "cell_type": "code",
   "execution_count": 6,
   "metadata": {},
   "outputs": [
    {
     "name": "stdout",
     "output_type": "stream",
     "text": [
      "Enter String: abc\n",
      "Input String : abc\n",
      "OutPut : abcing\n"
     ]
    }
   ],
   "source": [
    "inputStr3 = input(\"Enter String: \")\n",
    "print(\"Input String : \"+inputStr3)\n",
    "print(\"OutPut : \"+addStr3(inputStr3))"
   ]
  },
  {
   "cell_type": "code",
   "execution_count": 7,
   "metadata": {},
   "outputs": [
    {
     "name": "stdout",
     "output_type": "stream",
     "text": [
      "Enter String: string\n",
      "Input String : string\n",
      "OutPut : stringly\n"
     ]
    }
   ],
   "source": [
    "inputStr3 = input(\"Enter String: \")\n",
    "print(\"Input String : \"+inputStr3)\n",
    "print(\"OutPut : \"+addStr3(inputStr3))"
   ]
  },
  {
   "cell_type": "code",
   "execution_count": 8,
   "metadata": {},
   "outputs": [
    {
     "name": "stdout",
     "output_type": "stream",
     "text": [
      "Enter String: ab\n",
      "Input String : ab\n",
      "OutPut : ab\n"
     ]
    }
   ],
   "source": [
    "inputStr3 = input(\"Enter String: \")\n",
    "print(\"Input String : \"+inputStr3)\n",
    "print(\"OutPut : \"+addStr3(inputStr3))"
   ]
  },
  {
   "cell_type": "markdown",
   "metadata": {},
   "source": [
    "## Q4. Write the Python program to find the first appearance of the substring 'not' and 'poor' from the given string, if 'not' follows the 'poor', replace the whole 'not'...' poor' substring with 'good'.Return the resulting string.\n",
    "\n",
    "- Sample string: 'The lyrics are not that poor!' 'The lyrics are poor!' \n",
    "- Expected Result: 'The lyrics are good!' 'The lyrics are poor!'"
   ]
  },
  {
   "cell_type": "code",
   "execution_count": 9,
   "metadata": {},
   "outputs": [
    {
     "data": {
      "text/plain": [
       "\"The lyrics are good!' 'The lyrics are poor!\""
      ]
     },
     "execution_count": 9,
     "metadata": {},
     "output_type": "execute_result"
    }
   ],
   "source": [
    "inputStr4 = \"The lyrics are not that poor!' 'The lyrics are poor!\"\n",
    "replaceStr = 'good' \n",
    "findStr = inputStr4[inputStr4.find('not'):(inputStr4.find('poor') + len(replaceStr))]\n",
    "inputStr4.replace(findStr,replaceStr)    "
   ]
  },
  {
   "cell_type": "markdown",
   "metadata": {},
   "source": [
    "## Q5. Write the Python program to remove the characters which have odd index values of a given string."
   ]
  },
  {
   "cell_type": "code",
   "execution_count": 10,
   "metadata": {},
   "outputs": [
    {
     "name": "stdout",
     "output_type": "stream",
     "text": [
      "Input String = Python_Programming\n",
      "Output String = Pto_rgamn\n"
     ]
    }
   ],
   "source": [
    "str5 = \"Python_Programming\"\n",
    "print(\"Input String = {}\".format(str5))\n",
    "index = 0\n",
    "result =\"\"\n",
    "for i in str5:\n",
    "  if(index % 2 == 0):\n",
    "    result = result + i\n",
    "  index = index + 1 \n",
    "print(\"Output String = {}\".format(result))"
   ]
  },
  {
   "cell_type": "markdown",
   "metadata": {},
   "source": [
    "## Q6. Write the Python function to get a string made of 4 copies of the last two characters of the specified string (length must be at least 2).\n",
    "\n",
    "Sample function and result : \n",
    "- insert-end ('Python') -> onononon \n",
    "- insert-end('Exercises') -> eseseses"
   ]
  },
  {
   "cell_type": "code",
   "execution_count": 11,
   "metadata": {},
   "outputs": [
    {
     "name": "stdout",
     "output_type": "stream",
     "text": [
      "onononon\n",
      "eseseses\n",
      "None\n"
     ]
    }
   ],
   "source": [
    "def insert_end(str) :\n",
    "  if(len(str) > 1) :\n",
    "    return str[-2:]*4\n",
    "print(insert_end ('Python'))\n",
    "print(insert_end('Exercises'))\n",
    "print(insert_end('a'))"
   ]
  },
  {
   "cell_type": "markdown",
   "metadata": {},
   "source": [
    "## Q7. Write the python function to get a string made of its first three characters of a specified string. If the length of the string is less than 3 then return the original string.\n",
    "Sample function and result : \n",
    "- first-three('ipy') -> ipy \n",
    "- first-three('python') -> pyt"
   ]
  },
  {
   "cell_type": "code",
   "execution_count": 12,
   "metadata": {},
   "outputs": [
    {
     "name": "stdout",
     "output_type": "stream",
     "text": [
      "ipy\n",
      "pyt\n"
     ]
    }
   ],
   "source": [
    "def first_three(inputStr) :\n",
    "  if(len(inputStr) > 2) :\n",
    "    return inputStr[:3]\n",
    "  return inputStr\n",
    "\n",
    "print(first_three('ipy'))\n",
    "print(first_three('python'))"
   ]
  },
  {
   "cell_type": "markdown",
   "metadata": {},
   "source": [
    "## Q8. Write the python program to print the following floating numbers up to 2 decimal places?"
   ]
  },
  {
   "cell_type": "code",
   "execution_count": 13,
   "metadata": {},
   "outputs": [
    {
     "name": "stdout",
     "output_type": "stream",
     "text": [
      "2.06\n",
      "11.0\n"
     ]
    }
   ],
   "source": [
    "num1 = 2.056\n",
    "num2 = 10.999\n",
    "\n",
    "print(round(num1,2))\n",
    "print(round(num2,2))"
   ]
  },
  {
   "cell_type": "markdown",
   "metadata": {},
   "source": [
    "## Q9. Write the Python program to format a number with a percentage?"
   ]
  },
  {
   "cell_type": "code",
   "execution_count": 14,
   "metadata": {},
   "outputs": [
    {
     "name": "stdout",
     "output_type": "stream",
     "text": [
      "Percentage foramt for 0.5525 = 55.25%\n"
     ]
    }
   ],
   "source": [
    "per = 0.5525\n",
    "\n",
    "print(\"Percentage foramt for {} = {:.2%}\".format(per,per))"
   ]
  },
  {
   "cell_type": "markdown",
   "metadata": {},
   "source": [
    "## Q10. Write the Python program to count occurrences of a substring in a String?"
   ]
  },
  {
   "cell_type": "code",
   "execution_count": 15,
   "metadata": {},
   "outputs": [
    {
     "name": "stdout",
     "output_type": "stream",
     "text": [
      "'python' occurence in 'python is programming language python python' = 3\n"
     ]
    }
   ],
   "source": [
    "str10 = \"python is programming language python python\"\n",
    "searchStr = 'python'\n",
    "\n",
    "print(\"'{}' occurence in '{}' = {}\".format(searchStr, str10, str10.count(searchStr)))"
   ]
  },
  {
   "cell_type": "markdown",
   "metadata": {},
   "source": [
    "## Q11. Write the Python program to count repeated characters in a string.\n",
    "- Sample string: 'thequickbrownjumpsoverthelazydog' \n",
    "- Expected output: \n",
    "    o 3 e 3 u 2 h 2 r 2 t 2"
   ]
  },
  {
   "cell_type": "code",
   "execution_count": 16,
   "metadata": {},
   "outputs": [
    {
     "name": "stdout",
     "output_type": "stream",
     "text": [
      "t 2\n",
      "h 2\n",
      "e 3\n",
      "u 2\n",
      "r 2\n",
      "o 3\n"
     ]
    }
   ],
   "source": [
    "str11 = 'thequickbrownjumpsoverthelazydog'\n",
    "result = dict()\n",
    "\n",
    "for c in str11:\n",
    "    result[c] = 1 + result.get(c,0)\n",
    "    \n",
    "for key in result :\n",
    "    if result[key] > 1 :\n",
    "        print(\"{} {}\".format(key,result[key]))"
   ]
  },
  {
   "cell_type": "markdown",
   "metadata": {},
   "source": [
    "## Q12. Write the Python program to print the square and cube symbol in the area of a rectangle and volume of a cylinder? \n",
    "\n",
    "- Sample output: \n",
    "    - The area of the rectangle is 1256.66cm2 \n",
    "    - The volume of the cylinder is 1254.725cm3"
   ]
  },
  {
   "cell_type": "code",
   "execution_count": 17,
   "metadata": {},
   "outputs": [
    {
     "name": "stdout",
     "output_type": "stream",
     "text": [
      "The area of the rectangle is 1256.66 cm²\n",
      "The volume of the cylinder is 1254.725 cm³\n"
     ]
    }
   ],
   "source": [
    "area = 1256.66\n",
    "volume = 1254.725\n",
    "\n",
    "print(\"The area of the rectangle is {0:.{1}f} cm\\u00b2\".format(area,2))\n",
    "print(\"The volume of the cylinder is {0:.{1}f} cm\\u00b3\".format(volume,3))"
   ]
  },
  {
   "cell_type": "markdown",
   "metadata": {},
   "source": [
    "## Q13. Write the Python program to check if a string contains all letters of the alphabet?"
   ]
  },
  {
   "cell_type": "code",
   "execution_count": 18,
   "metadata": {},
   "outputs": [
    {
     "name": "stdout",
     "output_type": "stream",
     "text": [
      "True\n",
      "False\n"
     ]
    }
   ],
   "source": [
    "def isAllLettersContains(str) :\n",
    "    alphaRange = list(range(ord('a') , ord('z')))\n",
    "    for i in str.lower():\n",
    "        if(ord(i) in alphaRange) :\n",
    "            alphaRange.remove(ord(i))\n",
    "    return len(alphaRange) == 0\n",
    "    \n",
    "str1 = 'abcdefghijklmnopqrstuvwxyz'\n",
    "print(isAllLettersContains(str1))\n",
    "\n",
    "str2 = 'bcdefghijklmnopqrstuvwxy'\n",
    "print(isAllLettersContains(str2))"
   ]
  },
  {
   "cell_type": "markdown",
   "metadata": {},
   "source": [
    "## Q14. Write the Python program to find the second most repeated word in a given string?"
   ]
  },
  {
   "cell_type": "code",
   "execution_count": 19,
   "metadata": {},
   "outputs": [
    {
     "name": "stdout",
     "output_type": "stream",
     "text": [
      "Python\n"
     ]
    }
   ],
   "source": [
    "def getSecondMostRepeatedWord(str) :\n",
    "    result = dict()\n",
    "    for word in str.split() :\n",
    "        result[word] = 1 + result.get(word,0)\n",
    "    \n",
    "    return sorted(result, key = result.__getitem__, reverse=True)[1]\n",
    "\n",
    "str14 = 'Python is an interpreted, object-oriented and high-level programming language with dynamic semantics. Python supports modules and packages, which encourages program modularity and code reuse.'\n",
    "print(getSecondMostRepeatedWord(str14))"
   ]
  },
  {
   "cell_type": "markdown",
   "metadata": {},
   "source": [
    "## Q15. Write the Python program to find the minimum window in the given string, which will contains all the characters of another given strings?\n",
    "- Example 1 \n",
    "    - Input : string1 = \" PRWSOERIUSFK \" string2 = \" OSU \" \n",
    "    - Output: Minimum window is \"OERIUS\""
   ]
  },
  {
   "cell_type": "code",
   "execution_count": 20,
   "metadata": {},
   "outputs": [
    {
     "data": {
      "text/plain": [
       "'OERIUS'"
      ]
     },
     "execution_count": 20,
     "metadata": {},
     "output_type": "execute_result"
    }
   ],
   "source": [
    "import collections\n",
    "def getMinWindow(str1, str2):\n",
    "    result_char, missing_char = collections.Counter(str2), len(str2)\n",
    "    i = p = q = 0\n",
    "    for j, c in enumerate(str1, 1):\n",
    "        missing_char -= result_char[c] > 0\n",
    "        result_char[c] -= 1\n",
    "        if not missing_char:\n",
    "            while i < q and result_char[str1[i]] < 0:\n",
    "                result_char[str1[i]] += 1\n",
    "                i += 1\n",
    "            if not q or j - i <= q - p:\n",
    "                p, q = i, j\n",
    "    return str1[p:q]\n",
    "   \n",
    "getMinWindow(\"PRWSOERIUSFK\",\"OSU\")"
   ]
  },
  {
   "cell_type": "markdown",
   "metadata": {},
   "source": [
    "## Q16. Write the Python program to find smallest window that contains all characters of the given string?\n",
    "- Original Strings: asdaewsqgtwwsa \n",
    "- Smallest window that contains all characters of the said string: Daewsqgt"
   ]
  },
  {
   "cell_type": "code",
   "execution_count": 21,
   "metadata": {},
   "outputs": [
    {
     "data": {
      "text/plain": [
       "'daewsqgt'"
      ]
     },
     "execution_count": 21,
     "metadata": {},
     "output_type": "execute_result"
    }
   ],
   "source": [
    "from collections import defaultdict\n",
    "\n",
    "def findSmallestWindow(str) :\n",
    "    str_len = len(str) \n",
    "      \n",
    "    dist_count_char = len(set([x for x in str])) \n",
    "  \n",
    "    ctr, start_pos, start_pos_index, min_len = 0, 0, -1, 9999999999\n",
    "    curr_count = defaultdict(lambda: 0) \n",
    "    for i in range(str_len): \n",
    "        curr_count[str[i]] += 1\n",
    " \n",
    "        if curr_count[str[i]] == 1: \n",
    "            ctr += 1\n",
    "  \n",
    "        if ctr == dist_count_char: \n",
    "            while curr_count[str[start_pos]] > 1: \n",
    "                if curr_count[str[start_pos]] > 1: \n",
    "                    curr_count[str[start_pos]] -= 1\n",
    "                start_pos += 1\n",
    "  \n",
    "            len_window = i - start_pos + 1\n",
    "            if min_len > len_window: \n",
    "                min_len = len_window \n",
    "                start_pos_index = start_pos \n",
    "    return str[start_pos_index: start_pos_index + min_len]  \n",
    "        \n",
    "findSmallestWindow('asdaewsqgtwwsa')"
   ]
  },
  {
   "cell_type": "markdown",
   "metadata": {},
   "source": [
    "## Q17. Write the Python program to count number of substrings from a given string of lowercase alphabets with exactly k distinct (given) characters?\n",
    "- Input a string (lowercase alphabets): wolf \n",
    "- Input k: 4 \n",
    "- Number of substrings with exactly 4 distinct characters: 1"
   ]
  },
  {
   "cell_type": "code",
   "execution_count": null,
   "metadata": {},
   "outputs": [],
   "source": []
  },
  {
   "cell_type": "markdown",
   "metadata": {},
   "source": [
    "## Q18. Write the Python program to count number of non-empty substrings of the given string? \n",
    "- Input a string: w3resource \n",
    "- Number of substrings: 55"
   ]
  },
  {
   "cell_type": "code",
   "execution_count": 22,
   "metadata": {},
   "outputs": [
    {
     "name": "stdout",
     "output_type": "stream",
     "text": [
      "6\n",
      "55\n"
     ]
    }
   ],
   "source": [
    "def getPossibleSubStringCount(str):\n",
    "    return int(len(str) * (len(str) + 1) / 2)\n",
    "\n",
    "print(getPossibleSubStringCount('abc'))\n",
    "print(getPossibleSubStringCount('w3resource'))"
   ]
  },
  {
   "cell_type": "markdown",
   "metadata": {},
   "source": [
    "## Q19. Write the Python program to count number of substrings with same first and last characters of the given string?\n",
    "- Input a string: abcd \n",
    "- 4"
   ]
  },
  {
   "cell_type": "code",
   "execution_count": 23,
   "metadata": {},
   "outputs": [
    {
     "name": "stdout",
     "output_type": "stream",
     "text": [
      "4\n"
     ]
    }
   ],
   "source": [
    "def getSubStrWithSameFirstLastChar(str):\n",
    "    n = len(str)\n",
    "    count = 0\n",
    "    for i in range(n) :\n",
    "        for j in range(i,n) :\n",
    "            if(str[i] == str[j]) :\n",
    "                count = count + 1\n",
    "    return count\n",
    "\n",
    "print(getSubStrWithSameFirstLastChar('abcd'))"
   ]
  },
  {
   "cell_type": "markdown",
   "metadata": {},
   "source": [
    "## Q20. Write the Python program to count the number of strings where the string length is 2 or more, and first and last character are same from a given list of strings.\n",
    "- Sample List : ['abc', 'xyz', 'wxw', '1331'] \n",
    "- Expected Result: 2"
   ]
  },
  {
   "cell_type": "code",
   "execution_count": 24,
   "metadata": {},
   "outputs": [
    {
     "name": "stdout",
     "output_type": "stream",
     "text": [
      "2\n"
     ]
    }
   ],
   "source": [
    "def getMatchingWords(str):\n",
    "    result = []\n",
    "    for s in str:\n",
    "        if len(s) > 1 and s[0] == s[-1] :\n",
    "            result.append(s)\n",
    "    return len(result)\n",
    "\n",
    "str20 = ['abc', 'xyz', 'wxw', '1331']\n",
    "print(getMatchingWords(str20))"
   ]
  },
  {
   "cell_type": "markdown",
   "metadata": {},
   "source": [
    "## Q21. Write the Python program to get a list, sorted in increasing order by the last element in each tuple from the given list of non-empty tuples?\n",
    "- Sample List - [ (2, 5), (1, 2), (4, 4), (2, 3), (2, 1) ] \n",
    "- Expected Result - [ (2, 1), (1, 2), (2, 3), (4, 4), (2, 5) ]"
   ]
  },
  {
   "cell_type": "code",
   "execution_count": 25,
   "metadata": {},
   "outputs": [
    {
     "data": {
      "text/plain": [
       "[(2, 1), (1, 2), (2, 3), (4, 4), (2, 5)]"
      ]
     },
     "execution_count": 25,
     "metadata": {},
     "output_type": "execute_result"
    }
   ],
   "source": [
    "def fun(n):\n",
    "    return n[-1]\n",
    "\n",
    "inputList = [ (2, 5), (1, 2), (4, 4), (2, 3), (2, 1) ]\n",
    "sorted(inputList, key = fun)"
   ]
  },
  {
   "cell_type": "markdown",
   "metadata": {},
   "source": [
    "## Q22. Write the Python program to remove duplicates from a list?"
   ]
  },
  {
   "cell_type": "code",
   "execution_count": 26,
   "metadata": {},
   "outputs": [
    {
     "name": "stdout",
     "output_type": "stream",
     "text": [
      "[1, 3, 5, 6]\n"
     ]
    }
   ],
   "source": [
    "list22 = [1, 3, 5, 6, 3, 6, 1]\n",
    "result = []\n",
    "[result.append(x) for x in list22 if x not in result]\n",
    "\n",
    "print(result)"
   ]
  },
  {
   "cell_type": "markdown",
   "metadata": {},
   "source": [
    "## Q23. Write the Python program to find the list of words that are longer than n from a given list of words?"
   ]
  },
  {
   "cell_type": "code",
   "execution_count": 27,
   "metadata": {},
   "outputs": [
    {
     "name": "stdout",
     "output_type": "stream",
     "text": [
      "['abcd', '34334', 'PYTHON']\n"
     ]
    }
   ],
   "source": [
    "def getLongerWords(list, maxLen) :\n",
    "    result = []\n",
    "    for word in list:\n",
    "        if len(word) > maxLen:\n",
    "            result.append(word)\n",
    "    return result\n",
    "\n",
    "list23 = ['ABC' , 'abcd', '34334', 'PYTHON' ]\n",
    "print(getLongerWords(list23, 3))"
   ]
  },
  {
   "cell_type": "markdown",
   "metadata": {},
   "source": [
    "## Q24. Write the Python program to print a specified list after removing the 0th, 4th, and 5th elements?\n",
    "- Sample List - ['Red', 'Green', 'White', 'Black', 'Pink', 'Yellow'] \n",
    "- Expected Output - ['Green', 'White', 'Black']"
   ]
  },
  {
   "cell_type": "code",
   "execution_count": 28,
   "metadata": {},
   "outputs": [
    {
     "data": {
      "text/plain": [
       "['Green', 'White', 'Black']"
      ]
     },
     "execution_count": 28,
     "metadata": {},
     "output_type": "execute_result"
    }
   ],
   "source": [
    "list24 = ['Red', 'Green', 'White', 'Black', 'Pink', 'Yellow']\n",
    "[x for (i,x) in enumerate(list24) if i not in (0,4,5)]"
   ]
  },
  {
   "cell_type": "markdown",
   "metadata": {},
   "source": [
    "## Q25. Write the Python program to generate all permutations of a list in Python?"
   ]
  },
  {
   "cell_type": "code",
   "execution_count": 29,
   "metadata": {},
   "outputs": [
    {
     "name": "stdout",
     "output_type": "stream",
     "text": [
      "[(1, 2, 3), (1, 3, 2), (2, 1, 3), (2, 3, 1), (3, 1, 2), (3, 2, 1)]\n"
     ]
    }
   ],
   "source": [
    "from itertools import permutations\n",
    "\n",
    "list25 = [1, 2, 3]\n",
    "result = []\n",
    "for x in permutations(list25):\n",
    "    result.append(x)\n",
    "    \n",
    "print(result)"
   ]
  },
  {
   "cell_type": "markdown",
   "metadata": {},
   "source": [
    "## Q26. Write the Python program to convert a pair of values into a sorted unique array? \n",
    "- Original List- [ (1, 2), (3, 4), (1, 2), (5, 6), (7, 8), (1, 2), (3, 4), (3, 4), (7, 8), (9, 10) ] \n",
    "- Sorted Unique Data- [ 1, 2, 3, 4, 5, 6, 7, 8, 9, 10 ]"
   ]
  },
  {
   "cell_type": "code",
   "execution_count": 30,
   "metadata": {},
   "outputs": [
    {
     "data": {
      "text/plain": [
       "{1, 2, 3, 4, 5, 6, 7, 8, 9, 10}"
      ]
     },
     "execution_count": 30,
     "metadata": {},
     "output_type": "execute_result"
    }
   ],
   "source": [
    "list26 = [ (1, 2), (3, 4), (1, 2), (5, 6), (7, 8), (1, 2), (3, 4), (3, 4), (7, 8), (9, 10) ]\n",
    "set().union(*list26)"
   ]
  },
  {
   "cell_type": "markdown",
   "metadata": {},
   "source": [
    "## Q27. Write the Python class to convert an integer to a roman numeral?"
   ]
  },
  {
   "cell_type": "code",
   "execution_count": 31,
   "metadata": {},
   "outputs": [
    {
     "data": {
      "text/plain": [
       "'CLX'"
      ]
     },
     "execution_count": 31,
     "metadata": {},
     "output_type": "execute_result"
    }
   ],
   "source": [
    "class IntToRoman:\n",
    "    def convert (self, n) :\n",
    "        mapping = [\n",
    "            (1000, 'M'),(900, 'CM'), (500,'D'),(400,'CD'),\n",
    "            (100, 'C'),(90,'XC'),(50,'L'),(40,'XL'),\n",
    "            (10,'X'),(9,'IX'),(5,'V'),(4,'IV'),(1,'I')\n",
    "        ]\n",
    "        romanValue = ''\n",
    "        i = 0\n",
    "        while n > 0 :\n",
    "            for _ in range(n // mapping[i][0]):\n",
    "                romanValue += mapping[i][1]\n",
    "                n = n- mapping[i][0]\n",
    "            i = i + 1\n",
    "        return romanValue\n",
    "\n",
    "IntToRoman().convert(160)"
   ]
  },
  {
   "cell_type": "markdown",
   "metadata": {},
   "source": [
    "## Q28 Write the Python class to convert a Roman numeral to an integer?"
   ]
  },
  {
   "cell_type": "code",
   "execution_count": 32,
   "metadata": {},
   "outputs": [
    {
     "name": "stdout",
     "output_type": "stream",
     "text": [
      "100\n",
      "100\n",
      "2000\n"
     ]
    }
   ],
   "source": [
    "class ConvertRomanToInt:\n",
    "    def execute(self, s):\n",
    "        mapping = {'I': 1, 'V': 5, 'X': 10, 'L': 50, 'C': 100, 'D': 500, 'M': 1000}\n",
    "        result = 0\n",
    "        for i in range(len(s)):\n",
    "            if i > 0 and mapping[s[i]] > mapping[s[i - 1]]:\n",
    "                result += mapping[s[i]] - 2 * mapping[s[i - 1]]\n",
    "            else:\n",
    "                result += mapping[s[i]]\n",
    "        return result\n",
    "\n",
    "convert = ConvertRomanToInt()\n",
    "print(convert.execute('C'))\n",
    "print(convert.execute('LL'))\n",
    "print(convert.execute('MCMLL'))"
   ]
  },
  {
   "cell_type": "markdown",
   "metadata": {},
   "source": [
    "## Q29. Write the Python class to find the validity of the string of the parentheses, '(', ')', '{', '}', '[' and '] and the brackets must be closed in the correct order, example - \"()\" and \"()[]{}\" are valid but \"[)\", \"({[)]\" and \"{{{\" are invalid."
   ]
  },
  {
   "cell_type": "code",
   "execution_count": 33,
   "metadata": {},
   "outputs": [
    {
     "name": "stdout",
     "output_type": "stream",
     "text": [
      "True\n",
      "True\n",
      "False\n",
      "False\n",
      "False\n"
     ]
    }
   ],
   "source": [
    "class ValidateStr:\n",
    "   def isValid(self, str1):\n",
    "        stack, pchar = [], {\"(\": \")\", \"{\": \"}\", \"[\": \"]\"}\n",
    "        for parenthese in str1:\n",
    "            if parenthese in pchar:\n",
    "                stack.append(parenthese)\n",
    "            elif len(stack) == 0 or pchar[stack.pop()] != parenthese:\n",
    "                return False\n",
    "        return len(stack) == 0\n",
    "\n",
    "validate= ValidateStr()\n",
    "print(validate.isValid(\"()\"))\n",
    "print(validate.isValid(\"(){}[]\"))\n",
    "print(validate.isValid(\"(]\"))\n",
    "print(validate.isValid(\"({[)]\"))\n",
    "print(validate.isValid(\"{{{\"))"
   ]
  },
  {
   "cell_type": "markdown",
   "metadata": {},
   "source": [
    "## Q30. Write the Python class to get all possible unique subsets from a set of distinct integers?\n",
    "- Input : [4, 5, 6] \n",
    "- Output : [[], [6], [5], [5, 6], [4], [4, 6], [4, 5], [4, 5, 6]]"
   ]
  },
  {
   "cell_type": "code",
   "execution_count": 34,
   "metadata": {},
   "outputs": [
    {
     "name": "stdout",
     "output_type": "stream",
     "text": [
      "[[], [6], [5], [5, 6], [4], [4, 6], [4, 5], [4, 5, 6]]\n"
     ]
    }
   ],
   "source": [
    "class FindUniqueSubsets:\n",
    "    def sub_sets(self, sset):\n",
    "        return self.subsetsRecur([], sorted(sset))\n",
    "    \n",
    "    def subsetsRecur(self, current, sset):\n",
    "        if sset:\n",
    "            return self.subsetsRecur(current, sset[1:]) + self.subsetsRecur(current + [sset[0]], sset[1:])\n",
    "        return [current]\n",
    "\n",
    "print(FindUniqueSubsets().sub_sets([4,5,6]))"
   ]
  },
  {
   "cell_type": "markdown",
   "metadata": {},
   "source": [
    "## Q31. Write the Python class to find a pair of elements (indices of the two numbers) from a given array whose sum equals the specific target number?\n",
    "- Input: numbers- [10,20,10,40,50,60,70], target=50 \n",
    "- Output- 2,3"
   ]
  },
  {
   "cell_type": "code",
   "execution_count": 35,
   "metadata": {},
   "outputs": [
    {
     "name": "stdout",
     "output_type": "stream",
     "text": [
      "(2, 3)\n"
     ]
    }
   ],
   "source": [
    "class FindPair:\n",
    "   def execute(self, nums, target):\n",
    "        lookup = {}\n",
    "        for i, num in enumerate(nums):\n",
    "            if target - num in lookup:\n",
    "                return (lookup[target - num], i )\n",
    "            lookup[num] = i\n",
    "\n",
    "findPair = FindPair()\n",
    "print(findPair.execute((10,20,10,40,50,60,70),50))"
   ]
  },
  {
   "cell_type": "markdown",
   "metadata": {},
   "source": [
    "## Q32. Write the Python class to find the three elements that sum to zero from the set of n real numbers?\n",
    "- Input array- [-25, -10, -7, -3, 2, 4, 8, 10] \n",
    "- Output - [[-10, 2, 8], [-7, -3, 10]]"
   ]
  },
  {
   "cell_type": "code",
   "execution_count": 36,
   "metadata": {},
   "outputs": [
    {
     "name": "stdout",
     "output_type": "stream",
     "text": [
      "[[-10, 2, 8], [-7, -3, 10]]\n"
     ]
    }
   ],
   "source": [
    "class FindElements:\n",
    "    def find(self, nums):\n",
    "        nums,result, i = sorted(nums), [], 0\n",
    "        while i < len(nums) - 2:\n",
    "            j, k = i + 1, len(nums) - 1\n",
    "            while j < k:\n",
    "                if nums[i] + nums[j] + nums[k] < 0:\n",
    "                    j += 1\n",
    "                elif nums[i] + nums[j] + nums[k] > 0:\n",
    "                    k -= 1\n",
    "                else:\n",
    "                    result.append([nums[i], nums[j], nums[k]])\n",
    "                    j, k = j + 1, k - 1\n",
    "                    while j < k and nums[j] == nums[j - 1]:\n",
    "                        j += 1\n",
    "                    while j < k and nums[k] == nums[k + 1]:\n",
    "                        k -= 1\n",
    "            i += 1\n",
    "            while i < len(nums) - 2 and nums[i] == nums[i - 1]:\n",
    "                i += 1\n",
    "        return result\n",
    "\n",
    "result = FindElements()\n",
    "print(result.find([-25, -10, -7, -3, 2, 4, 8, 10]))        "
   ]
  },
  {
   "cell_type": "markdown",
   "metadata": {},
   "source": [
    "## Q33. Write the Python class to implement pow(x, n)?"
   ]
  },
  {
   "cell_type": "code",
   "execution_count": 37,
   "metadata": {},
   "outputs": [
    {
     "name": "stdout",
     "output_type": "stream",
     "text": [
      "0.125\n"
     ]
    }
   ],
   "source": [
    "class CalculatePower:\n",
    "   def execute(self, x, n):\n",
    "        if x==0 or x==1 or n==1:\n",
    "            return x \n",
    "\n",
    "        if x==-1:\n",
    "            if n%2 ==0:\n",
    "                return 1\n",
    "            else:\n",
    "                return -1\n",
    "            \n",
    "        if n==0:\n",
    "            return 1\n",
    "        \n",
    "        if n<0:\n",
    "            return 1/self.execute(x,-n)\n",
    "        \n",
    "        val = self.execute(x,n//2)\n",
    "        \n",
    "        if n%2 ==0:\n",
    "            return val*val\n",
    "        \n",
    "        return val*val*x\n",
    "\n",
    "pow1 = CalculatePower()\n",
    "print(pow1.execute(2,-3))"
   ]
  },
  {
   "cell_type": "markdown",
   "metadata": {},
   "source": [
    "## Q34. Write the Python class which has two methods get_String and print_String. get_String accept the string from the user and print_String print the string in upper case."
   ]
  },
  {
   "cell_type": "code",
   "execution_count": 38,
   "metadata": {},
   "outputs": [
    {
     "name": "stdout",
     "output_type": "stream",
     "text": [
      "python\n",
      "PYTHON\n"
     ]
    }
   ],
   "source": [
    "class SimpleClass():\n",
    "    def __init__(self):\n",
    "        self.str = \"\"\n",
    "\n",
    "    def get_String(self):\n",
    "        self.str = input()\n",
    "\n",
    "    def print_String(self):\n",
    "        print(self.str.upper())\n",
    "\n",
    "simpleClass = SimpleClass()\n",
    "simpleClass.get_String()\n",
    "simpleClass.print_String()"
   ]
  },
  {
   "cell_type": "markdown",
   "metadata": {},
   "source": [
    "## Q35. Write the Python class named Rectangle constructed by a length and width and the method which will compute the area of the rectangle?"
   ]
  },
  {
   "cell_type": "code",
   "execution_count": 39,
   "metadata": {},
   "outputs": [
    {
     "name": "stdout",
     "output_type": "stream",
     "text": [
      "200\n"
     ]
    }
   ],
   "source": [
    "class Rectangle():\n",
    "    def __init__(self, length, width):\n",
    "        self.length = length\n",
    "        self.width  = width\n",
    "\n",
    "    def computeArea(self):\n",
    "        return self.length*self.width\n",
    "\n",
    "rectangle = Rectangle(10, 20)\n",
    "print(rectangle.computeArea())"
   ]
  },
  {
   "cell_type": "markdown",
   "metadata": {},
   "source": [
    "## Q36. Write the Python class named Circle constructed by the radius and two methods which will compute the area and perimeter of the circle?"
   ]
  },
  {
   "cell_type": "code",
   "execution_count": 47,
   "metadata": {},
   "outputs": [
    {
     "name": "stdout",
     "output_type": "stream",
     "text": [
      "314.0\n",
      "62.800000000000004\n"
     ]
    }
   ],
   "source": [
    "class Circle():\n",
    "    def __init__(self, radius):\n",
    "        self.radius = radius\n",
    "\n",
    "    def area(self):\n",
    "        return self.radius**2*3.14\n",
    "    \n",
    "    def perimeter(self):\n",
    "        return 2*self.radius*3.14\n",
    "\n",
    "circle = Circle(10)\n",
    "print(circle.area())\n",
    "print(circle.perimeter())"
   ]
  },
  {
   "cell_type": "markdown",
   "metadata": {},
   "source": [
    "## Q37. Write the Python program to get the class name of an instance in Python?"
   ]
  },
  {
   "cell_type": "code",
   "execution_count": 40,
   "metadata": {},
   "outputs": [
    {
     "name": "stdout",
     "output_type": "stream",
     "text": [
      "cycle\n"
     ]
    }
   ],
   "source": [
    "'API Reference: https://docs.python.org/3.1/library/itertools.html '\n",
    "import itertools\n",
    "x = itertools.cycle('123')\n",
    "print(type(x).__name__)"
   ]
  },
  {
   "cell_type": "markdown",
   "metadata": {},
   "source": [
    "## Q38. Write the Python program to count the number of students of individual class?"
   ]
  },
  {
   "cell_type": "raw",
   "metadata": {},
   "source": [
    "Sample data- \n",
    "classes = ( \n",
    "('V', 1), \n",
    "('VI', 1), \n",
    "('V', 2), \n",
    "('VI', 2), \n",
    "('VI', 3), \n",
    "('VII', 1), \n",
    ") \n",
    "\n",
    "Expected Output- \n",
    "Counter({'VI': 3, 'V': 2, 'VII': 1})"
   ]
  },
  {
   "cell_type": "code",
   "execution_count": 41,
   "metadata": {},
   "outputs": [
    {
     "name": "stdout",
     "output_type": "stream",
     "text": [
      "Counter({'VI': 3, 'V': 2, 'VII': 1})\n"
     ]
    }
   ],
   "source": [
    "from collections import Counter\n",
    "\n",
    "classes = (\n",
    "    ('V', 1),\n",
    "    ('VI', 1),\n",
    "    ('V', 2),\n",
    "    ('VI', 2),\n",
    "    ('VI', 3),\n",
    "    ('VII', 1),\n",
    ")\n",
    "\n",
    "students = Counter(class_name for class_name, no_students in classes)\n",
    "print(students)"
   ]
  },
  {
   "cell_type": "markdown",
   "metadata": {},
   "source": [
    "## Q39. Write the Python program to create an instance of an OrderedDict using the given dictionary and sort dictionary during the creation and print members of the dictionary in reverse order?"
   ]
  },
  {
   "cell_type": "raw",
   "metadata": {},
   "source": [
    "Expected Output- \n",
    "Angola 244. \n",
    "Andorra 376. \n",
    "Algeria 213. \n",
    "Afghanistan 93. \n",
    "Albania 355. \n",
    "\n",
    "In reverse order- \n",
    "Albania 355. \n",
    "Afghanistan 93. \n",
    "Algeria 213. \n",
    "Andorra 376. \n",
    "Angola 244."
   ]
  },
  {
   "cell_type": "code",
   "execution_count": 42,
   "metadata": {},
   "outputs": [
    {
     "name": "stdout",
     "output_type": "stream",
     "text": [
      "Ordered Dict\n",
      "Angola 244\n",
      "Andorra 376\n",
      "Algeria 213\n",
      "Afghanistan 93\n",
      "Albania 355\n",
      "\n",
      "In reverse order:\n",
      "Albania 355\n",
      "Afghanistan 93\n",
      "Algeria 213\n",
      "Andorra 376\n",
      "Angola 244\n"
     ]
    }
   ],
   "source": [
    "from collections import OrderedDict\n",
    "\n",
    "dict = {'Angola': 244, 'Andorra': 376, 'Algeria': 213, 'Afghanistan': 93, 'Albania': 355 }\n",
    "\n",
    "new_dict = OrderedDict(dict.items())\n",
    "print('Ordered Dict')\n",
    "for key in new_dict:\n",
    "    print (key, new_dict[key])\n",
    "    \n",
    "print()\n",
    "\n",
    "print(\"In reverse order:\")\n",
    "for key in reversed(new_dict):\n",
    "    print (key, new_dict[key])"
   ]
  },
  {
   "cell_type": "markdown",
   "metadata": {},
   "source": [
    "## Q40. Write the Python program to compare two unordered lists (not sets)?\n",
    "- Expected Output: False"
   ]
  },
  {
   "cell_type": "code",
   "execution_count": 43,
   "metadata": {},
   "outputs": [
    {
     "name": "stdout",
     "output_type": "stream",
     "text": [
      "True\n",
      "False\n"
     ]
    }
   ],
   "source": [
    "from collections import Counter\n",
    "\n",
    "def compareLists(x, y):\n",
    "    return Counter(x) == Counter(y)\n",
    "\n",
    "print(compareLists([1,2,3,4,5], [1,2,3,4,5]))\n",
    "print(compareLists([1,2,3,4,5], [6,7,8,9,10]))"
   ]
  },
  {
   "cell_type": "markdown",
   "metadata": {},
   "source": [
    "## Q41. Write the Python program to get an array buffer information? "
   ]
  },
  {
   "cell_type": "raw",
   "metadata": {},
   "source": [
    "Expected Output-\n",
    "Array buffer start address in memory and number of elements. \n",
    "(25855056, 2)"
   ]
  },
  {
   "cell_type": "code",
   "execution_count": 44,
   "metadata": {},
   "outputs": [
    {
     "name": "stdout",
     "output_type": "stream",
     "text": [
      "Array buffer start address in memory and number of elements.\n",
      "(2839340525648, 2)\n"
     ]
    }
   ],
   "source": [
    "from array import array\n",
    "\n",
    "array1 = array('i', (7, 8))\n",
    "print(\"Array buffer start address in memory and number of elements.\")\n",
    "print(array1.buffer_info())"
   ]
  },
  {
   "cell_type": "markdown",
   "metadata": {},
   "source": [
    "## Q42. Write the Python program to convert an array to an array of machine values and return the bytes representation?"
   ]
  },
  {
   "cell_type": "raw",
   "metadata": {},
   "source": [
    "Expected Output- \n",
    "Original array- \n",
    "A1: array('i', [1, 2, 3, 4, 5, 6]) \n",
    "Array of bytes: \n",
    "b'010000000200000003000000040000000500000006000000'"
   ]
  },
  {
   "cell_type": "code",
   "execution_count": 48,
   "metadata": {},
   "outputs": [
    {
     "name": "stdout",
     "output_type": "stream",
     "text": [
      "Original array - \n",
      "A1: array('i', [7, 8])\n",
      "Array of bytes:\n",
      "b'010000000200000003000000040000000400000006000000'\n"
     ]
    }
   ],
   "source": [
    "import binascii\n",
    "from array import *\n",
    "print(\"Original array - \")\n",
    "A1 = array('i', [1, 2, 3, 4,  4, 6])\n",
    "print('A1:',array1)\n",
    "print('Array of bytes:')\n",
    "print(binascii.hexlify(A1.tobytes()))"
   ]
  },
  {
   "cell_type": "markdown",
   "metadata": {},
   "source": [
    "## Q43. Write the Python program to read a string and interpreting the string as an array of machine values?"
   ]
  },
  {
   "cell_type": "raw",
   "metadata": {},
   "source": [
    "Expected Output- \n",
    "array1- array('i', [7, 8, 9, 10]) \n",
    "Bytes- b'0700000008000000090000000a000000' \n",
    "array2- array('i', [7, 8, 9, 10])"
   ]
  },
  {
   "cell_type": "code",
   "execution_count": 49,
   "metadata": {},
   "outputs": [
    {
     "name": "stdout",
     "output_type": "stream",
     "text": [
      "array1: array('i', [7, 8, 9, 10])\n",
      "Bytes: b'0700000008000000090000000a000000'\n",
      "array2: array('i', [7, 8, 9, 10])\n"
     ]
    }
   ],
   "source": [
    "from array import array\n",
    "import binascii\n",
    "\n",
    "'API Reference : https://docs.python.org/3.1/library/binascii.html'\n",
    "array1 = array('i', [7, 8, 9, 10])\n",
    "print('array1:', array1)\n",
    "\n",
    "as_bytes = array1.tobytes()\n",
    "# Return the hexadecimal representation of the binary data. \n",
    "# Every byte of data is converted into the corresponding 2-digit hex representation. \n",
    "# The resulting string is therefore twice as long as the length of data.\n",
    "print('Bytes:', binascii.hexlify(as_bytes))\n",
    "\n",
    "array2 = array('i')\n",
    "array2.frombytes(as_bytes)\n",
    "print('array2:', array2)\n"
   ]
  },
  {
   "cell_type": "markdown",
   "metadata": {},
   "source": [
    "## Q44. Write the Python program to push three items into the heap and return the smallest item from the heap. Also, return and pop the smallest item from the heap?\n"
   ]
  },
  {
   "cell_type": "raw",
   "metadata": {},
   "source": [
    "Expected Output- \n",
    "Items in the heap- \n",
    "('VI', 1). \n",
    "('VII', 3). \n",
    "('VIII', 2). \n",
    "---------------------- \n",
    "The smallest item in the heap: ('VI', 1). \n",
    "---------------------- \n",
    "Pop the smallest item in the heap: \n",
    "('VII', 2). \n",
    "('VIII', 3)."
   ]
  },
  {
   "cell_type": "code",
   "execution_count": 50,
   "metadata": {},
   "outputs": [
    {
     "name": "stdout",
     "output_type": "stream",
     "text": [
      "Items in the heap:\n",
      "('VI', 1)\n",
      "('VII', 3)\n",
      "('VIII', 2)\n",
      "----------------------\n",
      "The smallest item in the heap: ('VI', 1)\n",
      "----------------------\n",
      "Pop the smallest item in the heap:\n",
      "('VII', 3)\n",
      "('VIII', 2)\n"
     ]
    }
   ],
   "source": [
    "'API Refernce : https://docs.python.org/2/library/heapq.html'\n",
    "\n",
    "import heapq\n",
    "heap = []\n",
    "heapq.heappush(heap, ('VI', 1))\n",
    "heapq.heappush(heap, ('VII', 3))\n",
    "heapq.heappush(heap, ('VIII', 2))\n",
    "print(\"Items in the heap:\")\n",
    "for a in heap:\n",
    "    print(a)\n",
    "    \n",
    "print(\"----------------------\")\n",
    "print(\"The smallest item in the heap:\",heapq.heappop(heap))\n",
    "print(\"----------------------\")\n",
    "print('Pop the smallest item in the heap:')\n",
    "for a in heap:\n",
    "    print(a)"
   ]
  },
  {
   "cell_type": "markdown",
   "metadata": {},
   "source": [
    "## Q45. Write the Python program to locate the left insertion point for a specified value in sorted order?"
   ]
  },
  {
   "cell_type": "markdown",
   "metadata": {},
   "source": [
    "Expected Output: \n",
    "4 \n",
    "2"
   ]
  },
  {
   "cell_type": "code",
   "execution_count": 51,
   "metadata": {},
   "outputs": [
    {
     "name": "stdout",
     "output_type": "stream",
     "text": [
      "4\n",
      "2\n"
     ]
    }
   ],
   "source": [
    "'Ref : https://docs.python.org/2/library/bisect.html'\n",
    "\n",
    "import bisect\n",
    "def index(a, x):\n",
    "    i = bisect.bisect_left(a, x)\n",
    "    return i\n",
    "    \n",
    "a = [1,2,4,5]\n",
    "print(index(a, 6))\n",
    "print(index(a, 3))"
   ]
  },
  {
   "cell_type": "markdown",
   "metadata": {},
   "source": [
    "## Q46. Write the Python program to create the FIFO queue?"
   ]
  },
  {
   "cell_type": "markdown",
   "metadata": {},
   "source": [
    "Expected Output: \n",
    "0 1 2 3"
   ]
  },
  {
   "cell_type": "code",
   "execution_count": 52,
   "metadata": {},
   "outputs": [
    {
     "name": "stdout",
     "output_type": "stream",
     "text": [
      "deque([])\n",
      "--- insert data into queue\n",
      "deque([1, 2, 3])\n",
      "--- read data from queue\n",
      "1\n",
      "2\n",
      "3\n"
     ]
    }
   ],
   "source": [
    "import queue\n",
    "\n",
    "q = queue.Queue()\n",
    "print(q.queue)\n",
    "\n",
    "# insert data\n",
    "print('--- insert data into queue')\n",
    "q.put(1)\n",
    "q.put(2)\n",
    "q.put(3)\n",
    "\n",
    "print(q.queue)\n",
    "\n",
    "print('--- read data from queue')\n",
    "# get the data\n",
    "while not q.empty() :\n",
    "    print(q.get())"
   ]
  },
  {
   "cell_type": "markdown",
   "metadata": {},
   "source": [
    "## Q47. Write the Python program to calculate the harmonic sum of n-1. Note: The harmonic sum is the sum of reciprocals of the positive Integers?"
   ]
  },
  {
   "cell_type": "raw",
   "metadata": {},
   "source": [
    "Example:\n",
    "    1 + 1/2 +1/3 + 1/4 + 1/5 + ---"
   ]
  },
  {
   "cell_type": "code",
   "execution_count": 53,
   "metadata": {},
   "outputs": [
    {
     "name": "stdout",
     "output_type": "stream",
     "text": [
      "2.283333333333333\n"
     ]
    }
   ],
   "source": [
    "def getHarmonicSum(n):\n",
    "    i = 1\n",
    "    sum = 0\n",
    "    for i in range(1, n+1):\n",
    "        sum = sum + 1/i\n",
    "    return sum\n",
    "        \n",
    "print(getHarmonicSum(5))"
   ]
  }
 ],
 "metadata": {
  "kernelspec": {
   "display_name": "Python 3",
   "language": "python",
   "name": "python3"
  },
  "language_info": {
   "codemirror_mode": {
    "name": "ipython",
    "version": 3
   },
   "file_extension": ".py",
   "mimetype": "text/x-python",
   "name": "python",
   "nbconvert_exporter": "python",
   "pygments_lexer": "ipython3",
   "version": "3.7.1"
  }
 },
 "nbformat": 4,
 "nbformat_minor": 2
}
