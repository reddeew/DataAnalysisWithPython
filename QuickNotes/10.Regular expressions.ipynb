{
 "cells": [
  {
   "cell_type": "markdown",
   "metadata": {},
   "source": [
    "# Regular expressions"
   ]
  },
  {
   "attachments": {},
   "cell_type": "markdown",
   "metadata": {},
   "source": [
    "Regular expressions are a powerful language for matching strings of text, such as particular characters, words, or patterns of characters. Python provides module 're' to support regular expressions."
   ]
  },
  {
   "cell_type": "code",
   "execution_count": 1,
   "metadata": {},
   "outputs": [],
   "source": [
    "# import module 're'\n",
    "import re"
   ]
  },
  {
   "cell_type": "markdown",
   "metadata": {},
   "source": [
    "## Search for Pattern"
   ]
  },
  {
   "cell_type": "markdown",
   "metadata": {},
   "source": [
    "re.search() function is used to find the first and leftmost match for a pattern."
   ]
  },
  {
   "cell_type": "code",
   "execution_count": 2,
   "metadata": {},
   "outputs": [
    {
     "name": "stdout",
     "output_type": "stream",
     "text": [
      "Match\n",
      "ll\n"
     ]
    }
   ],
   "source": [
    "match = re.search(r'll', 'Hello')\n",
    "if match :\n",
    "    print('Match')\n",
    "else :\n",
    "    print('Not Match')\n",
    "print(match.group())"
   ]
  },
  {
   "cell_type": "code",
   "execution_count": 3,
   "metadata": {},
   "outputs": [
    {
     "name": "stdout",
     "output_type": "stream",
     "text": [
      "None\n"
     ]
    }
   ],
   "source": [
    "print(re.search(r'lal', 'Hello'))"
   ]
  },
  {
   "cell_type": "markdown",
   "metadata": {},
   "source": [
    "Search for the pattern through the string from start and checks for the pattern to match, if match founds then match is not None and match.group() will be the matched text otherwise match will be None."
   ]
  },
  {
   "cell_type": "markdown",
   "metadata": {},
   "source": [
    "### dot '.' : any char"
   ]
  },
  {
   "cell_type": "code",
   "execution_count": 4,
   "metadata": {},
   "outputs": [
    {
     "name": "stdout",
     "output_type": "stream",
     "text": [
      "False\n",
      "Hello\n"
     ]
    }
   ],
   "source": [
    "match = re.search(r'..ll.', 'Hello')\n",
    "print(match is None)\n",
    "print(match.group())"
   ]
  },
  {
   "cell_type": "markdown",
   "metadata": {},
   "source": [
    "### \\d : digit char"
   ]
  },
  {
   "cell_type": "code",
   "execution_count": 5,
   "metadata": {},
   "outputs": [
    {
     "name": "stdout",
     "output_type": "stream",
     "text": [
      "False\n",
      "123\n",
      "True\n"
     ]
    },
    {
     "ename": "AttributeError",
     "evalue": "'NoneType' object has no attribute 'group'",
     "output_type": "error",
     "traceback": [
      "\u001b[1;31m---------------------------------------------------------------------------\u001b[0m",
      "\u001b[1;31mAttributeError\u001b[0m                            Traceback (most recent call last)",
      "\u001b[1;32m<ipython-input-5-17a4de8d6f71>\u001b[0m in \u001b[0;36m<module>\u001b[1;34m\u001b[0m\n\u001b[0;32m      5\u001b[0m \u001b[0mmatch\u001b[0m \u001b[1;33m=\u001b[0m \u001b[0mre\u001b[0m\u001b[1;33m.\u001b[0m\u001b[0msearch\u001b[0m\u001b[1;33m(\u001b[0m\u001b[1;34mr'\\d\\d\\d'\u001b[0m\u001b[1;33m,\u001b[0m \u001b[1;34m'Hello'\u001b[0m\u001b[1;33m)\u001b[0m\u001b[1;33m\u001b[0m\u001b[1;33m\u001b[0m\u001b[0m\n\u001b[0;32m      6\u001b[0m \u001b[0mprint\u001b[0m\u001b[1;33m(\u001b[0m\u001b[0mmatch\u001b[0m \u001b[1;32mis\u001b[0m \u001b[1;32mNone\u001b[0m\u001b[1;33m)\u001b[0m\u001b[1;33m\u001b[0m\u001b[1;33m\u001b[0m\u001b[0m\n\u001b[1;32m----> 7\u001b[1;33m \u001b[0mprint\u001b[0m\u001b[1;33m(\u001b[0m\u001b[0mmatch\u001b[0m\u001b[1;33m.\u001b[0m\u001b[0mgroup\u001b[0m\u001b[1;33m(\u001b[0m\u001b[1;33m)\u001b[0m\u001b[1;33m)\u001b[0m\u001b[1;33m\u001b[0m\u001b[1;33m\u001b[0m\u001b[0m\n\u001b[0m",
      "\u001b[1;31mAttributeError\u001b[0m: 'NoneType' object has no attribute 'group'"
     ]
    }
   ],
   "source": [
    "match = re.search(r'\\d\\d\\d', 'Hello123')\n",
    "print(match is None)\n",
    "print(match.group())\n",
    "\n",
    "match = re.search(r'\\d\\d\\d', 'Hello')\n",
    "print(match is None)\n",
    "print(match.group())"
   ]
  },
  {
   "cell_type": "markdown",
   "metadata": {},
   "source": [
    "### \\w : word"
   ]
  },
  {
   "cell_type": "code",
   "execution_count": 6,
   "metadata": {},
   "outputs": [
    {
     "name": "stdout",
     "output_type": "stream",
     "text": [
      "Match Found :  Hel\n",
      "Match Not Found\n"
     ]
    }
   ],
   "source": [
    "match = re.search(r'\\w\\w\\w', '#Hello123')\n",
    "if match :\n",
    "    print('Match Found : ', match.group())\n",
    "else :\n",
    "    print('Match Not Found')\n",
    "\n",
    "match = re.search(r'\\w\\w\\w', '###')\n",
    "if match :\n",
    "    print('Match Found : ', match.group())\n",
    "else :\n",
    "    print('Match Not Found')"
   ]
  },
  {
   "cell_type": "markdown",
   "metadata": {},
   "source": [
    "### '+' Plus : 1 or more occurrences of the pattern to its left"
   ]
  },
  {
   "cell_type": "code",
   "execution_count": 7,
   "metadata": {},
   "outputs": [
    {
     "name": "stdout",
     "output_type": "stream",
     "text": [
      "False\n",
      "Helllllo\n",
      "False\n",
      "Hello\n"
     ]
    }
   ],
   "source": [
    "match = re.search(r'Hel+o', 'Helllllo Python')\n",
    "print(match is None)\n",
    "print(match.group())\n",
    "\n",
    "match = re.search(r'Hel+o', 'Hello Helllo Python')\n",
    "print(match is None)\n",
    "print(match.group())"
   ]
  },
  {
   "cell_type": "markdown",
   "metadata": {},
   "source": [
    "#### Note: Search for the first and leftmost match for the pattern and ignores if it founds any patterns after the first match."
   ]
  },
  {
   "cell_type": "markdown",
   "metadata": {},
   "source": [
    "### # '*' : 0 or more occurrences of the pattern to its left"
   ]
  },
  {
   "cell_type": "code",
   "execution_count": 8,
   "metadata": {},
   "outputs": [
    {
     "name": "stdout",
     "output_type": "stream",
     "text": [
      "False\n",
      " 123  \n"
     ]
    }
   ],
   "source": [
    "match = re.search(r'\\s\\d*\\s*', 'abc 123  def 456')\n",
    "print(match is None)\n",
    "print(match.group())"
   ]
  },
  {
   "cell_type": "code",
   "execution_count": 9,
   "metadata": {},
   "outputs": [
    {
     "name": "stdout",
     "output_type": "stream",
     "text": [
      "Match Found :  mailtosatish@gmail.com\n"
     ]
    }
   ],
   "source": [
    "match = re.search(r'\\w+@\\w+.com', 'mailtosatish@gmail.com')\n",
    "if match :\n",
    "    print('Match Found : ', match.group())\n",
    "else :\n",
    "    print('Match Not Found')"
   ]
  },
  {
   "cell_type": "code",
   "execution_count": 10,
   "metadata": {},
   "outputs": [
    {
     "name": "stdout",
     "output_type": "stream",
     "text": [
      "Match Found :  satish@gmail.com\n"
     ]
    }
   ],
   "source": [
    "match = re.search(r'\\w+@\\w+.com', 'mailto-satish@gmail.com')\n",
    "if match :\n",
    "    print('Match Found : ', match.group())\n",
    "else :\n",
    "    print('Match Not Found')"
   ]
  },
  {
   "cell_type": "markdown",
   "metadata": {},
   "source": [
    "#### Note: Here we won't get the complete email address, since '\\w' does notmatch the '-' char."
   ]
  },
  {
   "cell_type": "code",
   "execution_count": 11,
   "metadata": {},
   "outputs": [
    {
     "name": "stdout",
     "output_type": "stream",
     "text": [
      "Match Found :  mailto-satish@gmail.com\n"
     ]
    }
   ],
   "source": [
    "match = re.search(r'[\\w-]+@\\w+.com', 'mailto-satish@gmail.com')\n",
    "if match :\n",
    "    print('Match Found : ', match.group())    \n",
    "else :\n",
    "    print('Match Not Found')"
   ]
  },
  {
   "cell_type": "markdown",
   "metadata": {},
   "source": [
    "Square brackets can be used to indicate a set of chars, so [ab-] matches 'a' or 'b' or '-'. '-' can also use to indicate a range, so [a-z] matches all lowercase letters. \n",
    "\n",
    "Note : up-hat (^) at the start of a square-bracket set inverts it, so [^ab] means any char except 'a' or 'b'."
   ]
  },
  {
   "cell_type": "markdown",
   "metadata": {},
   "source": [
    "#### Extact the username and host from the email address by adding parenthesis '( )' in the pattern"
   ]
  },
  {
   "cell_type": "code",
   "execution_count": 12,
   "metadata": {},
   "outputs": [
    {
     "name": "stdout",
     "output_type": "stream",
     "text": [
      "Match Found :  mailto-satish@gmail.com\n",
      "user name :  mailto-satish\n",
      "host :  gmail\n"
     ]
    }
   ],
   "source": [
    "match = re.search(r'([\\w-]+)@(\\w+).com', 'mailto-satish@gmail.com')\n",
    "if match :\n",
    "    print('Match Found : ', match.group())    \n",
    "    print('user name : ', match.group(1)) \n",
    "    print('host : ', match.group(2)) \n",
    "else :\n",
    "    print('Match Not Found')"
   ]
  },
  {
   "cell_type": "markdown",
   "metadata": {},
   "source": [
    "## re.findall() "
   ]
  },
  {
   "cell_type": "markdown",
   "metadata": {},
   "source": [
    "re.search() function is used to find the first and leftmost match for a pattern, where as findall() finds all the matches and returns them as a list of strings, with each string representing one match."
   ]
  },
  {
   "cell_type": "code",
   "execution_count": 13,
   "metadata": {},
   "outputs": [
    {
     "name": "stdout",
     "output_type": "stream",
     "text": [
      "lst1 =  ['shipment-tracking@amazon.in', 'no-reply@amazon.in']\n",
      "lst2 =  ['shipment-tracking@amazon.in', 'no-reply@amazon.in']\n"
     ]
    }
   ],
   "source": [
    "msg = 'Got invoice email from shipment-tracking@amazon.in and no-reply@amazon.in about the product that bought'\n",
    "lst1 = re.findall(r'[\\w-]+@\\w+.in', msg)\n",
    "print('lst1 = ',lst1)\n",
    "\n",
    "lst2 = re.findall('\\S+@\\S+', msg)\n",
    "print('lst2 = ',lst2)"
   ]
  },
  {
   "cell_type": "code",
   "execution_count": 14,
   "metadata": {},
   "outputs": [
    {
     "name": "stdout",
     "output_type": "stream",
     "text": [
      "lst3 =  [('shipment-tracking', 'amazon'), ('no-reply', 'amazon')]\n",
      "user name :  shipment-tracking\n",
      "host :  amazon\n",
      "user name :  no-reply\n",
      "host :  amazon\n"
     ]
    }
   ],
   "source": [
    "lst3 = re.findall(r'([\\w-]+)@(\\w+).in', msg)\n",
    "print('lst3 = ',lst3)\n",
    "\n",
    "for email in lst3:\n",
    "    print('user name : ', email[0]) \n",
    "    print('host : ', email[1])"
   ]
  },
  {
   "cell_type": "markdown",
   "metadata": {},
   "source": [
    "## Python Regular Expression Quick Guide"
   ]
  },
  {
   "cell_type": "raw",
   "metadata": {},
   "source": [
    "*        Repeats a character zero or more times (append ? for non-greedy)\n",
    "+        Repeats a character one or more times (append ? for non-greedy)\n",
    "^        Matches the beginning of a line\n",
    "$        Matches the end of the line\n",
    ".        Matches any character\n",
    "\\s       Matches whitespace [ \\t\\n\\r\\f\\v]\n",
    "\\S       Matches any non-whitespace character\n",
    "\\d       Matches any digit\n",
    "\\D       Matches any non-digit\n",
    "\\A       Matches the start of string\n",
    "\\Z       Matches the end of string\n",
    "\\w       Matches any alphanumeric: [0-9a-zA-Z_]\n",
    "\\W       Matches any non-alphanumeric\n",
    "\\b       Matches empty string at word boundary (between \\w and \\W)\n",
    "\\B       Matches empty string not at word boundary\n",
    "[aeiou]  Matches a single character in the listed set\n",
    "[^XYZ]   Matches a single character not in the listed set\n",
    "[a-z0-9] The set of characters can include a range\n",
    "R|S      Matches either regex R or regex S\n",
    "(        Indicates where string extraction is to start\n",
    ")        Indicates where string extraction is to end"
   ]
  },
  {
   "cell_type": "markdown",
   "metadata": {},
   "source": [
    "#### References: "
   ]
  },
  {
   "cell_type": "markdown",
   "metadata": {},
   "source": [
    "http://www.pyregex.com/"
   ]
  }
 ],
 "metadata": {
  "kernelspec": {
   "display_name": "Python 3",
   "language": "python",
   "name": "python3"
  },
  "language_info": {
   "codemirror_mode": {
    "name": "ipython",
    "version": 3
   },
   "file_extension": ".py",
   "mimetype": "text/x-python",
   "name": "python",
   "nbconvert_exporter": "python",
   "pygments_lexer": "ipython3",
   "version": "3.7.3"
  }
 },
 "nbformat": 4,
 "nbformat_minor": 2
}
