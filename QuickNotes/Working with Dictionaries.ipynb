{
 "cells": [
  {
   "cell_type": "markdown",
   "metadata": {},
   "source": [
    "## Dictionaries"
   ]
  },
  {
   "cell_type": "markdown",
   "metadata": {},
   "source": [
    "Dictionaries are like List, in case of List index positions have to be integer but in a dictionary, the indices can be any type.\n",
    "\n",
    "Dictonaries are collection of Key-Value pairs and lookup the values using keys."
   ]
  },
  {
   "cell_type": "markdown",
   "metadata": {},
   "source": [
    "### Define a Dictionarie"
   ]
  },
  {
   "cell_type": "code",
   "execution_count": 6,
   "metadata": {},
   "outputs": [
    {
     "name": "stdout",
     "output_type": "stream",
     "text": [
      "{'one': 1, 'two': 2, 'three': 3}\n"
     ]
    }
   ],
   "source": [
    "dict1 = {'one':1, 'two':2,'three':3}\n",
    "print(dict1)"
   ]
  },
  {
   "cell_type": "code",
   "execution_count": 7,
   "metadata": {},
   "outputs": [
    {
     "name": "stdout",
     "output_type": "stream",
     "text": [
      "{}\n"
     ]
    }
   ],
   "source": [
    "dict2 = dict()\n",
    "print(dict2)"
   ]
  },
  {
   "cell_type": "code",
   "execution_count": 8,
   "metadata": {},
   "outputs": [
    {
     "name": "stdout",
     "output_type": "stream",
     "text": [
      "{'one': 1, 'two': 2, 'three': 3}\n"
     ]
    }
   ],
   "source": [
    "dict2['one'] = 1\n",
    "dict2['two'] = 2\n",
    "dict2['three'] = 3\n",
    "print(dict2)"
   ]
  },
  {
   "cell_type": "markdown",
   "metadata": {},
   "source": [
    "### Lookup the elements "
   ]
  },
  {
   "cell_type": "code",
   "execution_count": 9,
   "metadata": {},
   "outputs": [
    {
     "name": "stdout",
     "output_type": "stream",
     "text": [
      "1\n"
     ]
    }
   ],
   "source": [
    "print(dict2['one'])"
   ]
  },
  {
   "cell_type": "code",
   "execution_count": 10,
   "metadata": {},
   "outputs": [
    {
     "data": {
      "text/plain": [
       "True"
      ]
     },
     "execution_count": 10,
     "metadata": {},
     "output_type": "execute_result"
    }
   ],
   "source": [
    "'two' in dict2"
   ]
  },
  {
   "cell_type": "code",
   "execution_count": 11,
   "metadata": {},
   "outputs": [
    {
     "data": {
      "text/plain": [
       "False"
      ]
     },
     "execution_count": 11,
     "metadata": {},
     "output_type": "execute_result"
    }
   ],
   "source": [
    "'four' in dict2"
   ]
  },
  {
   "cell_type": "code",
   "execution_count": 22,
   "metadata": {},
   "outputs": [
    {
     "name": "stdout",
     "output_type": "stream",
     "text": [
      "-1\n"
     ]
    }
   ],
   "source": [
    "print(dict2.get('four',-1))"
   ]
  },
  {
   "cell_type": "markdown",
   "metadata": {},
   "source": [
    "### Dictionaries Functions"
   ]
  },
  {
   "cell_type": "code",
   "execution_count": 13,
   "metadata": {},
   "outputs": [
    {
     "name": "stdout",
     "output_type": "stream",
     "text": [
      "Dictionarie length : 3\n"
     ]
    }
   ],
   "source": [
    "print('Dictionarie length :',len(dict1))"
   ]
  },
  {
   "cell_type": "code",
   "execution_count": 15,
   "metadata": {},
   "outputs": [
    {
     "name": "stdout",
     "output_type": "stream",
     "text": [
      "[1, 2, 3]\n"
     ]
    }
   ],
   "source": [
    "# get the values as List\n",
    "values = list(dict1.values())\n",
    "print(values)"
   ]
  },
  {
   "cell_type": "code",
   "execution_count": 16,
   "metadata": {},
   "outputs": [
    {
     "name": "stdout",
     "output_type": "stream",
     "text": [
      "['one', 'two', 'three']\n"
     ]
    }
   ],
   "source": [
    "# get the Keys as List\n",
    "keys = list(dict1.keys())\n",
    "print(keys)"
   ]
  },
  {
   "cell_type": "markdown",
   "metadata": {},
   "source": [
    "### Looping on dictionaries"
   ]
  },
  {
   "cell_type": "code",
   "execution_count": 18,
   "metadata": {},
   "outputs": [
    {
     "name": "stdout",
     "output_type": "stream",
     "text": [
      "{'one': 1, 'two': 2, 'three': 3}\n"
     ]
    }
   ],
   "source": [
    "print(dict1)"
   ]
  },
  {
   "cell_type": "code",
   "execution_count": 20,
   "metadata": {},
   "outputs": [
    {
     "name": "stdout",
     "output_type": "stream",
     "text": [
      "one 1\n",
      "two 2\n",
      "three 3\n"
     ]
    }
   ],
   "source": [
    "for key in dict1:\n",
    "    print(key, dict1[key])"
   ]
  },
  {
   "cell_type": "markdown",
   "metadata": {},
   "source": [
    "### Get the WordCount of a given file"
   ]
  },
  {
   "cell_type": "code",
   "execution_count": 23,
   "metadata": {},
   "outputs": [
    {
     "name": "stdout",
     "output_type": "stream",
     "text": [
      "Enter the File path : D:\\Python\\sample-data\\python.txt\n",
      "D:\\Python\\sample-data\\python.txt\n"
     ]
    }
   ],
   "source": [
    "fileName = input(\"Enter the File path : \")\n",
    "print(fileName)"
   ]
  },
  {
   "cell_type": "code",
   "execution_count": 25,
   "metadata": {},
   "outputs": [
    {
     "name": "stdout",
     "output_type": "stream",
     "text": [
      "{'Python': 2, 'is': 3, 'one': 1, 'of': 2, 'those': 1, 'rare': 1, 'languages': 1, 'which': 1, 'can': 1, 'claim': 1, 'to': 6, 'be': 1, 'both': 1, 'simple': 2, 'and': 5, 'powerful.': 1, 'You': 1, 'will': 1, 'find': 1, 'yourself': 1, 'pleasantly': 1, 'surprised': 1, 'see': 1, 'how': 1, 'easy': 2, 'it': 2, 'concentrate': 1, 'on': 2, 'the': 4, 'solution': 1, 'problem': 1, 'rather': 1, 'than': 1, 'syntax': 2, 'structure': 1, 'language': 2, 'you': 1, 'are': 1, 'programming': 2, 'in.': 1, 'an': 2, 'learn,': 1, 'powerful': 1, 'language.': 1, 'It': 1, 'has': 1, 'efficient': 1, 'high-level': 1, 'data': 1, 'structures': 1, 'a': 1, 'but': 1, 'effective': 1, 'approach': 1, 'object-oriented': 1, 'programming.': 1, \"Python's\": 1, 'elegant': 1, 'dynamic': 1, 'typing,': 1, 'together': 1, 'with': 1, 'its': 1, 'interpreted': 1, 'nature,': 1, 'make': 1, 'ideal': 1, 'for': 1, 'scripting': 1, 'rapid': 1, 'application': 1, 'development': 1, 'in': 1, 'many': 1, 'areas': 1, 'most': 1, 'platforms.': 1}\n"
     ]
    }
   ],
   "source": [
    "fdata = open(fileName)\n",
    "wcounts = dict()\n",
    "\n",
    "for line in fdata:\n",
    "    lwords = line.strip().split()\n",
    "    for word in lwords:\n",
    "        wcounts[word] = wcounts.get(word,0) + 1\n",
    "print(wcounts)"
   ]
  }
 ],
 "metadata": {
  "kernelspec": {
   "display_name": "Python 3",
   "language": "python",
   "name": "python3"
  },
  "language_info": {
   "codemirror_mode": {
    "name": "ipython",
    "version": 3
   },
   "file_extension": ".py",
   "mimetype": "text/x-python",
   "name": "python",
   "nbconvert_exporter": "python",
   "pygments_lexer": "ipython3",
   "version": "3.7.3"
  }
 },
 "nbformat": 4,
 "nbformat_minor": 2
}
