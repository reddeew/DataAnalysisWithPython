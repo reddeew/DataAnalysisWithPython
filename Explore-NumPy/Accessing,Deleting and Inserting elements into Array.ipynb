{
 "cells": [
  {
   "cell_type": "markdown",
   "metadata": {},
   "source": [
    "# Accessing, Deleting and Inserting elements into Array\n",
    "\n",
    "NumPy ndarrays are mutable, i.e the elements in ndarrays can be changed after the ndarray has been created. NumPy ndarrays can also be sliced, which means that ndarrays can be split in many different ways. This allows us, for example, to retrieve any subset of the ndarray that we want.\n",
    "\n",
    "Often in Machine Learning you will use slicing to separate data, as for example when dividing a data set into training, cross validation, and testing sets."
   ]
  },
  {
   "cell_type": "code",
   "execution_count": 1,
   "metadata": {},
   "outputs": [],
   "source": [
    "# Import the numpy module\n",
    "import numpy as np"
   ]
  },
  {
   "cell_type": "markdown",
   "metadata": {},
   "source": [
    "## Accessed by indexing\n",
    "\n",
    "NumPy also have provides similar API's that Python's standard list indexing to access the elements.Elements can be accessed using indices inside square brackets, [ ]. \n",
    "\n",
    "NumPy allows you to use both positive and negative indices to access elements in the ndarray. \n",
    "- Positive indices are used to access elements from the beginning of the array\n",
    "- Negative indices are used to access elements from the end of the array."
   ]
  },
  {
   "cell_type": "code",
   "execution_count": 2,
   "metadata": {},
   "outputs": [
    {
     "data": {
      "text/plain": [
       "array([5, 0, 3, 3, 7, 9])"
      ]
     },
     "execution_count": 2,
     "metadata": {},
     "output_type": "execute_result"
    }
   ],
   "source": [
    "np.random.seed(0)  # seed\n",
    "ndarray1 = np.random.randint(10, size=6)\n",
    "ndarray1"
   ]
  },
  {
   "cell_type": "code",
   "execution_count": 3,
   "metadata": {},
   "outputs": [
    {
     "name": "stdout",
     "output_type": "stream",
     "text": [
      "First Element :  5\n",
      "Second Element :  0\n",
      "Last Element :  9\n",
      "\n",
      "First Element :  5\n",
      "Second Element :  0\n",
      "Last Element :  9\n"
     ]
    }
   ],
   "source": [
    "# Access some elements with positive indices\n",
    "print ('First Element : ',ndarray1 [0])\n",
    "print ('Second Element : ',ndarray1 [1])\n",
    "print ('Last Element : ',ndarray1 [5])\n",
    "print()\n",
    "# Access the same elements with negative indices\n",
    "print ('First Element : ',ndarray1 [-6])\n",
    "print ('Second Element : ',ndarray1 [-5])\n",
    "print ('Last Element : ',ndarray1 [-1])"
   ]
  },
  {
   "cell_type": "markdown",
   "metadata": {},
   "source": [
    "Notice that to access the first element in the ndarray we have to use the index 0 not 1. Also notice, that the same element can be accessed using both positive and negative indices. \n",
    "\n",
    "So positive indices are used to access elements from the beginning of the array, while negative indices are used to access elements from the end of the array.\n",
    "\n",
    "Similarly, we can also access specific elements of rank 2 ndarrays. To access elements in rank 2 ndarrays we need to provide a comma-separated tuple of indices in the form **[row, column]**. "
   ]
  },
  {
   "cell_type": "code",
   "execution_count": 4,
   "metadata": {},
   "outputs": [
    {
     "data": {
      "text/plain": [
       "array([[5, 0, 3, 3],\n",
       "       [7, 9, 3, 5],\n",
       "       [2, 4, 7, 6]])"
      ]
     },
     "execution_count": 4,
     "metadata": {},
     "output_type": "execute_result"
    }
   ],
   "source": [
    "np.random.seed(0)  # seed\n",
    "ndarray2 = np.random.randint(10, size=(3, 4))  # Two-dimensional array\n",
    "ndarray2"
   ]
  },
  {
   "cell_type": "code",
   "execution_count": 5,
   "metadata": {},
   "outputs": [
    {
     "name": "stdout",
     "output_type": "stream",
     "text": [
      "Element at (0,0) : 5\n",
      "Element at (0,1) : 0\n",
      "Element at (2,2) : 7\n",
      "Element at (2,3) : 6\n",
      "Element at (0,0) type : <class 'numpy.int32'>\n"
     ]
    }
   ],
   "source": [
    "print('Element at (0,0) :', ndarray2[0,0])\n",
    "print('Element at (0,1) :', ndarray2[0,1])\n",
    "print('Element at (2,2) :', ndarray2[2,2])\n",
    "print('Element at (2,3) :', ndarray2[2,3])\n",
    "\n",
    "print('Element at (0,0) type :', type(ndarray2 [0,0]))"
   ]
  },
  {
   "cell_type": "code",
   "execution_count": 6,
   "metadata": {},
   "outputs": [
    {
     "name": "stdout",
     "output_type": "stream",
     "text": [
      "Element at (0) : [5 0 3 3]\n",
      "Element at (1) : [5 0 3 3]\n",
      "Element at (2) : [2 4 7 6]\n",
      "Element at (0) type : <class 'numpy.ndarray'>\n"
     ]
    }
   ],
   "source": [
    "print('Element at (0) :', ndarray2[0])\n",
    "print('Element at (1) :', ndarray2[0])\n",
    "print('Element at (2) :', ndarray2[2])\n",
    "\n",
    "print('Element at (0) type :', type(ndarray2 [0]))"
   ]
  },
  {
   "cell_type": "code",
   "execution_count": 7,
   "metadata": {},
   "outputs": [
    {
     "data": {
      "text/plain": [
       "array([[[8, 8, 1, 6, 7],\n",
       "        [7, 8, 1, 5, 9],\n",
       "        [8, 9, 4, 3, 0],\n",
       "        [3, 5, 0, 2, 3]],\n",
       "\n",
       "       [[8, 1, 3, 3, 3],\n",
       "        [7, 0, 1, 9, 9],\n",
       "        [0, 4, 7, 3, 2],\n",
       "        [7, 2, 0, 0, 4]],\n",
       "\n",
       "       [[5, 5, 6, 8, 4],\n",
       "        [1, 4, 9, 8, 1],\n",
       "        [1, 7, 9, 9, 3],\n",
       "        [6, 7, 2, 0, 3]]])"
      ]
     },
     "execution_count": 7,
     "metadata": {},
     "output_type": "execute_result"
    }
   ],
   "source": [
    "ndarray3 = np.random.randint(10, size=(3, 4, 5))  # Three-dimensional array\n",
    "ndarray3"
   ]
  },
  {
   "cell_type": "code",
   "execution_count": 8,
   "metadata": {},
   "outputs": [
    {
     "data": {
      "text/plain": [
       "array([[8, 8, 1, 6, 7],\n",
       "       [7, 8, 1, 5, 9],\n",
       "       [8, 9, 4, 3, 0],\n",
       "       [3, 5, 0, 2, 3]])"
      ]
     },
     "execution_count": 8,
     "metadata": {},
     "output_type": "execute_result"
    }
   ],
   "source": [
    "ndarray3 [0]"
   ]
  },
  {
   "cell_type": "code",
   "execution_count": 9,
   "metadata": {},
   "outputs": [
    {
     "data": {
      "text/plain": [
       "array([7, 8, 1, 5, 9])"
      ]
     },
     "execution_count": 9,
     "metadata": {},
     "output_type": "execute_result"
    }
   ],
   "source": [
    "ndarray3 [0 , 1]"
   ]
  },
  {
   "cell_type": "code",
   "execution_count": 10,
   "metadata": {},
   "outputs": [
    {
     "data": {
      "text/plain": [
       "1"
      ]
     },
     "execution_count": 10,
     "metadata": {},
     "output_type": "execute_result"
    }
   ],
   "source": [
    "ndarray3 [0 , 1, 2]"
   ]
  },
  {
   "cell_type": "markdown",
   "metadata": {},
   "source": [
    "## Modified by indexing \n",
    "\n",
    "We can change the elements in rank 1 ndarrays. We do this by accessing the element we want to change and then using the = sign to assign the new value"
   ]
  },
  {
   "cell_type": "code",
   "execution_count": 11,
   "metadata": {},
   "outputs": [
    {
     "data": {
      "text/plain": [
       "array([1, 2, 3, 4, 5])"
      ]
     },
     "execution_count": 11,
     "metadata": {},
     "output_type": "execute_result"
    }
   ],
   "source": [
    "nd1 = np.array([1,2,3,4,5])\n",
    "nd1"
   ]
  },
  {
   "cell_type": "code",
   "execution_count": 12,
   "metadata": {},
   "outputs": [
    {
     "data": {
      "text/plain": [
       "array([ 1,  2,  3, 24,  5])"
      ]
     },
     "execution_count": 12,
     "metadata": {},
     "output_type": "execute_result"
    }
   ],
   "source": [
    "# Change the fourth element in array from 4 to 24\n",
    "nd1[3] = 24\n",
    "nd1"
   ]
  },
  {
   "cell_type": "markdown",
   "metadata": {},
   "source": [
    "Similarly, we can also modify specific elements of rank 2 ndarrays. To access elements in rank 2 ndarrays we need to provide 2 indices in the form **[row, column]**. "
   ]
  },
  {
   "cell_type": "code",
   "execution_count": 13,
   "metadata": {},
   "outputs": [
    {
     "data": {
      "text/plain": [
       "array([[1, 2, 3],\n",
       "       [4, 5, 6],\n",
       "       [7, 8, 9]])"
      ]
     },
     "execution_count": 13,
     "metadata": {},
     "output_type": "execute_result"
    }
   ],
   "source": [
    "# Create a 3 x 3 rank 2 ndarray that contains integers from 1 to 9\n",
    "nd2 = np.array([[1,2,3],[4,5,6],[7,8,9]])\n",
    "nd2"
   ]
  },
  {
   "cell_type": "code",
   "execution_count": 14,
   "metadata": {},
   "outputs": [
    {
     "data": {
      "text/plain": [
       "array([[100,   2,   3],\n",
       "       [  4,   5,   6],\n",
       "       [  7,   8,   9]])"
      ]
     },
     "execution_count": 14,
     "metadata": {},
     "output_type": "execute_result"
    }
   ],
   "source": [
    "nd2[0,0] = 100\n",
    "nd2 "
   ]
  },
  {
   "cell_type": "code",
   "execution_count": 15,
   "metadata": {},
   "outputs": [
    {
     "data": {
      "text/plain": [
       "array([[[5, 9, 4, 4, 6],\n",
       "        [4, 4, 3, 4, 4],\n",
       "        [8, 4, 3, 7, 5],\n",
       "        [5, 0, 1, 5, 9]],\n",
       "\n",
       "       [[3, 0, 5, 0, 1],\n",
       "        [2, 4, 2, 0, 3],\n",
       "        [2, 0, 7, 5, 9],\n",
       "        [0, 2, 7, 2, 9]],\n",
       "\n",
       "       [[2, 3, 3, 2, 3],\n",
       "        [4, 1, 2, 9, 1],\n",
       "        [4, 6, 8, 2, 3],\n",
       "        [0, 0, 6, 0, 6]]])"
      ]
     },
     "execution_count": 15,
     "metadata": {},
     "output_type": "execute_result"
    }
   ],
   "source": [
    "nd3 = np.random.randint(10, size=(3, 4, 5))  # Three-dimensional array\n",
    "nd3"
   ]
  },
  {
   "cell_type": "code",
   "execution_count": 16,
   "metadata": {},
   "outputs": [
    {
     "data": {
      "text/plain": [
       "array([[[  5,   9,   4,   4,   6],\n",
       "        [  4,   4, 999,   4,   4],\n",
       "        [  8,   4,   3,   7,   5],\n",
       "        [  5,   0,   1,   5,   9]],\n",
       "\n",
       "       [[  3,   0,   5,   0,   1],\n",
       "        [  2,   4,   2,   0,   3],\n",
       "        [  2,   0,   7,   5,   9],\n",
       "        [  0,   2,   7,   2,   9]],\n",
       "\n",
       "       [[  2,   3,   3,   2,   3],\n",
       "        [  4,   1,   2,   9,   1],\n",
       "        [  4,   6,   8,   2,   3],\n",
       "        [  0,   0,   6,   0,   6]]])"
      ]
     },
     "execution_count": 16,
     "metadata": {},
     "output_type": "execute_result"
    }
   ],
   "source": [
    "nd3 [0 , 1, 2] = 999\n",
    "nd3"
   ]
  },
  {
   "cell_type": "markdown",
   "metadata": {},
   "source": [
    "## Add elements\n",
    "\n",
    "We can append values to ndarrays using the **np.append(ndarray, elements, axis)** function. This function appends the given list of elements to ndarray along the specified axis."
   ]
  },
  {
   "cell_type": "code",
   "execution_count": 17,
   "metadata": {},
   "outputs": [
    {
     "data": {
      "text/plain": [
       "array([1, 2, 3, 4, 5])"
      ]
     },
     "execution_count": 17,
     "metadata": {},
     "output_type": "execute_result"
    }
   ],
   "source": [
    "# create a rank 1 ndarray \n",
    "nd1 = np.array([1, 2, 3, 4, 5])\n",
    "nd1"
   ]
  },
  {
   "cell_type": "code",
   "execution_count": 18,
   "metadata": {},
   "outputs": [
    {
     "data": {
      "text/plain": [
       "array([1, 2, 3, 4, 5, 6, 7])"
      ]
     },
     "execution_count": 18,
     "metadata": {},
     "output_type": "execute_result"
    }
   ],
   "source": [
    "#append the integer 6 and 7 to x\n",
    "nd1 = np.append(nd1, [6,7])\n",
    "nd1"
   ]
  },
  {
   "cell_type": "code",
   "execution_count": 19,
   "metadata": {},
   "outputs": [
    {
     "data": {
      "text/plain": [
       "array([[1, 2, 3],\n",
       "       [4, 5, 6],\n",
       "       [7, 8, 9]])"
      ]
     },
     "execution_count": 19,
     "metadata": {},
     "output_type": "execute_result"
    }
   ],
   "source": [
    "# create a rank 2 ndarray\n",
    "nd2 = np.array([[1,2,3],[4,5,6],[7,8,9]])\n",
    "nd2"
   ]
  },
  {
   "cell_type": "code",
   "execution_count": 20,
   "metadata": {},
   "outputs": [
    {
     "data": {
      "text/plain": [
       "array([[1, 2, 3],\n",
       "       [4, 5, 6],\n",
       "       [7, 8, 9],\n",
       "       [1, 2, 3]])"
      ]
     },
     "execution_count": 20,
     "metadata": {},
     "output_type": "execute_result"
    }
   ],
   "source": [
    "# append a new row containing 1,2,3 \n",
    "nd2_0 = np.append(nd2, [[1,2,3]], axis=0)\n",
    "nd2_0"
   ]
  },
  {
   "cell_type": "code",
   "execution_count": 21,
   "metadata": {},
   "outputs": [
    {
     "ename": "ValueError",
     "evalue": "all the input array dimensions except for the concatenation axis must match exactly",
     "output_type": "error",
     "traceback": [
      "\u001b[1;31m---------------------------------------------------------------------------\u001b[0m",
      "\u001b[1;31mValueError\u001b[0m                                Traceback (most recent call last)",
      "\u001b[1;32m<ipython-input-21-29040168bc94>\u001b[0m in \u001b[0;36m<module>\u001b[1;34m\u001b[0m\n\u001b[0;32m      1\u001b[0m \u001b[1;31m# append a new column containing 99 and 99\u001b[0m\u001b[1;33m\u001b[0m\u001b[1;33m\u001b[0m\u001b[1;33m\u001b[0m\u001b[0m\n\u001b[1;32m----> 2\u001b[1;33m \u001b[0mnd2_1\u001b[0m \u001b[1;33m=\u001b[0m \u001b[0mnp\u001b[0m\u001b[1;33m.\u001b[0m\u001b[0mappend\u001b[0m\u001b[1;33m(\u001b[0m\u001b[0mnd2\u001b[0m\u001b[1;33m,\u001b[0m\u001b[1;33m[\u001b[0m\u001b[1;33m[\u001b[0m\u001b[1;36m99\u001b[0m\u001b[1;33m]\u001b[0m\u001b[1;33m,\u001b[0m\u001b[1;33m[\u001b[0m\u001b[1;36m99\u001b[0m\u001b[1;33m]\u001b[0m\u001b[1;33m]\u001b[0m\u001b[1;33m,\u001b[0m \u001b[0maxis\u001b[0m\u001b[1;33m=\u001b[0m\u001b[1;36m1\u001b[0m\u001b[1;33m)\u001b[0m\u001b[1;33m\u001b[0m\u001b[1;33m\u001b[0m\u001b[0m\n\u001b[0m\u001b[0;32m      3\u001b[0m \u001b[0mnd2_1\u001b[0m\u001b[1;33m\u001b[0m\u001b[1;33m\u001b[0m\u001b[0m\n",
      "\u001b[1;32m~\\Anaconda3\\lib\\site-packages\\numpy\\lib\\function_base.py\u001b[0m in \u001b[0;36mappend\u001b[1;34m(arr, values, axis)\u001b[0m\n\u001b[0;32m   4692\u001b[0m         \u001b[0mvalues\u001b[0m \u001b[1;33m=\u001b[0m \u001b[0mravel\u001b[0m\u001b[1;33m(\u001b[0m\u001b[0mvalues\u001b[0m\u001b[1;33m)\u001b[0m\u001b[1;33m\u001b[0m\u001b[1;33m\u001b[0m\u001b[0m\n\u001b[0;32m   4693\u001b[0m         \u001b[0maxis\u001b[0m \u001b[1;33m=\u001b[0m \u001b[0marr\u001b[0m\u001b[1;33m.\u001b[0m\u001b[0mndim\u001b[0m\u001b[1;33m-\u001b[0m\u001b[1;36m1\u001b[0m\u001b[1;33m\u001b[0m\u001b[1;33m\u001b[0m\u001b[0m\n\u001b[1;32m-> 4694\u001b[1;33m     \u001b[1;32mreturn\u001b[0m \u001b[0mconcatenate\u001b[0m\u001b[1;33m(\u001b[0m\u001b[1;33m(\u001b[0m\u001b[0marr\u001b[0m\u001b[1;33m,\u001b[0m \u001b[0mvalues\u001b[0m\u001b[1;33m)\u001b[0m\u001b[1;33m,\u001b[0m \u001b[0maxis\u001b[0m\u001b[1;33m=\u001b[0m\u001b[0maxis\u001b[0m\u001b[1;33m)\u001b[0m\u001b[1;33m\u001b[0m\u001b[1;33m\u001b[0m\u001b[0m\n\u001b[0m\u001b[0;32m   4695\u001b[0m \u001b[1;33m\u001b[0m\u001b[0m\n\u001b[0;32m   4696\u001b[0m \u001b[1;33m\u001b[0m\u001b[0m\n",
      "\u001b[1;31mValueError\u001b[0m: all the input array dimensions except for the concatenation axis must match exactly"
     ]
    }
   ],
   "source": [
    "# append a new column containing 99 and 99\n",
    "nd2_1 = np.append(nd2,[[99],[99]], axis=1)\n",
    "nd2_1"
   ]
  },
  {
   "cell_type": "code",
   "execution_count": 22,
   "metadata": {},
   "outputs": [
    {
     "data": {
      "text/plain": [
       "array([[ 1,  2,  3, 99],\n",
       "       [ 4,  5,  6, 99],\n",
       "       [ 7,  8,  9, 99]])"
      ]
     },
     "execution_count": 22,
     "metadata": {},
     "output_type": "execute_result"
    }
   ],
   "source": [
    "# append a new column containing 99 and 99\n",
    "nd2_1 = np.append(nd2,[[99],[99],[99]], axis=1)\n",
    "nd2_1"
   ]
  },
  {
   "cell_type": "markdown",
   "metadata": {},
   "source": [
    "Notice that when appending rows or columns to rank 3 ndarrays the rows or columns must have the correct shape, so as to match the shape of the rank 3 ndarray."
   ]
  },
  {
   "cell_type": "markdown",
   "metadata": {},
   "source": [
    "## Insert elements\n",
    "\n",
    "We can insert values to ndarrays using the **np.insert(ndarray, index, elements, axis)** function. This function inserts the given list of elements to ndarray right before the given **index** along the specified **axis**. "
   ]
  },
  {
   "cell_type": "code",
   "execution_count": 23,
   "metadata": {},
   "outputs": [
    {
     "data": {
      "text/plain": [
       "array([1, 2, 3, 4, 5])"
      ]
     },
     "execution_count": 23,
     "metadata": {},
     "output_type": "execute_result"
    }
   ],
   "source": [
    "# create a rank 1 ndarray \n",
    "nd1 = np.array([1, 2, 3, 4, 5])\n",
    "nd1"
   ]
  },
  {
   "cell_type": "code",
   "execution_count": 24,
   "metadata": {},
   "outputs": [
    {
     "data": {
      "text/plain": [
       "array([1, 2, 3, 4, 3, 4, 5])"
      ]
     },
     "execution_count": 24,
     "metadata": {},
     "output_type": "execute_result"
    }
   ],
   "source": [
    "# insert the integer 3 and 4 between 2 and 5\n",
    "nd1 = np.insert(nd1,2,[3,4])\n",
    "nd1"
   ]
  },
  {
   "cell_type": "code",
   "execution_count": 25,
   "metadata": {},
   "outputs": [
    {
     "data": {
      "text/plain": [
       "array([[1, 2, 3],\n",
       "       [7, 8, 9]])"
      ]
     },
     "execution_count": 25,
     "metadata": {},
     "output_type": "execute_result"
    }
   ],
   "source": [
    "# create a rank 2 ndarray \n",
    "nd2 = np.array([[1,2,3],[7,8,9]])\n",
    "nd2"
   ]
  },
  {
   "cell_type": "code",
   "execution_count": 26,
   "metadata": {},
   "outputs": [
    {
     "data": {
      "text/plain": [
       "array([[1, 2, 3],\n",
       "       [4, 5, 6],\n",
       "       [7, 8, 9]])"
      ]
     },
     "execution_count": 26,
     "metadata": {},
     "output_type": "execute_result"
    }
   ],
   "source": [
    "#Insert a row between the first and last row \n",
    "nd_1 = np.insert(nd2,1,[4,5,6],axis=0)\n",
    "nd_1"
   ]
  },
  {
   "cell_type": "code",
   "execution_count": 27,
   "metadata": {},
   "outputs": [
    {
     "data": {
      "text/plain": [
       "array([[1, 5, 2, 3],\n",
       "       [7, 5, 8, 9]])"
      ]
     },
     "execution_count": 27,
     "metadata": {},
     "output_type": "execute_result"
    }
   ],
   "source": [
    "# Insert a column full of 5s between the first and second column of y\n",
    "nd_2 = np.insert(nd2,1,5, axis=1)\n",
    "nd_2"
   ]
  },
  {
   "cell_type": "markdown",
   "metadata": {},
   "source": [
    "## Delete elements\n",
    "\n",
    "We can delete elements using the **np.delete(ndarray, elements, axis)** function.This function deletes the given list of elements from the given ndarray along the specified axis. \n",
    "\n",
    "- For rank 1 ndarrays the axis keyword is not required. \n",
    "- For rank 2 ndarrays, axis = 0 is used to select rows, and axis = 1 is used to select columns. "
   ]
  },
  {
   "cell_type": "code",
   "execution_count": 28,
   "metadata": {},
   "outputs": [
    {
     "data": {
      "text/plain": [
       "array([1, 2, 3, 4, 5])"
      ]
     },
     "execution_count": 28,
     "metadata": {},
     "output_type": "execute_result"
    }
   ],
   "source": [
    "# create a rank 1 ndarray \n",
    "nd1 = np.array([1, 2, 3, 4, 5])\n",
    "nd1"
   ]
  },
  {
   "cell_type": "code",
   "execution_count": 29,
   "metadata": {},
   "outputs": [
    {
     "data": {
      "text/plain": [
       "array([2, 3, 4])"
      ]
     },
     "execution_count": 29,
     "metadata": {},
     "output_type": "execute_result"
    }
   ],
   "source": [
    "# delete the first and last element\n",
    "nd1 = np.delete(nd1, [0,4])\n",
    "nd1"
   ]
  },
  {
   "cell_type": "code",
   "execution_count": 30,
   "metadata": {},
   "outputs": [
    {
     "data": {
      "text/plain": [
       "array([[1, 2, 3],\n",
       "       [4, 5, 6],\n",
       "       [7, 8, 9]])"
      ]
     },
     "execution_count": 30,
     "metadata": {},
     "output_type": "execute_result"
    }
   ],
   "source": [
    "# create a rank 2 ndarray\n",
    "nd2 = np.array([[1,2,3],[4,5,6],[7,8,9]])\n",
    "nd2"
   ]
  },
  {
   "cell_type": "code",
   "execution_count": 31,
   "metadata": {},
   "outputs": [
    {
     "data": {
      "text/plain": [
       "array([[4, 5, 6],\n",
       "       [7, 8, 9]])"
      ]
     },
     "execution_count": 31,
     "metadata": {},
     "output_type": "execute_result"
    }
   ],
   "source": [
    "# delete the first row\n",
    "nd2_0 = np.delete(nd2, 0, axis = 0 )\n",
    "nd2_0"
   ]
  },
  {
   "cell_type": "code",
   "execution_count": 32,
   "metadata": {},
   "outputs": [
    {
     "data": {
      "text/plain": [
       "array([[2],\n",
       "       [5],\n",
       "       [8]])"
      ]
     },
     "execution_count": 32,
     "metadata": {},
     "output_type": "execute_result"
    }
   ],
   "source": [
    "# delete the first and last column\n",
    "nd2_1 = np.delete(nd2, [0,2], axis = 1 )\n",
    "nd2_1"
   ]
  },
  {
   "cell_type": "markdown",
   "metadata": {},
   "source": [
    "## Stack Arrays\n",
    "\n",
    "NumPy also allows us to stack ndarrays on top of each other, or to stack them side by side. \n",
    "\n",
    "The stacking is done using either the **np.vstack()** function for vertical stacking, or the **np.hstack()** function for horizontal stacking. \n",
    "\n",
    "**Note:** In order to stack ndarrays, the shape of the ndarrays must match."
   ]
  },
  {
   "cell_type": "code",
   "execution_count": 33,
   "metadata": {},
   "outputs": [
    {
     "data": {
      "text/plain": [
       "array([1, 2])"
      ]
     },
     "execution_count": 33,
     "metadata": {},
     "output_type": "execute_result"
    }
   ],
   "source": [
    "# create a rank 1 ndarray \n",
    "x = np.array([1,2])\n",
    "x"
   ]
  },
  {
   "cell_type": "code",
   "execution_count": 34,
   "metadata": {},
   "outputs": [
    {
     "data": {
      "text/plain": [
       "array([[3, 4],\n",
       "       [5, 6]])"
      ]
     },
     "execution_count": 34,
     "metadata": {},
     "output_type": "execute_result"
    }
   ],
   "source": [
    "#create a rank 2 ndarray \n",
    "y = np.array([[3,4],[5,6]])\n",
    "y"
   ]
  },
  {
   "cell_type": "code",
   "execution_count": 35,
   "metadata": {},
   "outputs": [
    {
     "data": {
      "text/plain": [
       "array([[1, 2],\n",
       "       [3, 4],\n",
       "       [5, 6]])"
      ]
     },
     "execution_count": 35,
     "metadata": {},
     "output_type": "execute_result"
    }
   ],
   "source": [
    "#stack x on top of y\n",
    "v = np.vstack((x,y))\n",
    "v"
   ]
  },
  {
   "cell_type": "code",
   "execution_count": 36,
   "metadata": {},
   "outputs": [
    {
     "data": {
      "text/plain": [
       "array([[3, 4, 1],\n",
       "       [5, 6, 2]])"
      ]
     },
     "execution_count": 36,
     "metadata": {},
     "output_type": "execute_result"
    }
   ],
   "source": [
    "# stack x on the right of y. We need to reshape x in order to stack it on the right of Y. \n",
    "h = np.hstack((y,x.reshape(2,1)))\n",
    "h"
   ]
  },
  {
   "cell_type": "code",
   "execution_count": null,
   "metadata": {},
   "outputs": [],
   "source": []
  }
 ],
 "metadata": {
  "kernelspec": {
   "display_name": "Python 3",
   "language": "python",
   "name": "python3"
  },
  "language_info": {
   "codemirror_mode": {
    "name": "ipython",
    "version": 3
   },
   "file_extension": ".py",
   "mimetype": "text/x-python",
   "name": "python",
   "nbconvert_exporter": "python",
   "pygments_lexer": "ipython3",
   "version": "3.7.1"
  }
 },
 "nbformat": 4,
 "nbformat_minor": 2
}
