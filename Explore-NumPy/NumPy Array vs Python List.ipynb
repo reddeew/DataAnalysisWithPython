{
 "cells": [
  {
   "cell_type": "code",
   "execution_count": 1,
   "metadata": {},
   "outputs": [],
   "source": [
    "import numpy as np\n",
    "import time"
   ]
  },
  {
   "cell_type": "code",
   "execution_count": 2,
   "metadata": {},
   "outputs": [],
   "source": [
    "num = np.random.random(1000000000)"
   ]
  },
  {
   "cell_type": "markdown",
   "metadata": {},
   "source": [
    "Find avereage using Python List API's"
   ]
  },
  {
   "cell_type": "code",
   "execution_count": 3,
   "metadata": {},
   "outputs": [
    {
     "name": "stdout",
     "output_type": "stream",
     "text": [
      "0.5000003755050472\n",
      "Time took by list 129.12427878379822\n"
     ]
    }
   ],
   "source": [
    "start = time.time()\n",
    "list_avg = sum(num) / len(num)\n",
    "print(list_avg)\n",
    "end = time.time()\n",
    "print(\"Time took by list\",end-start)"
   ]
  },
  {
   "cell_type": "code",
   "execution_count": 4,
   "metadata": {},
   "outputs": [
    {
     "name": "stdout",
     "output_type": "stream",
     "text": [
      "0.5000003755051965\n",
      "Time took by Numpy 1.9665849208831787\n"
     ]
    }
   ],
   "source": [
    "start = time.time()\n",
    "mean = np.mean(num)\n",
    "print(mean)\n",
    "end = time.time()\n",
    "print(\"Time took by Numpy\",end-start)"
   ]
  },
  {
   "cell_type": "markdown",
   "metadata": {},
   "source": [
    "#### Python List tooks 1.06 sec, but NumPy tooks 0.01 sec to calculate mean "
   ]
  },
  {
   "cell_type": "code",
   "execution_count": null,
   "metadata": {},
   "outputs": [],
   "source": []
  }
 ],
 "metadata": {
  "kernelspec": {
   "display_name": "Python 3",
   "language": "python",
   "name": "python3"
  },
  "language_info": {
   "codemirror_mode": {
    "name": "ipython",
    "version": 3
   },
   "file_extension": ".py",
   "mimetype": "text/x-python",
   "name": "python",
   "nbconvert_exporter": "python",
   "pygments_lexer": "ipython3",
   "version": "3.7.1"
  }
 },
 "nbformat": 4,
 "nbformat_minor": 2
}
