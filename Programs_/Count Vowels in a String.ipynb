{
 "cells": [
  {
   "cell_type": "markdown",
   "metadata": {},
   "source": [
    "Write a program named count_vowels.py that prompts the user for a string and then displays a count of each of the vowels (a, e, i, o, u) and the total number of vowels contained in that string. Hint: Remember that vowels can also be uppercase letters."
   ]
  },
  {
   "cell_type": "code",
   "execution_count": 1,
   "metadata": {},
   "outputs": [
    {
     "name": "stdout",
     "output_type": "stream",
     "text": [
      "Enter a String = Satish Kumar Uppara\n"
     ]
    }
   ],
   "source": [
    "inputStr = input(\"Enter a String = \")"
   ]
  },
  {
   "cell_type": "code",
   "execution_count": 2,
   "metadata": {},
   "outputs": [
    {
     "data": {
      "text/plain": [
       "'Satish Kumar Uppara'"
      ]
     },
     "execution_count": 2,
     "metadata": {},
     "output_type": "execute_result"
    }
   ],
   "source": [
    "inputStr"
   ]
  },
  {
   "cell_type": "code",
   "execution_count": 3,
   "metadata": {},
   "outputs": [],
   "source": [
    "def count_vowels(str): \n",
    "    \n",
    "    # Initializing count variable to 0 \n",
    "    vowels_count = 0\n",
    "    \n",
    "    # Creating a dictionary with key as a vowel and the value as 0\n",
    "    vowel_count_dict = {}.fromkeys(\"aeiou\", 0) \n",
    "    \n",
    "    # casefold has been used to ignore cases \n",
    "    str_casefold = str.casefold() \n",
    "    \n",
    "    # count the vowels\n",
    "    for char in str_casefold:\n",
    "        if char in vowel_count_dict: \n",
    "            vowel_count_dict[char] += 1\n",
    "            vowels_count += 1\n",
    "            \n",
    "    return vowels_count, vowel_count_dict\n",
    "    \n",
    "    "
   ]
  },
  {
   "cell_type": "code",
   "execution_count": 4,
   "metadata": {},
   "outputs": [
    {
     "name": "stdout",
     "output_type": "stream",
     "text": [
      "Total number of vowels =  7\n",
      "Count of each of the vowels =  {'a': 4, 'e': 0, 'i': 1, 'o': 0, 'u': 2}\n"
     ]
    }
   ],
   "source": [
    "vowels_count, vowel_count_dict = count_vowels(inputStr)\n",
    "print(\"Total number of vowels = \",vowels_count)\n",
    "print(\"Count of each of the vowels = \",str(vowel_count_dict))"
   ]
  }
 ],
 "metadata": {
  "kernelspec": {
   "display_name": "Python 3",
   "language": "python",
   "name": "python3"
  },
  "language_info": {
   "codemirror_mode": {
    "name": "ipython",
    "version": 3
   },
   "file_extension": ".py",
   "mimetype": "text/x-python",
   "name": "python",
   "nbconvert_exporter": "python",
   "pygments_lexer": "ipython3",
   "version": "3.6.9"
  }
 },
 "nbformat": 4,
 "nbformat_minor": 4
}
