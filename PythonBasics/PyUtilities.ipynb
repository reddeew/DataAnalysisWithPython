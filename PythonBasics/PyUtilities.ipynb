{
 "cells": [
  {
   "cell_type": "markdown",
   "metadata": {},
   "source": [
    "###  Date Utils"
   ]
  },
  {
   "cell_type": "code",
   "execution_count": 5,
   "metadata": {},
   "outputs": [
    {
     "name": "stdout",
     "output_type": "stream",
     "text": [
      "Current Datetime : 2020-03-27 11:38:10.018913\n",
      "Current Date : 2020-03-27\n"
     ]
    }
   ],
   "source": [
    "import datetime\n",
    "\n",
    "# Current Datetime\n",
    "now = datetime.datetime.today()\n",
    "print(f\"Current Datetime : {now}\")\n",
    "\n",
    "# Date\n",
    "dateStr = now.strftime(\"%Y-%m-%d\")\n",
    "print(f\"Current Date : {dateStr}\")\n"
   ]
  },
  {
   "cell_type": "code",
   "execution_count": null,
   "metadata": {},
   "outputs": [],
   "source": []
  }
 ],
 "metadata": {
  "kernelspec": {
   "display_name": "Python 3",
   "language": "python",
   "name": "python3"
  },
  "language_info": {
   "codemirror_mode": {
    "name": "ipython",
    "version": 3
   },
   "file_extension": ".py",
   "mimetype": "text/x-python",
   "name": "python",
   "nbconvert_exporter": "python",
   "pygments_lexer": "ipython3",
   "version": "3.7.1"
  }
 },
 "nbformat": 4,
 "nbformat_minor": 2
}
