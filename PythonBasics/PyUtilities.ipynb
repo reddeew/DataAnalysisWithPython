{
 "cells": [
  {
   "cell_type": "markdown",
   "metadata": {},
   "source": [
    "###  Date Utils"
   ]
  },
  {
   "cell_type": "code",
   "execution_count": 5,
   "metadata": {},
   "outputs": [
    {
     "name": "stdout",
     "output_type": "stream",
     "text": [
      "Current Datetime : 2020-03-27 11:38:10.018913\n",
      "Current Date : 2020-03-27\n"
     ]
    }
   ],
   "source": [
    "import datetime\n",
    "\n",
    "# Current Datetime\n",
    "now = datetime.datetime.today()\n",
    "print(f\"Current Datetime : {now}\")\n",
    "\n",
    "# Date\n",
    "dateStr = now.strftime(\"%Y-%m-%d\")\n",
    "print(f\"Current Date : {dateStr}\")\n"
   ]
  },
  {
   "cell_type": "markdown",
   "metadata": {},
   "source": [
    "## how long function took to run"
   ]
  },
  {
   "cell_type": "code",
   "execution_count": 1,
   "metadata": {},
   "outputs": [
    {
     "name": "stdout",
     "output_type": "stream",
     "text": [
      "1.8950499999999977\n"
     ]
    }
   ],
   "source": [
    "import timeit\n",
    "def my_function():\n",
    "    y = 3.1415\n",
    "    for x in range(100):\n",
    "        y = y ** 0.7\n",
    "    return y\n",
    "\n",
    "print(timeit.timeit(my_function, number=100000))"
   ]
  },
  {
   "cell_type": "code",
   "execution_count": null,
   "metadata": {},
   "outputs": [],
   "source": []
  }
 ],
 "metadata": {
  "kernelspec": {
   "display_name": "Python 3",
   "language": "python",
   "name": "python3"
  },
  "language_info": {
   "codemirror_mode": {
    "name": "ipython",
    "version": 3
   },
   "file_extension": ".py",
   "mimetype": "text/x-python",
   "name": "python",
   "nbconvert_exporter": "python",
   "pygments_lexer": "ipython3",
   "version": "3.7.1"
  }
 },
 "nbformat": 4,
 "nbformat_minor": 2
}
