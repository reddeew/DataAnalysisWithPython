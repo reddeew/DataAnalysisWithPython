{
 "cells": [
  {
   "cell_type": "markdown",
   "metadata": {
    "colab_type": "text",
    "id": "stNP3afastmS"
   },
   "source": [
    "# **Errors and Exception Handling**"
   ]
  },
  {
   "cell_type": "code",
   "execution_count": 2,
   "metadata": {
    "colab": {
     "base_uri": "https://localhost:8080/",
     "height": 130
    },
    "colab_type": "code",
    "executionInfo": {
     "elapsed": 1336,
     "status": "error",
     "timestamp": 1588394985910,
     "user": {
      "displayName": "Satish Kumar",
      "photoUrl": "https://lh3.googleusercontent.com/a-/AOh14GjwYBYhNnnvhDdQN4Ik0n0x256H3PJlRYvtTNqbkg=s64",
      "userId": "15520434020875560947"
     },
     "user_tz": -330
    },
    "id": "Ulm_ynqvr66o",
    "outputId": "2ca19db5-4efa-426a-d7db-17550b0a22b8"
   },
   "outputs": [
    {
     "ename": "SyntaxError",
     "evalue": "ignored",
     "output_type": "error",
     "traceback": [
      "\u001b[0;36m  File \u001b[0;32m\"<ipython-input-2-b95553785db0>\"\u001b[0;36m, line \u001b[0;32m1\u001b[0m\n\u001b[0;31m    print('Python Error)\u001b[0m\n\u001b[0m                        ^\u001b[0m\n\u001b[0;31mSyntaxError\u001b[0m\u001b[0;31m:\u001b[0m EOL while scanning string literal\n"
     ]
    }
   ],
   "source": [
    "print('Python Error)"
   ]
  },
  {
   "cell_type": "code",
   "execution_count": 3,
   "metadata": {
    "colab": {
     "base_uri": "https://localhost:8080/",
     "height": 181
    },
    "colab_type": "code",
    "executionInfo": {
     "elapsed": 1101,
     "status": "error",
     "timestamp": 1588395026187,
     "user": {
      "displayName": "Satish Kumar",
      "photoUrl": "https://lh3.googleusercontent.com/a-/AOh14GjwYBYhNnnvhDdQN4Ik0n0x256H3PJlRYvtTNqbkg=s64",
      "userId": "15520434020875560947"
     },
     "user_tz": -330
    },
    "id": "tT2nDvrKuAN3",
    "outputId": "690592b9-1f8a-42a8-d8d0-0ff52d77be39"
   },
   "outputs": [
    {
     "ename": "FileNotFoundError",
     "evalue": "ignored",
     "output_type": "error",
     "traceback": [
      "\u001b[0;31m---------------------------------------------------------------------------\u001b[0m",
      "\u001b[0;31mFileNotFoundError\u001b[0m                         Traceback (most recent call last)",
      "\u001b[0;32m<ipython-input-3-367a221f7cfe>\u001b[0m in \u001b[0;36m<module>\u001b[0;34m()\u001b[0m\n\u001b[0;32m----> 1\u001b[0;31m \u001b[0mf\u001b[0m \u001b[0;34m=\u001b[0m \u001b[0mopen\u001b[0m\u001b[0;34m(\u001b[0m\u001b[0;34m'testData'\u001b[0m\u001b[0;34m,\u001b[0m \u001b[0;34m'r'\u001b[0m\u001b[0;34m)\u001b[0m\u001b[0;34m\u001b[0m\u001b[0;34m\u001b[0m\u001b[0m\n\u001b[0m\u001b[1;32m      2\u001b[0m \u001b[0mf\u001b[0m\u001b[0;34m.\u001b[0m\u001b[0mwrite\u001b[0m\u001b[0;34m(\u001b[0m\u001b[0;34m'write test data'\u001b[0m\u001b[0;34m)\u001b[0m\u001b[0;34m\u001b[0m\u001b[0;34m\u001b[0m\u001b[0m\n",
      "\u001b[0;31mFileNotFoundError\u001b[0m: [Errno 2] No such file or directory: 'testData'"
     ]
    }
   ],
   "source": [
    "f = open('testData', 'r')\n",
    "f.write('write test data')"
   ]
  },
  {
   "cell_type": "code",
   "execution_count": 4,
   "metadata": {
    "colab": {
     "base_uri": "https://localhost:8080/",
     "height": 164
    },
    "colab_type": "code",
    "executionInfo": {
     "elapsed": 1231,
     "status": "error",
     "timestamp": 1588395109660,
     "user": {
      "displayName": "Satish Kumar",
      "photoUrl": "https://lh3.googleusercontent.com/a-/AOh14GjwYBYhNnnvhDdQN4Ik0n0x256H3PJlRYvtTNqbkg=s64",
      "userId": "15520434020875560947"
     },
     "user_tz": -330
    },
    "id": "bIdPiKXAuKIU",
    "outputId": "626ee4ee-4d81-49a1-f54d-61f18b2cba33"
   },
   "outputs": [
    {
     "ename": "ZeroDivisionError",
     "evalue": "ignored",
     "output_type": "error",
     "traceback": [
      "\u001b[0;31m---------------------------------------------------------------------------\u001b[0m",
      "\u001b[0;31mZeroDivisionError\u001b[0m                         Traceback (most recent call last)",
      "\u001b[0;32m<ipython-input-4-dc1c5a6700ec>\u001b[0m in \u001b[0;36m<module>\u001b[0;34m()\u001b[0m\n\u001b[0;32m----> 1\u001b[0;31m \u001b[0mx\u001b[0m \u001b[0;34m=\u001b[0m \u001b[0;36m2\u001b[0m\u001b[0;34m/\u001b[0m\u001b[0;36m0\u001b[0m\u001b[0;34m\u001b[0m\u001b[0;34m\u001b[0m\u001b[0m\n\u001b[0m",
      "\u001b[0;31mZeroDivisionError\u001b[0m: division by zero"
     ]
    }
   ],
   "source": [
    "x = 2/0"
   ]
  },
  {
   "cell_type": "markdown",
   "metadata": {
    "colab_type": "text",
    "id": "a0_ApBBKx-qu"
   },
   "source": [
    "Here we got an Error 'SyntaxError', 'FileNotFoundError', 'ZeroDivisonError'. This type of error are known as an Exception. \n",
    "\n",
    "Even if a statement or expression is syntactically correct, it may cause an error when an attempt is made to execute it. Errors detected during execution are called exception .\n",
    "\n",
    "[Python Build-in-exception](https://docs.python.org/2/library/exceptions.html)"
   ]
  },
  {
   "cell_type": "markdown",
   "metadata": {
    "colab_type": "text",
    "id": "hzBOjnGXutiG"
   },
   "source": [
    "# **try and except**\n",
    "\n",
    "Syntax used to handle errors in Python is the **try** and **except** statements. The code which can cause an exception to occur is put in the *try* block and the handling of the exception are the implemented in the *except* block of code. The syntax form is:\n",
    "\n",
    "    try:\n",
    "       You do your operations here...\n",
    "       ...\n",
    "    except ExceptionI:\n",
    "       If there is ExceptionI, then execute this block.\n",
    "    except ExceptionII:\n",
    "       If there is ExceptionII, then execute this block.\n",
    "       ...\n",
    "    else:\n",
    "       If there is no exception then execute this block. "
   ]
  },
  {
   "cell_type": "code",
   "execution_count": 15,
   "metadata": {
    "colab": {
     "base_uri": "https://localhost:8080/",
     "height": 51
    },
    "colab_type": "code",
    "executionInfo": {
     "elapsed": 1212,
     "status": "ok",
     "timestamp": 1588397535306,
     "user": {
      "displayName": "Satish Kumar",
      "photoUrl": "https://lh3.googleusercontent.com/a-/AOh14GjwYBYhNnnvhDdQN4Ik0n0x256H3PJlRYvtTNqbkg=s64",
      "userId": "15520434020875560947"
     },
     "user_tz": -330
    },
    "id": "SY7P2lSGuefh",
    "outputId": "01cd1399-7960-4ab4-9ec4-3fbb10b65921"
   },
   "outputs": [
    {
     "name": "stdout",
     "output_type": "stream",
     "text": [
      "Couldn't find file or read data\n",
      "Done\n"
     ]
    }
   ],
   "source": [
    "try:\n",
    "  f = open('testData', 'r')\n",
    "  f.write('Python Programming to handle Exception')\n",
    "except IOError:\n",
    "  # This block will check for an IOError exception and then execute this except block.\n",
    "  print(\"Couldn't find file or read data\")\n",
    "else:\n",
    "  print(\"Write data to file Successfully\")\n",
    "  f.close()\n",
    "print(\"Done\")"
   ]
  },
  {
   "cell_type": "markdown",
   "metadata": {
    "colab_type": "text",
    "id": "5uRL343c3KVe"
   },
   "source": [
    "Now, code executed without fail and able to continue executing the next statements. This will be very useful when you have to account for possible errors in your code. So by keeping the suspecious code under try and except to keep running code without breaking the execution as above.\n",
    "\n",
    "If you are not sure what exception would occur the use 'except Exception' For example:"
   ]
  },
  {
   "cell_type": "code",
   "execution_count": 14,
   "metadata": {
    "colab": {
     "base_uri": "https://localhost:8080/",
     "height": 51
    },
    "colab_type": "code",
    "executionInfo": {
     "elapsed": 1239,
     "status": "ok",
     "timestamp": 1588397515199,
     "user": {
      "displayName": "Satish Kumar",
      "photoUrl": "https://lh3.googleusercontent.com/a-/AOh14GjwYBYhNnnvhDdQN4Ik0n0x256H3PJlRYvtTNqbkg=s64",
      "userId": "15520434020875560947"
     },
     "user_tz": -330
    },
    "id": "AvRYIU-Ivm3x",
    "outputId": "5fb47932-563a-4e2f-fe5b-5fb073eeaaa2"
   },
   "outputs": [
    {
     "name": "stdout",
     "output_type": "stream",
     "text": [
      "Exception :  not writable\n",
      "Done\n"
     ]
    }
   ],
   "source": [
    "try:\n",
    "  f = open('testData', 'r')\n",
    "  f.write('Python Programming to handle Exception')\n",
    "except Exception as e: \n",
    "  # This block will check for an IOError exception and then execute this except block.\n",
    "  print(\"Exception : \",e)\n",
    "else:\n",
    "  print(\"Write data to file Successfully\")\n",
    "  f.close()\n",
    "print(\"Done\")"
   ]
  },
  {
   "cell_type": "markdown",
   "metadata": {
    "colab_type": "text",
    "id": "70I4vvc84ZJa"
   },
   "source": [
    "Now, we don't actually need to memorize the list of exception types! \n",
    "\n",
    "Now what if we keep wanting to run code after the exception occurred? This is where **finally** block comes in.\n",
    "\n",
    "## finally\n",
    "The **finally** Block of code will always be run regardless if there was an exception in the try code block. The syntax is:\n",
    "\n",
    "    try:\n",
    "       Code block here\n",
    "       ...\n",
    "       Due to any exception, this code may be skipped!\n",
    "    finally:\n",
    "       This code block would always be executed.\n",
    "\n",
    "For Eg:"
   ]
  },
  {
   "cell_type": "code",
   "execution_count": 16,
   "metadata": {
    "colab": {
     "base_uri": "https://localhost:8080/",
     "height": 68
    },
    "colab_type": "code",
    "executionInfo": {
     "elapsed": 1059,
     "status": "ok",
     "timestamp": 1588397967430,
     "user": {
      "displayName": "Satish Kumar",
      "photoUrl": "https://lh3.googleusercontent.com/a-/AOh14GjwYBYhNnnvhDdQN4Ik0n0x256H3PJlRYvtTNqbkg=s64",
      "userId": "15520434020875560947"
     },
     "user_tz": -330
    },
    "id": "p5jeo2ix3G9P",
    "outputId": "bb762aa1-74a4-4323-b6be-96ada3b0756c"
   },
   "outputs": [
    {
     "name": "stdout",
     "output_type": "stream",
     "text": [
      "Exception :  not writable\n",
      "Execute finally block\n",
      "Done\n"
     ]
    }
   ],
   "source": [
    "try:\n",
    "  f = open('testData', 'r')\n",
    "  f.write('Python Programming to handle Exception')\n",
    "except Exception as e: \n",
    "  # This block will check for an IOError exception and then execute this except block.\n",
    "  print(\"Exception : \",e)\n",
    "else:\n",
    "  print(\"Write data to file Successfully\")\n",
    "finally: \n",
    "  print(\"Execute finally block\")\n",
    "  f.close()\n",
    "print(\"Done\")"
   ]
  },
  {
   "cell_type": "markdown",
   "metadata": {
    "colab_type": "text",
    "id": "h-eQrqra5p_v"
   },
   "source": [
    "Let's see a another example that will take input and validate is it valid input:"
   ]
  },
  {
   "cell_type": "code",
   "execution_count": 0,
   "metadata": {
    "colab": {},
    "colab_type": "code",
    "id": "hnXWOQd_5YLG"
   },
   "outputs": [],
   "source": [
    "def getNumberOFItems():\n",
    "  try:\n",
    "    inputVal = int(input(\"Please enter number of Items: \"))\n",
    "  except:\n",
    "    print(\"Looks like you did not enter an integer!\")\n",
    "  finally:\n",
    "    print(\"Finally Block\")\n",
    "    print(inputVal)"
   ]
  },
  {
   "cell_type": "code",
   "execution_count": 26,
   "metadata": {
    "colab": {
     "base_uri": "https://localhost:8080/",
     "height": 68
    },
    "colab_type": "code",
    "executionInfo": {
     "elapsed": 4727,
     "status": "ok",
     "timestamp": 1588398843929,
     "user": {
      "displayName": "Satish Kumar",
      "photoUrl": "https://lh3.googleusercontent.com/a-/AOh14GjwYBYhNnnvhDdQN4Ik0n0x256H3PJlRYvtTNqbkg=s64",
      "userId": "15520434020875560947"
     },
     "user_tz": -330
    },
    "id": "uVh06lk_6xWa",
    "outputId": "fb57d057-f2ca-4f83-e53c-92457034ab67"
   },
   "outputs": [
    {
     "name": "stdout",
     "output_type": "stream",
     "text": [
      "Please enter number of Items: 10\n",
      "Finally Block\n",
      "10\n"
     ]
    }
   ],
   "source": [
    "getNumberOFItems()"
   ]
  },
  {
   "cell_type": "code",
   "execution_count": 27,
   "metadata": {
    "colab": {
     "base_uri": "https://localhost:8080/",
     "height": 300
    },
    "colab_type": "code",
    "executionInfo": {
     "elapsed": 4835,
     "status": "error",
     "timestamp": 1588398853973,
     "user": {
      "displayName": "Satish Kumar",
      "photoUrl": "https://lh3.googleusercontent.com/a-/AOh14GjwYBYhNnnvhDdQN4Ik0n0x256H3PJlRYvtTNqbkg=s64",
      "userId": "15520434020875560947"
     },
     "user_tz": -330
    },
    "id": "OHouiZKO62y7",
    "outputId": "4b062389-5a41-4c55-b433-f3534266b083"
   },
   "outputs": [
    {
     "name": "stdout",
     "output_type": "stream",
     "text": [
      "Please enter number of Items: ten\n",
      "Looks like you did not enter an integer!\n",
      "Finally Block\n"
     ]
    },
    {
     "ename": "UnboundLocalError",
     "evalue": "ignored",
     "output_type": "error",
     "traceback": [
      "\u001b[0;31m---------------------------------------------------------------------------\u001b[0m",
      "\u001b[0;31mUnboundLocalError\u001b[0m                         Traceback (most recent call last)",
      "\u001b[0;32m<ipython-input-27-f052fd50adb9>\u001b[0m in \u001b[0;36m<module>\u001b[0;34m()\u001b[0m\n\u001b[0;32m----> 1\u001b[0;31m \u001b[0mgetNumberOFItems\u001b[0m\u001b[0;34m(\u001b[0m\u001b[0;34m)\u001b[0m\u001b[0;34m\u001b[0m\u001b[0;34m\u001b[0m\u001b[0m\n\u001b[0m",
      "\u001b[0;32m<ipython-input-25-89b29f0e0e0c>\u001b[0m in \u001b[0;36mgetNumberOFItems\u001b[0;34m()\u001b[0m\n\u001b[1;32m      6\u001b[0m   \u001b[0;32mfinally\u001b[0m\u001b[0;34m:\u001b[0m\u001b[0;34m\u001b[0m\u001b[0;34m\u001b[0m\u001b[0m\n\u001b[1;32m      7\u001b[0m     \u001b[0mprint\u001b[0m\u001b[0;34m(\u001b[0m\u001b[0;34m\"Finally Block\"\u001b[0m\u001b[0;34m)\u001b[0m\u001b[0;34m\u001b[0m\u001b[0;34m\u001b[0m\u001b[0m\n\u001b[0;32m----> 8\u001b[0;31m     \u001b[0mprint\u001b[0m\u001b[0;34m(\u001b[0m\u001b[0minputVal\u001b[0m\u001b[0;34m)\u001b[0m\u001b[0;34m\u001b[0m\u001b[0;34m\u001b[0m\u001b[0m\n\u001b[0m",
      "\u001b[0;31mUnboundLocalError\u001b[0m: local variable 'inputVal' referenced before assignment"
     ]
    }
   ],
   "source": [
    "getNumberOFItems()"
   ]
  },
  {
   "cell_type": "markdown",
   "metadata": {
    "colab_type": "text",
    "id": "VGoB_orF7m4Q"
   },
   "source": [
    "Here, we got the error when trying to print the 'inputVal' since it was not assigned value)\n",
    "\n",
    "Now, we will handle this :"
   ]
  },
  {
   "cell_type": "code",
   "execution_count": 0,
   "metadata": {
    "colab": {},
    "colab_type": "code",
    "id": "HJ_W-TOH7c6t"
   },
   "outputs": [],
   "source": [
    "def getNumberOFItems1():\n",
    "  try:\n",
    "    inputVal = int(input(\"Please enter number of Items: \"))\n",
    "  except:\n",
    "    print(\"Looks like you did not enter an integer!\")\n",
    "  finally:\n",
    "    try:\n",
    "      print(\"Finally Block\",inputVal)\n",
    "    except:\n",
    "      print('Finally Block Handled')"
   ]
  },
  {
   "cell_type": "code",
   "execution_count": 31,
   "metadata": {
    "colab": {
     "base_uri": "https://localhost:8080/",
     "height": 68
    },
    "colab_type": "code",
    "executionInfo": {
     "elapsed": 7330,
     "status": "ok",
     "timestamp": 1588398976008,
     "user": {
      "displayName": "Satish Kumar",
      "photoUrl": "https://lh3.googleusercontent.com/a-/AOh14GjwYBYhNnnvhDdQN4Ik0n0x256H3PJlRYvtTNqbkg=s64",
      "userId": "15520434020875560947"
     },
     "user_tz": -330
    },
    "id": "7rbGmjfq9Bxv",
    "outputId": "30f33e81-dde8-4ef7-df61-fadb5a7cc20a"
   },
   "outputs": [
    {
     "name": "stdout",
     "output_type": "stream",
     "text": [
      "Please enter number of Items: ten\n",
      "Looks like you did not enter an integer!\n",
      "Finally Block Handled\n"
     ]
    }
   ],
   "source": [
    "getNumberOFItems1()"
   ]
  },
  {
   "cell_type": "markdown",
   "metadata": {
    "colab_type": "text",
    "id": "BXyEBMLk9YcB"
   },
   "source": [
    "Now we will use 'while loop' to promt to until the coorect value enterd.\n",
    "\n",
    "For Eg:"
   ]
  },
  {
   "cell_type": "code",
   "execution_count": 0,
   "metadata": {
    "colab": {},
    "colab_type": "code",
    "id": "wZyj7tIS9M6U"
   },
   "outputs": [],
   "source": [
    "def getNumberOFItems3():\n",
    "  while True:\n",
    "    try:\n",
    "      inputVal = int(input(\"Please enter number of Items: \"))\n",
    "    except:\n",
    "      print(\"Looks like you did not enter an integer!\")\n",
    "      #break\n",
    "      continue\n",
    "    else:\n",
    "      print('Valid Input :',inputVal)\n",
    "      break\n",
    "    finally:\n",
    "      print(\"Finally Block\")"
   ]
  },
  {
   "cell_type": "code",
   "execution_count": 39,
   "metadata": {
    "colab": {
     "base_uri": "https://localhost:8080/",
     "height": 170
    },
    "colab_type": "code",
    "executionInfo": {
     "elapsed": 14809,
     "status": "ok",
     "timestamp": 1588399482103,
     "user": {
      "displayName": "Satish Kumar",
      "photoUrl": "https://lh3.googleusercontent.com/a-/AOh14GjwYBYhNnnvhDdQN4Ik0n0x256H3PJlRYvtTNqbkg=s64",
      "userId": "15520434020875560947"
     },
     "user_tz": -330
    },
    "id": "1By4cvBX-uaB",
    "outputId": "56d8ee1a-2a4f-43ba-8d6f-5e185b859c63"
   },
   "outputs": [
    {
     "name": "stdout",
     "output_type": "stream",
     "text": [
      "Please enter number of Items: ten\n",
      "Looks like you did not enter an integer!\n",
      "Finally Block\n",
      "Please enter number of Items: ten\n",
      "Looks like you did not enter an integer!\n",
      "Finally Block\n",
      "Please enter number of Items: 10\n",
      "Valid Input : 10\n",
      "Finally Block\n"
     ]
    }
   ],
   "source": [
    "getNumberOFItems3()"
   ]
  },
  {
   "cell_type": "markdown",
   "metadata": {
    "colab_type": "text",
    "id": "RZeSp8oJ-F2O"
   },
   "source": [
    "# **Thrws Exception with Custom message.**\n",
    "For example"
   ]
  },
  {
   "cell_type": "code",
   "execution_count": 41,
   "metadata": {
    "colab": {
     "base_uri": "https://localhost:8080/",
     "height": 34
    },
    "colab_type": "code",
    "executionInfo": {
     "elapsed": 663,
     "status": "ok",
     "timestamp": 1588399657740,
     "user": {
      "displayName": "Satish Kumar",
      "photoUrl": "https://lh3.googleusercontent.com/a-/AOh14GjwYBYhNnnvhDdQN4Ik0n0x256H3PJlRYvtTNqbkg=s64",
      "userId": "15520434020875560947"
     },
     "user_tz": -330
    },
    "id": "BRPDXvG1-Sgc",
    "outputId": "60fa3c99-86ae-4074-d733-d871cdf0d571"
   },
   "outputs": [
    {
     "name": "stdout",
     "output_type": "stream",
     "text": [
      "number division by zero\n"
     ]
    }
   ],
   "source": [
    "try:\n",
    "  raise(Exception(\"number division by zero\"))\n",
    "except Exception as e:\n",
    "  print(e)\n",
    "\n",
    "  "
   ]
  },
  {
   "cell_type": "markdown",
   "metadata": {
    "colab_type": "text",
    "id": "hRnN1aZVExO6"
   },
   "source": [
    "# **Create Custom Exception**\n",
    "\n",
    "Create a new exception class that should be derived from the Exception class, either directly or indirectly. \n",
    "\n",
    "For example: "
   ]
  },
  {
   "cell_type": "code",
   "execution_count": 0,
   "metadata": {
    "colab": {},
    "colab_type": "code",
    "id": "byR7Oe2R_XIk"
   },
   "outputs": [],
   "source": [
    "class MyError(Exception):\n",
    "  # Constructor or Initializer \n",
    "  def __init__(self, value): \n",
    "    self.value = value\n",
    "    \n",
    "  # __str__ is to print() the value \n",
    "  def __str__(self):\n",
    "    return(repr(self.value))"
   ]
  },
  {
   "cell_type": "code",
   "execution_count": 44,
   "metadata": {
    "colab": {
     "base_uri": "https://localhost:8080/",
     "height": 34
    },
    "colab_type": "code",
    "executionInfo": {
     "elapsed": 1039,
     "status": "ok",
     "timestamp": 1588401244812,
     "user": {
      "displayName": "Satish Kumar",
      "photoUrl": "https://lh3.googleusercontent.com/a-/AOh14GjwYBYhNnnvhDdQN4Ik0n0x256H3PJlRYvtTNqbkg=s64",
      "userId": "15520434020875560947"
     },
     "user_tz": -330
    },
    "id": "9M7T-B_4Fc6K",
    "outputId": "eb7d3a07-7d06-40f9-9d0c-fc1bc83fc832"
   },
   "outputs": [
    {
     "name": "stdout",
     "output_type": "stream",
     "text": [
      "Error Handled :  10\n"
     ]
    }
   ],
   "source": [
    "try:\n",
    "  raise (MyError(10))\n",
    "except MyError as e:\n",
    "  print(\"Error Handled : \",e.value)"
   ]
  },
  {
   "cell_type": "markdown",
   "metadata": {
    "colab_type": "text",
    "id": "bPnctALHGCVZ"
   },
   "source": [
    "To know more about about the Exception class, run the code below"
   ]
  },
  {
   "cell_type": "code",
   "execution_count": 46,
   "metadata": {
    "colab": {
     "base_uri": "https://localhost:8080/",
     "height": 1000
    },
    "colab_type": "code",
    "executionInfo": {
     "elapsed": 1431,
     "status": "ok",
     "timestamp": 1588401353393,
     "user": {
      "displayName": "Satish Kumar",
      "photoUrl": "https://lh3.googleusercontent.com/a-/AOh14GjwYBYhNnnvhDdQN4Ik0n0x256H3PJlRYvtTNqbkg=s64",
      "userId": "15520434020875560947"
     },
     "user_tz": -330
    },
    "id": "OcQZsZ30Fwmp",
    "outputId": "127a9cbf-b4b4-493f-a3a5-f52faaa8d8fe"
   },
   "outputs": [
    {
     "name": "stdout",
     "output_type": "stream",
     "text": [
      "Help on class FileNotFoundError in module builtins:\n",
      "\n",
      "class FileNotFoundError(OSError)\n",
      " |  File not found.\n",
      " |  \n",
      " |  Method resolution order:\n",
      " |      FileNotFoundError\n",
      " |      OSError\n",
      " |      Exception\n",
      " |      BaseException\n",
      " |      object\n",
      " |  \n",
      " |  Methods defined here:\n",
      " |  \n",
      " |  __init__(self, /, *args, **kwargs)\n",
      " |      Initialize self.  See help(type(self)) for accurate signature.\n",
      " |  \n",
      " |  ----------------------------------------------------------------------\n",
      " |  Methods inherited from OSError:\n",
      " |  \n",
      " |  __new__(*args, **kwargs) from builtins.type\n",
      " |      Create and return a new object.  See help(type) for accurate signature.\n",
      " |  \n",
      " |  __reduce__(...)\n",
      " |      helper for pickle\n",
      " |  \n",
      " |  __str__(self, /)\n",
      " |      Return str(self).\n",
      " |  \n",
      " |  ----------------------------------------------------------------------\n",
      " |  Data descriptors inherited from OSError:\n",
      " |  \n",
      " |  characters_written\n",
      " |  \n",
      " |  errno\n",
      " |      POSIX exception code\n",
      " |  \n",
      " |  filename\n",
      " |      exception filename\n",
      " |  \n",
      " |  filename2\n",
      " |      second exception filename\n",
      " |  \n",
      " |  strerror\n",
      " |      exception strerror\n",
      " |  \n",
      " |  ----------------------------------------------------------------------\n",
      " |  Methods inherited from BaseException:\n",
      " |  \n",
      " |  __delattr__(self, name, /)\n",
      " |      Implement delattr(self, name).\n",
      " |  \n",
      " |  __getattribute__(self, name, /)\n",
      " |      Return getattr(self, name).\n",
      " |  \n",
      " |  __repr__(self, /)\n",
      " |      Return repr(self).\n",
      " |  \n",
      " |  __setattr__(self, name, value, /)\n",
      " |      Implement setattr(self, name, value).\n",
      " |  \n",
      " |  __setstate__(...)\n",
      " |  \n",
      " |  with_traceback(...)\n",
      " |      Exception.with_traceback(tb) --\n",
      " |      set self.__traceback__ to tb and return self.\n",
      " |  \n",
      " |  ----------------------------------------------------------------------\n",
      " |  Data descriptors inherited from BaseException:\n",
      " |  \n",
      " |  __cause__\n",
      " |      exception cause\n",
      " |  \n",
      " |  __context__\n",
      " |      exception context\n",
      " |  \n",
      " |  __dict__\n",
      " |  \n",
      " |  __suppress_context__\n",
      " |  \n",
      " |  __traceback__\n",
      " |  \n",
      " |  args\n",
      "\n"
     ]
    }
   ],
   "source": [
    "help(FileNotFoundError)"
   ]
  },
  {
   "cell_type": "markdown",
   "metadata": {
    "colab": {},
    "colab_type": "code",
    "id": "Ko_sZTAfGArL"
   },
   "source": [
    "- try: This is the only mandatory clause in a try statement. The code in this block is the first thing that Python runs in a try statement.\n",
    "- except: If Python runs into an exception while running the try block, it will jump to the except block that handles that exception.\n",
    "- else: If Python runs into no exceptions while running the try block, it will run the code in this block after running the try block.\n",
    "- finally: Before Python leaves this try statement, it will run the code in this finally block under any conditions, even if it's ending the program. E.g., if Python ran into an error while running code in the except or else block, this finally block will still be executed before stopping the program."
   ]
  },
  {
   "cell_type": "code",
   "execution_count": null,
   "metadata": {},
   "outputs": [],
   "source": []
  }
 ],
 "metadata": {
  "colab": {
   "authorship_tag": "ABX9TyOq581Ejy4KJVTPOKMlulJl",
   "name": "Error and Exception Handling.ipynb",
   "provenance": [],
   "toc_visible": true
  },
  "kernelspec": {
   "display_name": "Python 3",
   "language": "python",
   "name": "python3"
  },
  "language_info": {
   "codemirror_mode": {
    "name": "ipython",
    "version": 3
   },
   "file_extension": ".py",
   "mimetype": "text/x-python",
   "name": "python",
   "nbconvert_exporter": "python",
   "pygments_lexer": "ipython3",
   "version": "3.7.1"
  }
 },
 "nbformat": 4,
 "nbformat_minor": 1
}
