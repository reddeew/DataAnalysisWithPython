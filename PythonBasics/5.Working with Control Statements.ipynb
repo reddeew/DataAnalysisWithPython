{
 "cells": [
  {
   "cell_type": "markdown",
   "metadata": {},
   "source": [
    "## Control Statements:\n",
    "Control statements are those which are used to control the flow of execution.\n",
    "\n",
    "2 types of control statements:\n",
    "1. Condition Control Statements - Controlled by applying the conditions.\n",
    "2. Loop Control Statements - Controlled by applying the condition based iteration."
   ]
  },
  {
   "cell_type": "markdown",
   "metadata": {},
   "source": [
    "## Condition Control Statements"
   ]
  },
  {
   "cell_type": "markdown",
   "metadata": {},
   "source": [
    "We mostly need the ability to check conditions and control the behavior of the program accordingly. Conditional control statements give us this ability."
   ]
  },
  {
   "cell_type": "markdown",
   "metadata": {},
   "source": [
    "### Simple if statement\n",
    "\n",
    "An **if** statement is a conditional statement that runs or skips code based on whether a condition is true or false. Here's a simple example."
   ]
  },
  {
   "cell_type": "code",
   "execution_count": 9,
   "metadata": {},
   "outputs": [
    {
     "name": "stdout",
     "output_type": "stream",
     "text": [
      "Enter number :10\n",
      "10\n",
      "Not a negative value\n"
     ]
    }
   ],
   "source": [
    "# Check is the number is Negative\n",
    "x = input('Enter number :')\n",
    "print(x)\n",
    "\n",
    "if int(x) >= 0 :\n",
    "    print('Not a negative value')"
   ]
  },
  {
   "cell_type": "markdown",
   "metadata": {},
   "source": [
    "### if-else statement"
   ]
  },
  {
   "cell_type": "code",
   "execution_count": 10,
   "metadata": {},
   "outputs": [
    {
     "name": "stdout",
     "output_type": "stream",
     "text": [
      "Enter number :5\n",
      "5\n",
      "Positve Number\n"
     ]
    }
   ],
   "source": [
    "# Check is the number is positive or negtive value\n",
    "x = input('Enter number :')\n",
    "print(x)\n",
    "if ( int(x) > 0 ) :\n",
    "    print(\"Positve Number\")\n",
    "else :\n",
    "    print(\"Negative Naumber\")"
   ]
  },
  {
   "cell_type": "markdown",
   "metadata": {},
   "source": [
    "### Chained conditional (if-elseif) statements"
   ]
  },
  {
   "cell_type": "markdown",
   "metadata": {},
   "source": [
    "Some scenarios we may need more than two possibilities, chained conditional can solve this:"
   ]
  },
  {
   "cell_type": "code",
   "execution_count": 13,
   "metadata": {},
   "outputs": [
    {
     "name": "stdout",
     "output_type": "stream",
     "text": [
      "Enter number :5\n",
      "5\n",
      "Enter number :9\n",
      "9\n",
      "x is less than y\n"
     ]
    }
   ],
   "source": [
    "# Check is the number is equal or greater or small\n",
    "x = input('Enter number :')\n",
    "print(x)\n",
    "\n",
    "y = input('Enter number :')\n",
    "print(y)\n",
    "\n",
    "if int(x) < int(y):\n",
    "    print('x is less than y')\n",
    "elif int(x) > int(y):\n",
    "    print('x is greater than y')\n",
    "else:\n",
    "    print('x and y are equal')"
   ]
  },
  {
   "cell_type": "markdown",
   "metadata": {},
   "source": [
    "Note:\n",
    "    - There is no limit on the number of elif statements.\n",
    "    - If there is an else clause then it has to be at the end, but there doesn’t have to be one.\n",
    "    - For really complicated conditions you might need to combine some ands, ors and nots together. Use parentheses if you need to make the combinations clear.\n",
    "    - Each condition is checked in order and exactly only one condition block will be executed at once.Even if more than one condition is true, only the first true condition will executes."
   ]
  },
  {
   "cell_type": "markdown",
   "metadata": {},
   "source": [
    "### Truth Value Testing\n",
    "\n",
    "If we use a non-boolean object as a condition in an **if** statement in place of the boolean expression, Python will check for its truth value and use that to decide whether or not to run the indented code. By default, the truth value of an object in Python is considered True unless specified as False in the documentation."
   ]
  },
  {
   "cell_type": "code",
   "execution_count": 1,
   "metadata": {},
   "outputs": [
    {
     "name": "stdout",
     "output_type": "stream",
     "text": [
      "You have 3 errors to fix!\n"
     ]
    }
   ],
   "source": [
    "errors = 3\n",
    "if errors:\n",
    "    print(\"You have {} errors to fix!\".format(errors))\n",
    "else:\n",
    "    print(\"No errors to fix!\")"
   ]
  },
  {
   "cell_type": "markdown",
   "metadata": {},
   "source": [
    "Here, variable **'errors'** has the truth value True because it's a non-zero number, so the error message is printed. This is a nice, succinct way of writing an **if** statement."
   ]
  },
  {
   "cell_type": "markdown",
   "metadata": {},
   "source": [
    "Here are most of the built-in objects that are considered False in Python:\n",
    "\n",
    "- constants defined to be false: None and False\n",
    "- zero of any numeric type: 0, 0.0, 0j, Decimal(0), Fraction(0, 1)\n",
    "- empty sequences and collections: '\"\", (), [], {}, set(), range(0)"
   ]
  },
  {
   "cell_type": "markdown",
   "metadata": {},
   "source": [
    "### Nested conditionals"
   ]
  },
  {
   "cell_type": "markdown",
   "metadata": {},
   "source": [
    "Some scenarios we may need write one condition nested within another."
   ]
  },
  {
   "cell_type": "code",
   "execution_count": 14,
   "metadata": {},
   "outputs": [
    {
     "name": "stdout",
     "output_type": "stream",
     "text": [
      "Enter number :56\n",
      "56\n",
      "Enter number :56\n",
      "56\n",
      "x and y are equal\n"
     ]
    }
   ],
   "source": [
    "# Check is the number is equal or greater or small\n",
    "x = input('Enter number :')\n",
    "print(x)\n",
    "\n",
    "y = input('Enter number :')\n",
    "print(y)\n",
    "\n",
    "if x == y:\n",
    "    print('x and y are equal')\n",
    "else:\n",
    "    if x < y:\n",
    "        print('x is less than y')\n",
    "    else:\n",
    "        print('x is greater than y')"
   ]
  },
  {
   "cell_type": "markdown",
   "metadata": {},
   "source": [
    "The first conditional block with a simple statement. The second conditional block contains another if statement, which has two\n",
    "conditional blocks. Those two conditionalblocks are both simple statements, although they could have been conditional statements as well."
   ]
  },
  {
   "cell_type": "markdown",
   "metadata": {},
   "source": [
    "### Catching exceptions using try and except"
   ]
  },
  {
   "cell_type": "markdown",
   "metadata": {},
   "source": [
    "While executing statements in Python interpreter or executing Python script, if any error occurs immediately stops the execution and does not execute the following statement. \n",
    "\n",
    "To Handle this kind of scenarios, Python provides build in conditional execution structure \"try-except\" to handle these types\n",
    "of expected and unexpected errors.\n",
    "\n",
    "The use of try and except is that you know that some sequence of instruction(s) may have a problem with runtime execution and you want to add some statements to be executed if an error occurs. These extra statements (the except block) are ignored if there is no error."
   ]
  },
  {
   "cell_type": "code",
   "execution_count": 17,
   "metadata": {},
   "outputs": [
    {
     "name": "stdout",
     "output_type": "stream",
     "text": [
      "Enter number :52\n",
      "52\n",
      "result =  26.0\n"
     ]
    }
   ],
   "source": [
    "x = input('Enter number :')\n",
    "print(x)\n",
    "\n",
    "try:\n",
    "    result = int(x) / 2\n",
    "    print('result = ',result)\n",
    "except :\n",
    "    print('Invalid input')"
   ]
  },
  {
   "cell_type": "code",
   "execution_count": 18,
   "metadata": {},
   "outputs": [
    {
     "name": "stdout",
     "output_type": "stream",
     "text": [
      "Enter number :a\n",
      "a\n",
      "Invalid input\n"
     ]
    }
   ],
   "source": [
    "x = input('Enter number :')\n",
    "print(x)\n",
    "\n",
    "try:\n",
    "    result = int(x) / 2\n",
    "    print('result = ',result)\n",
    "except :\n",
    "    print('Invalid input')"
   ]
  },
  {
   "cell_type": "markdown",
   "metadata": {},
   "source": [
    "Python starts by executing the sequence of statements in the try block. If all goes well, it skips the except block and proceeds. If an exception occurs in the try block, Python jumps out of the try block and executes the sequence of statements\n",
    "in the except block."
   ]
  },
  {
   "cell_type": "markdown",
   "metadata": {},
   "source": [
    "## Loop Control Statements"
   ]
  },
  {
   "cell_type": "markdown",
   "metadata": {},
   "source": [
    "Python has two kinds of loops - **for** loops and **while** loops.\n",
    "\n",
    "We mostly need the ability to check conditions and executing the repetitive tasks. Similar to other programming languages Python also provides Loop Conditional control statements.\n",
    "\n",
    "**For** loops are an example of \"definite iteration\" meaning that the loop's body is run a predefined number of times. This differs from \"indefinite iteration\" which is **when** a loop repeats an unknown number of times and ends when some condition is met, which is what happens in a while loop."
   ]
  },
  {
   "cell_type": "markdown",
   "metadata": {},
   "source": [
    "### while statement"
   ]
  },
  {
   "cell_type": "code",
   "execution_count": 22,
   "metadata": {},
   "outputs": [
    {
     "name": "stdout",
     "output_type": "stream",
     "text": [
      "Enter number :5\n",
      "5\n",
      "5\n",
      "4\n",
      "3\n",
      "2\n",
      "1\n",
      "Done\n"
     ]
    }
   ],
   "source": [
    "x = input('Enter number :')\n",
    "print(x)\n",
    "\n",
    "num = int(x)\n",
    "while num > 0 :\n",
    "    print(num)\n",
    "    num = num - 1\n",
    "print(\"Done\")"
   ]
  },
  {
   "cell_type": "markdown",
   "metadata": {},
   "source": [
    "Execution flow starts with checking the condition, if the condition is false exit from the while loop block and continue execution from the next statement. if the condition is true, execute the statements in while block and then go back to the check the condition for furthur iteration.  "
   ]
  },
  {
   "cell_type": "markdown",
   "metadata": {},
   "source": [
    "##### Note: The code block of the loop should have to update the value of the varaible (i.e iteration variable ) that used in the condition, so that the caondtion becomes false and the loop terminates otherwise the loop will repeat forever, resulting in an infinite loop."
   ]
  },
  {
   "cell_type": "markdown",
   "metadata": {},
   "source": [
    "### Handling infinite loops with 'break' statement"
   ]
  },
  {
   "cell_type": "markdown",
   "metadata": {},
   "source": [
    "Handling the infinate loops by using 'break' statement to come out from loop block"
   ]
  },
  {
   "cell_type": "code",
   "execution_count": 26,
   "metadata": {},
   "outputs": [
    {
     "name": "stdout",
     "output_type": "stream",
     "text": [
      "Input :5\n",
      "Input :1\n",
      "Input :2\n",
      "Input :done\n",
      "Total =  8\n"
     ]
    }
   ],
   "source": [
    "total = 0\n",
    "while True :\n",
    "    x = input('Input :')\n",
    "    if x == 'done' :\n",
    "        break;\n",
    "    num = int(x)\n",
    "    total = total + num\n",
    "print ('Total = ',total)"
   ]
  },
  {
   "cell_type": "markdown",
   "metadata": {},
   "source": [
    "Here the loop condition is always true, so the loop runs repeatedly until it hits the break statement. Each time prompts for input, If input is 'done' the break statement and exists the loop otherwise calculate the sum and goes back to the top of the loop."
   ]
  },
  {
   "cell_type": "markdown",
   "metadata": {},
   "source": [
    "### Skip the loop iterations with 'continue' statement"
   ]
  },
  {
   "cell_type": "markdown",
   "metadata": {},
   "source": [
    "Sometime we need to skip the current iteration and go back to the top of the loop for next iteration.we can do this by using 'continue' statement."
   ]
  },
  {
   "cell_type": "code",
   "execution_count": 30,
   "metadata": {},
   "outputs": [
    {
     "name": "stdout",
     "output_type": "stream",
     "text": [
      "Input :4\n",
      "Input :5\n",
      "Input :a\n",
      "Input :1\n",
      "Input :test\n",
      "Input :done\n",
      "Total =  10\n"
     ]
    }
   ],
   "source": [
    "total = 0\n",
    "while True :\n",
    "    x = input('Input :')\n",
    "    if x == 'done' :\n",
    "        break;\n",
    "        \n",
    "    if x.isdigit() == False:\n",
    "        continue;\n",
    "    num = int(x)\n",
    "    total = total + num\n",
    "print ('Total = ',total)"
   ]
  },
  {
   "cell_type": "markdown",
   "metadata": {},
   "source": [
    "Here Each time prompts for input, \n",
    "If input is 'done' the break statement and  exists the loop.\n",
    "If input is not numberic then the continue statement will execute and skip the current iteration,\n",
    "otherwise calculate the sum and goes back to the top of the loop."
   ]
  },
  {
   "cell_type": "markdown",
   "metadata": {},
   "source": [
    "### Using for Loop"
   ]
  },
  {
   "cell_type": "markdown",
   "metadata": {},
   "source": [
    "A for loop is used to \"iterate\", or do something repeatedly, over an **iterable**.\n",
    "\n",
    "An iterable is an object that can return one of its elements at a time. This can include sequence types, such as strings, lists, and tuples, as well as non-sequence types, such as dictionaries and files."
   ]
  },
  {
   "cell_type": "code",
   "execution_count": 3,
   "metadata": {},
   "outputs": [
    {
     "name": "stdout",
     "output_type": "stream",
     "text": [
      "Bangalore\n",
      "Hyderabad\n",
      "Cheenai\n",
      "Delhi\n",
      "Done!\n"
     ]
    }
   ],
   "source": [
    "cities = ['Bangalore', 'Hyderabad', 'Cheenai', 'Delhi']\n",
    "for city in cities:\n",
    "    print(city)\n",
    "print(\"Done!\")"
   ]
  },
  {
   "cell_type": "markdown",
   "metadata": {},
   "source": [
    "Here, varaible **city** is an iteration variable. You can name iteration variables however you like. A common pattern is to give the iteration variable and iterable the same names, except the singular and plural versions respectively (e.g., 'city' and 'cities')."
   ]
  },
  {
   "cell_type": "markdown",
   "metadata": {},
   "source": [
    "'While' will executet he loop until the condition becomes False, whereas the 'for' loop is looping through a known set of items. When we have a list of things to loop through, we can construct a definite loop using a for statement."
   ]
  },
  {
   "cell_type": "markdown",
   "metadata": {},
   "source": [
    "### Using the range() Function with for Loops"
   ]
  },
  {
   "cell_type": "markdown",
   "metadata": {},
   "source": [
    "range() is a built-in function used to create an iterable sequence of numbers. You will frequently use range() with a for loop to repeat an action a certain number of times. Any variable can be used to iterate through the numbers, but Python programmers conventionally use i, as in this example:"
   ]
  },
  {
   "cell_type": "code",
   "execution_count": 4,
   "metadata": {},
   "outputs": [
    {
     "name": "stdout",
     "output_type": "stream",
     "text": [
      "Hello!\n",
      "Hello!\n",
      "Hello!\n"
     ]
    }
   ],
   "source": [
    "for i in range(3):\n",
    "    print(\"Hello!\")"
   ]
  },
  {
   "cell_type": "code",
   "execution_count": 6,
   "metadata": {},
   "outputs": [
    {
     "name": "stdout",
     "output_type": "stream",
     "text": [
      "['Bangalore', 'Hyderabad', 'Cheenai', 'Delhi']\n"
     ]
    }
   ],
   "source": [
    "cities = ['Bangalore', 'Hyderabad', 'Cheenai', 'Delhi']\n",
    "for index in range(len(cities)):\n",
    "    cities[index] = cities[index].title()\n",
    "print(cities)"
   ]
  },
  {
   "cell_type": "markdown",
   "metadata": {},
   "source": [
    "**range(start=0, stop, step=1)**\n",
    "\n",
    "The range() function takes three integer arguments, the first and third of which are optional:\n",
    "\n",
    "The 'start' argument is the first number of the sequence. If unspecified, 'start' defaults to 0.\n",
    "The 'stop' argument is 1 more than the last number of the sequence. This argument must be specified.\n",
    "The 'step' argument is the difference between each number in the sequence. If unspecified, 'step' defaults to 1."
   ]
  },
  {
   "cell_type": "code",
   "execution_count": 17,
   "metadata": {},
   "outputs": [
    {
     "name": "stdout",
     "output_type": "stream",
     "text": [
      "[0, 1, 2, 3]\n"
     ]
    }
   ],
   "source": [
    "list1 = []\n",
    "for i in range(4):\n",
    "    list1.append(i)\n",
    "    \n",
    "print(list1)"
   ]
  },
  {
   "cell_type": "code",
   "execution_count": 19,
   "metadata": {},
   "outputs": [
    {
     "name": "stdout",
     "output_type": "stream",
     "text": [
      "[2, 3, 4, 5]\n"
     ]
    }
   ],
   "source": [
    "list2 = []\n",
    "for i in range(2,6):\n",
    "    list2.append(i)\n",
    "    \n",
    "print(list2)"
   ]
  },
  {
   "cell_type": "code",
   "execution_count": 20,
   "metadata": {},
   "outputs": [
    {
     "name": "stdout",
     "output_type": "stream",
     "text": [
      "[1, 3, 5, 7, 9]\n"
     ]
    }
   ],
   "source": [
    "list3 = []\n",
    "for i in range(1,10,2):\n",
    "    list3.append(i)\n",
    "    \n",
    "print(list3)"
   ]
  },
  {
   "cell_type": "markdown",
   "metadata": {},
   "source": [
    "## For Loops Vs. While Loops"
   ]
  },
  {
   "cell_type": "markdown",
   "metadata": {},
   "source": [
    "**for loops** are ideal **when the number of iterations is known or finite**.\n",
    "\n",
    "Examples:\n",
    "\n",
    "- When you have an iterable collection (list, string, set, tuple, dictionary)\n",
    "    - for name in names:\n",
    "- When you want to iterate through a loop for a definite number of times, using range()\n",
    "    - for i in range(5):"
   ]
  },
  {
   "cell_type": "markdown",
   "metadata": {},
   "source": [
    "**while loops** are ideal when the **iterations need to continue until a condition is met**.\n",
    "\n",
    "Examples:\n",
    "\n",
    "- When you want to use comparison operators\n",
    "    - while count <= 100:\n",
    "- When you want to loop based on receiving specific user input.\n",
    "    - while user_input == 'y':\n"
   ]
  },
  {
   "cell_type": "markdown",
   "metadata": {},
   "source": [
    "## If-Else on one line\n",
    "\n",
    "```\n",
    "some_expression if condition else other_expression\n",
    "```"
   ]
  },
  {
   "cell_type": "code",
   "execution_count": 1,
   "metadata": {},
   "outputs": [
    {
     "name": "stdout",
     "output_type": "stream",
     "text": [
      "Adult\n"
     ]
    }
   ],
   "source": [
    "age = 20\n",
    "age_group = \"Adult\" if age > 18 else \"Minor\"\n",
    "print(age_group)"
   ]
  },
  {
   "cell_type": "code",
   "execution_count": null,
   "metadata": {},
   "outputs": [],
   "source": []
  }
 ],
 "metadata": {
  "kernelspec": {
   "display_name": "Python 3.9.12 ('base')",
   "language": "python",
   "name": "python3"
  },
  "language_info": {
   "codemirror_mode": {
    "name": "ipython",
    "version": 3
   },
   "file_extension": ".py",
   "mimetype": "text/x-python",
   "name": "python",
   "nbconvert_exporter": "python",
   "pygments_lexer": "ipython3",
   "version": "3.9.12"
  },
  "vscode": {
   "interpreter": {
    "hash": "0d6450ea8c36883a52192d80d5d76e8b87b140b0e834c98a892f22e382236c6b"
   }
  }
 },
 "nbformat": 4,
 "nbformat_minor": 2
}
