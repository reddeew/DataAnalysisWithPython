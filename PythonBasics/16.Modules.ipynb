{
 "cells": [
  {
   "cell_type": "markdown",
   "metadata": {},
   "source": [
    "# Modules, Packages, and Names"
   ]
  },
  {
   "cell_type": "markdown",
   "metadata": {},
   "source": [
    "In order to manage the code better, modules in the Python Standard Library are split down into sub-modules that are contained within a package. \n",
    "\n",
    "A package is simply a module that contains sub-modules. A sub-module is specified with the usual dot notation. You can import the submodule like:"
   ]
  },
  {
   "cell_type": "raw",
   "metadata": {},
   "source": [
    "import package_name.submodule_name"
   ]
  },
  {
   "cell_type": "markdown",
   "metadata": {},
   "source": [
    "Modules that are submodules are specified by the package name and then the submodule name separated by a dot."
   ]
  },
  {
   "cell_type": "markdown",
   "metadata": {},
   "source": [
    "### There are other variants of import statements that are useful in different situations."
   ]
  },
  {
   "cell_type": "markdown",
   "metadata": {},
   "source": [
    "### Import an individual function or class from a module"
   ]
  },
  {
   "cell_type": "raw",
   "metadata": {},
   "source": [
    "from module_name import object_name"
   ]
  },
  {
   "cell_type": "markdown",
   "metadata": {},
   "source": [
    "###  Import multiple individual objects from a module"
   ]
  },
  {
   "cell_type": "raw",
   "metadata": {},
   "source": [
    "from module_name import first_object, second_object"
   ]
  },
  {
   "cell_type": "markdown",
   "metadata": {},
   "source": [
    "###  Import a module and rename it"
   ]
  },
  {
   "cell_type": "raw",
   "metadata": {},
   "source": [
    "import module_name as new_name"
   ]
  },
  {
   "cell_type": "markdown",
   "metadata": {},
   "source": [
    "###  Import an object from a module and rename it"
   ]
  },
  {
   "cell_type": "raw",
   "metadata": {},
   "source": [
    "from module_name import object_name as new_name"
   ]
  },
  {
   "cell_type": "markdown",
   "metadata": {},
   "source": [
    "###  Import every object individually from a module"
   ]
  },
  {
   "cell_type": "raw",
   "metadata": {},
   "source": [
    "from module_name import *"
   ]
  },
  {
   "cell_type": "markdown",
   "metadata": {},
   "source": [
    "**If you really want to use all of the objects from a module, use the standard import module_name statement instead and access each of the objects with the dot notation.**"
   ]
  },
  {
   "cell_type": "markdown",
   "metadata": {},
   "source": [
    "import module_name"
   ]
  }
 ],
 "metadata": {
  "kernelspec": {
   "display_name": "Python 3",
   "language": "python",
   "name": "python3"
  },
  "language_info": {
   "codemirror_mode": {
    "name": "ipython",
    "version": 3
   },
   "file_extension": ".py",
   "mimetype": "text/x-python",
   "name": "python",
   "nbconvert_exporter": "python",
   "pygments_lexer": "ipython3",
   "version": "3.7.1"
  }
 },
 "nbformat": 4,
 "nbformat_minor": 2
}
