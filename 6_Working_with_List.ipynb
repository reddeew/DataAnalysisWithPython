{
  "nbformat": 4,
  "nbformat_minor": 0,
  "metadata": {
    "kernelspec": {
      "display_name": "Python 3",
      "language": "python",
      "name": "python3"
    },
    "language_info": {
      "codemirror_mode": {
        "name": "ipython",
        "version": 3
      },
      "file_extension": ".py",
      "mimetype": "text/x-python",
      "name": "python",
      "nbconvert_exporter": "python",
      "pygments_lexer": "ipython3",
      "version": "3.7.3"
    },
    "colab": {
      "name": "6.Working with List.ipynb",
      "provenance": [],
      "include_colab_link": true
    }
  },
  "cells": [
    {
      "cell_type": "markdown",
      "metadata": {
        "id": "view-in-github",
        "colab_type": "text"
      },
      "source": [
        "<a href=\"https://colab.research.google.com/github/sateeshfrnd/DataAnalysisWithPython/blob/master/6_Working_with_List.ipynb\" target=\"_parent\"><img src=\"https://colab.research.google.com/assets/colab-badge.svg\" alt=\"Open In Colab\"/></a>"
      ]
    },
    {
      "cell_type": "markdown",
      "metadata": {
        "id": "gZnGseuLxo6e",
        "colab_type": "text"
      },
      "source": [
        "## List"
      ]
    },
    {
      "cell_type": "markdown",
      "metadata": {
        "id": "x8kxDtDfxo6f",
        "colab_type": "text"
      },
      "source": [
        "**Data structures** are containers that organize and group data types together in different ways. A **List** is one of the most common and basic data structures in Python.\n",
        "\n",
        "Python List store a series of items in a particular order. Lists are mutable."
      ]
    },
    {
      "cell_type": "markdown",
      "metadata": {
        "id": "0LbNRX7_xo6g",
        "colab_type": "text"
      },
      "source": [
        "### Defining a List\n",
        "- Defining a list by using square brackets and use commas to separate individual items in the list. \n",
        "- Lists can contain any mix and match of the data types."
      ]
    },
    {
      "cell_type": "code",
      "metadata": {
        "scrolled": true,
        "id": "xYzg3BcWxo6g",
        "colab_type": "code",
        "outputId": "a7dda413-01ed-4e9a-875a-ca89261f4fea",
        "colab": {}
      },
      "source": [
        "list1 = [1,2,3, 'Hello',5, \"Hi\"]\n",
        "print(list1)"
      ],
      "execution_count": 0,
      "outputs": [
        {
          "output_type": "stream",
          "text": [
            "[1, 2, 3, 'Hello', 5, 'Hi']\n"
          ],
          "name": "stdout"
        }
      ]
    },
    {
      "cell_type": "code",
      "metadata": {
        "id": "2gTzTlaUxo6m",
        "colab_type": "code",
        "outputId": "b87d026b-da93-4687-9401-49e96098ed41",
        "colab": {}
      },
      "source": [
        "list_empty = []\n",
        "print(list_empty)"
      ],
      "execution_count": 0,
      "outputs": [
        {
          "output_type": "stream",
          "text": [
            "[]\n"
          ],
          "name": "stdout"
        }
      ]
    },
    {
      "cell_type": "code",
      "metadata": {
        "id": "wQZVRPIOxo6p",
        "colab_type": "code",
        "outputId": "f73d0b98-b1f2-4ad2-c008-554dcaea2a33",
        "colab": {}
      },
      "source": [
        "list_empty2 = list()\n",
        "print(list_empty2)"
      ],
      "execution_count": 0,
      "outputs": [
        {
          "output_type": "stream",
          "text": [
            "[]\n"
          ],
          "name": "stdout"
        }
      ]
    },
    {
      "cell_type": "markdown",
      "metadata": {
        "id": "bZkTSaqnxo6t",
        "colab_type": "text"
      },
      "source": [
        "- Nested List : A list within List"
      ]
    },
    {
      "cell_type": "code",
      "metadata": {
        "id": "FKZu5AKSxo6t",
        "colab_type": "code",
        "outputId": "72af1515-10b9-485c-a852-a4673f623292",
        "colab": {}
      },
      "source": [
        "list2 = [1,2,3, ['Hello',5], \"Hi\"]\n",
        "print(list2)"
      ],
      "execution_count": 0,
      "outputs": [
        {
          "output_type": "stream",
          "text": [
            "[1, 2, 3, ['Hello', 5], 'Hi']\n"
          ],
          "name": "stdout"
        }
      ]
    },
    {
      "cell_type": "code",
      "metadata": {
        "id": "s5VHNrEsxo6x",
        "colab_type": "code",
        "outputId": "309894fb-06c4-4369-ce95-7b83c0ed94bf",
        "colab": {}
      },
      "source": [
        "list_multi = [[1,2,3], [4,5,6],[7,8,9]]\n",
        "print(list_multi)"
      ],
      "execution_count": 0,
      "outputs": [
        {
          "output_type": "stream",
          "text": [
            "[[1, 2, 3], [4, 5, 6], [7, 8, 9]]\n"
          ],
          "name": "stdout"
        }
      ]
    },
    {
      "cell_type": "markdown",
      "metadata": {
        "id": "ed0fWMvkxo61",
        "colab_type": "text"
      },
      "source": [
        "### Accessing elements\n",
        "- Individual elements in a list are accessed through index.\n",
        "- Index starts with 0\n",
        "- Negative index refers to itemsat the end of the list."
      ]
    },
    {
      "cell_type": "code",
      "metadata": {
        "id": "_42LRcqcxo62",
        "colab_type": "code",
        "outputId": "29379c62-7abe-440b-d24f-f5ab6430d87f",
        "colab": {}
      },
      "source": [
        "print(list1)\n",
        "print('first item = ',list1[0])\n",
        "print('last item = ',list1[-1])\n",
        "print(list1[-2])\n",
        "print(list1[3])\n",
        "print(list1[2:5])\n",
        "print(list1[:])"
      ],
      "execution_count": 0,
      "outputs": [
        {
          "output_type": "stream",
          "text": [
            "[1, 2, 3, 'Hello', 5, 'Hi']\n",
            "first item =  1\n",
            "last item =  Hi\n",
            "5\n",
            "Hello\n",
            "[3, 'Hello', 5]\n",
            "[1, 2, 3, 'Hello', 5, 'Hi']\n"
          ],
          "name": "stdout"
        }
      ]
    },
    {
      "cell_type": "code",
      "metadata": {
        "id": "-KP_YwH4xo66",
        "colab_type": "code",
        "outputId": "d3c07c3b-9119-43e1-c379-2e3f620851b2",
        "colab": {}
      },
      "source": [
        "mlist = [[1,2,3,[10,20,30,[100,200,300]]]]\n",
        "print(mlist[0][3][3][1])"
      ],
      "execution_count": 0,
      "outputs": [
        {
          "output_type": "stream",
          "text": [
            "200\n"
          ],
          "name": "stdout"
        }
      ]
    },
    {
      "cell_type": "markdown",
      "metadata": {
        "id": "8P_Eq88Oxo69",
        "colab_type": "text"
      },
      "source": [
        "## Traversing a list"
      ]
    },
    {
      "cell_type": "markdown",
      "metadata": {
        "id": "2BrgHoUYxo6-",
        "colab_type": "text"
      },
      "source": [
        "The most common way to traverse the elements of a list is with a for loop."
      ]
    },
    {
      "cell_type": "code",
      "metadata": {
        "id": "Q6RnZGKyxo6_",
        "colab_type": "code",
        "outputId": "9ff43ab2-522e-4e05-da2a-bd38bfb54096",
        "colab": {}
      },
      "source": [
        "for item in list2:\n",
        "    print(item)"
      ],
      "execution_count": 0,
      "outputs": [
        {
          "output_type": "stream",
          "text": [
            "1\n",
            "2\n",
            "3\n",
            "['Hello', 5]\n",
            "Hi\n"
          ],
          "name": "stdout"
        }
      ]
    },
    {
      "cell_type": "markdown",
      "metadata": {
        "id": "SEhkB2_Ixo7B",
        "colab_type": "text"
      },
      "source": [
        "Python provides an efficient way to loop through all the items in a list. When you set up a loop, Python pulls each item from the list one at a time and stores it in a temporary variable, which you provide a name for. This name should be the singular version of the list name. \n",
        "\n",
        "The indented block of code makes up the body of the loop, where you can work with each individual item. Any lines that are not indented run after the loop is completed."
      ]
    },
    {
      "cell_type": "markdown",
      "metadata": {
        "id": "TpmIhXhnxo7C",
        "colab_type": "text"
      },
      "source": [
        "## List Operations"
      ]
    },
    {
      "cell_type": "code",
      "metadata": {
        "id": "P1FJTB2Nxo7D",
        "colab_type": "code",
        "outputId": "c00458b2-22c7-4cfb-d959-7cb4c949ccf2",
        "colab": {}
      },
      "source": [
        "# concatenate lists usinf '+' operator\n",
        "x = [1, 2, 3]\n",
        "y = [4, 5, 6]\n",
        "print(x + y)"
      ],
      "execution_count": 0,
      "outputs": [
        {
          "output_type": "stream",
          "text": [
            "[1, 2, 3, 4, 5, 6]\n"
          ],
          "name": "stdout"
        }
      ]
    },
    {
      "cell_type": "code",
      "metadata": {
        "id": "2Y3HOUgaxo7G",
        "colab_type": "code",
        "outputId": "27e04074-bff9-483a-f32d-48c4f2a8ddff",
        "colab": {}
      },
      "source": [
        "print(x * 2)"
      ],
      "execution_count": 0,
      "outputs": [
        {
          "output_type": "stream",
          "text": [
            "[1, 2, 3, 1, 2, 3]\n"
          ],
          "name": "stdout"
        }
      ]
    },
    {
      "cell_type": "markdown",
      "metadata": {
        "id": "m9M_kgU9xo7I",
        "colab_type": "text"
      },
      "source": [
        "## Slicing and Dice with Lists\n",
        "Reading more than one value from a list at a time by using slicing. When using slicing, it is important to remember that the lower index is inclusive and the upper index is exclusive.\n"
      ]
    },
    {
      "cell_type": "code",
      "metadata": {
        "id": "i-WIm_O9xo7J",
        "colab_type": "code",
        "outputId": "3779d2f1-ae6b-459a-b891-61ebc2d65a6a",
        "colab": {}
      },
      "source": [
        "print(list1)\n",
        "print(list2)"
      ],
      "execution_count": 0,
      "outputs": [
        {
          "output_type": "stream",
          "text": [
            "[1, 2, 3, 'Hello', 5, 'Hi']\n",
            "[1, 2, 3, ['Hello', 5], 'Hi']\n"
          ],
          "name": "stdout"
        }
      ]
    },
    {
      "cell_type": "code",
      "metadata": {
        "id": "YeQhTavnxo7M",
        "colab_type": "code",
        "outputId": "f9288088-1a6e-4d9c-d91c-8a58d480e438",
        "colab": {}
      },
      "source": [
        "print(list1[1:4])"
      ],
      "execution_count": 0,
      "outputs": [
        {
          "output_type": "stream",
          "text": [
            "[2, 3, 'Hello']\n"
          ],
          "name": "stdout"
        }
      ]
    },
    {
      "cell_type": "markdown",
      "metadata": {
        "id": "Ce3IJDo4zXVR",
        "colab_type": "text"
      },
      "source": [
        "Notice this is still different than just indexing a single element, because you get a list back with this indexing. The colon tells us to go from the starting value on the left of the colon up to, but not including, the element on the right."
      ]
    },
    {
      "cell_type": "markdown",
      "metadata": {
        "id": "0ybcxlHtzjGT",
        "colab_type": "text"
      },
      "source": [
        "If you know that you want to start at the beginning, of the list you can also leave out this value."
      ]
    },
    {
      "cell_type": "code",
      "metadata": {
        "id": "dM-I8TPrxo7Q",
        "colab_type": "code",
        "outputId": "dc1c8764-3833-49ec-f726-cf01969904f1",
        "colab": {}
      },
      "source": [
        "print(list1[:4])"
      ],
      "execution_count": 0,
      "outputs": [
        {
          "output_type": "stream",
          "text": [
            "[1, 2, 3, 'Hello']\n"
          ],
          "name": "stdout"
        }
      ]
    },
    {
      "cell_type": "markdown",
      "metadata": {
        "id": "cqOcUrlCzpOA",
        "colab_type": "text"
      },
      "source": [
        "If you know that you want to start at the ending, of the list you can also leave out this value."
      ]
    },
    {
      "cell_type": "code",
      "metadata": {
        "id": "0PzFfUQexo7X",
        "colab_type": "code",
        "outputId": "c80e6042-5436-43cd-faea-feee17eb019c",
        "colab": {}
      },
      "source": [
        "print(list1[-4])"
      ],
      "execution_count": 0,
      "outputs": [
        {
          "output_type": "stream",
          "text": [
            "3\n"
          ],
          "name": "stdout"
        }
      ]
    },
    {
      "cell_type": "markdown",
      "metadata": {
        "id": "ZnQy4uJ80DkU",
        "colab_type": "text"
      },
      "source": [
        "Get all of the elements to the end of the list, we can leave off a final element."
      ]
    },
    {
      "cell_type": "code",
      "metadata": {
        "id": "h0dQVPY6xo7a",
        "colab_type": "code",
        "outputId": "8c364d8e-88b4-486a-fb43-8db2c847c2fd",
        "colab": {}
      },
      "source": [
        "print(list1[2:])"
      ],
      "execution_count": 0,
      "outputs": [
        {
          "output_type": "stream",
          "text": [
            "[3, 'Hello', 5, 'Hi']\n"
          ],
          "name": "stdout"
        }
      ]
    },
    {
      "cell_type": "code",
      "metadata": {
        "id": "KxCf0Ogwxo7d",
        "colab_type": "code",
        "outputId": "d6f16602-391f-410b-e658-62f34f5d55a9",
        "colab": {}
      },
      "source": [
        "print(list1[:])"
      ],
      "execution_count": 0,
      "outputs": [
        {
          "output_type": "stream",
          "text": [
            "['1', 2, 3, 'Hello', 5, 'Hi']\n"
          ],
          "name": "stdout"
        }
      ]
    },
    {
      "cell_type": "markdown",
      "metadata": {
        "id": "ywhmQzn-xo7g",
        "colab_type": "text"
      },
      "source": [
        "#### Note: \n",
        "- This type of indexing works exactly the same on strings, where the returned value will be a string.\n",
        "- Since lists are mutable, it is often useful to make a copy before performing operations that fold, spindle, or mutilate lists."
      ]
    },
    {
      "cell_type": "markdown",
      "metadata": {
        "id": "psCEJZLV0oDn",
        "colab_type": "text"
      },
      "source": [
        "# Check is element is 'in' or 'not in'"
      ]
    },
    {
      "cell_type": "code",
      "metadata": {
        "id": "1D5aTnTQ0zGM",
        "colab_type": "code",
        "outputId": "2b924f53-b870-4d59-9009-b20e7beae165",
        "colab": {
          "base_uri": "https://localhost:8080/",
          "height": 34
        }
      },
      "source": [
        "\"Python\" in \"Python Programming\""
      ],
      "execution_count": 0,
      "outputs": [
        {
          "output_type": "execute_result",
          "data": {
            "text/plain": [
              "True"
            ]
          },
          "metadata": {
            "tags": []
          },
          "execution_count": 1
        }
      ]
    },
    {
      "cell_type": "code",
      "metadata": {
        "id": "rX98nTO509cm",
        "colab_type": "code",
        "outputId": "5c752795-e5de-4958-8195-38aefe066e68",
        "colab": {
          "base_uri": "https://localhost:8080/",
          "height": 34
        }
      },
      "source": [
        "\"Program\" in \"Python Programming\""
      ],
      "execution_count": 0,
      "outputs": [
        {
          "output_type": "execute_result",
          "data": {
            "text/plain": [
              "True"
            ]
          },
          "metadata": {
            "tags": []
          },
          "execution_count": 2
        }
      ]
    },
    {
      "cell_type": "code",
      "metadata": {
        "id": "VvAhWgzV1GND",
        "colab_type": "code",
        "outputId": "4832c9a2-826a-4fbe-b64d-2e2e0b6d1229",
        "colab": {
          "base_uri": "https://localhost:8080/",
          "height": 34
        }
      },
      "source": [
        "6 not in ['1', 2, 3, 'Hello', 5, 'Hi']"
      ],
      "execution_count": 0,
      "outputs": [
        {
          "output_type": "execute_result",
          "data": {
            "text/plain": [
              "True"
            ]
          },
          "metadata": {
            "tags": []
          },
          "execution_count": 3
        }
      ]
    },
    {
      "cell_type": "code",
      "metadata": {
        "id": "tTTRF7rz1Mk4",
        "colab_type": "code",
        "outputId": "f63f5aa6-b267-4b57-a548-79a6eedc82bf",
        "colab": {
          "base_uri": "https://localhost:8080/",
          "height": 34
        }
      },
      "source": [
        "5 in ['1', 2, 3, 'Hello', 5, 'Hi']"
      ],
      "execution_count": 0,
      "outputs": [
        {
          "output_type": "execute_result",
          "data": {
            "text/plain": [
              "True"
            ]
          },
          "metadata": {
            "tags": []
          },
          "execution_count": 4
        }
      ]
    },
    {
      "cell_type": "markdown",
      "metadata": {
        "id": "sqmu5XZfxo7g",
        "colab_type": "text"
      },
      "source": [
        "\n",
        "## Mutability\n",
        "**Mutability** is about whether or not we can change an object once it has been created. \n",
        "- If an object (like a list or string) can be changed (like a list can), then it is called **Mutable**.\n",
        "\n",
        "- if an object cannot be changed with creating a completely new object (like strings), then the object is considered **Immutable**.\n"
      ]
    },
    {
      "cell_type": "code",
      "metadata": {
        "id": "R4SVQd9cxo7h",
        "colab_type": "code",
        "outputId": "f32705cb-902e-4c58-b37f-81fdb27faa62",
        "colab": {}
      },
      "source": [
        "print(list1)\n",
        "print(list2)"
      ],
      "execution_count": 0,
      "outputs": [
        {
          "output_type": "stream",
          "text": [
            "['1', 2, 3, 'Hello', 5, 'Hi']\n",
            "[1, 2, 3, ['Hello', 5], 'Hi']\n"
          ],
          "name": "stdout"
        }
      ]
    },
    {
      "cell_type": "code",
      "metadata": {
        "id": "Ns8p4oFyxo7k",
        "colab_type": "code",
        "outputId": "eecdc34f-3676-4245-bfa8-04b4fb540674",
        "colab": {}
      },
      "source": [
        "list1[0] = 'first'\n",
        "print(list1)"
      ],
      "execution_count": 0,
      "outputs": [
        {
          "output_type": "stream",
          "text": [
            "['first', 2, 3, 'Hello', 5, 'Hi']\n"
          ],
          "name": "stdout"
        }
      ]
    },
    {
      "cell_type": "code",
      "metadata": {
        "id": "jmlLvw6Txo7n",
        "colab_type": "code",
        "outputId": "07e2264d-d4b9-4d06-aa97-d99fea873cc0",
        "colab": {}
      },
      "source": [
        "list1[-1] = 'last'\n",
        "print(list1)"
      ],
      "execution_count": 0,
      "outputs": [
        {
          "output_type": "stream",
          "text": [
            "['first', 2, 3, 'Hello', 5, 'last']\n"
          ],
          "name": "stdout"
        }
      ]
    },
    {
      "cell_type": "markdown",
      "metadata": {
        "id": "HerbIVH_2vfs",
        "colab_type": "text"
      },
      "source": [
        "*We are able to replace elements in the above list. This is because lists are mutable.*\n",
        "\n",
        "However, the following does not work:"
      ]
    },
    {
      "cell_type": "code",
      "metadata": {
        "id": "tZj4_Q1T3HvJ",
        "colab_type": "code",
        "outputId": "5e50c7d6-f6f0-46b3-bfea-ea27e7a3024b",
        "colab": {
          "base_uri": "https://localhost:8080/",
          "height": 180
        }
      },
      "source": [
        "wishes = \"Hello, Good Morning\"\n",
        "wishes[0] = 'S'"
      ],
      "execution_count": 0,
      "outputs": [
        {
          "output_type": "error",
          "ename": "TypeError",
          "evalue": "ignored",
          "traceback": [
            "\u001b[0;31m---------------------------------------------------------------------------\u001b[0m",
            "\u001b[0;31mTypeError\u001b[0m                                 Traceback (most recent call last)",
            "\u001b[0;32m<ipython-input-5-afb06db87d63>\u001b[0m in \u001b[0;36m<module>\u001b[0;34m()\u001b[0m\n\u001b[1;32m      1\u001b[0m \u001b[0mwishes\u001b[0m \u001b[0;34m=\u001b[0m \u001b[0;34m\"Hello, Good Morning\"\u001b[0m\u001b[0;34m\u001b[0m\u001b[0;34m\u001b[0m\u001b[0m\n\u001b[0;32m----> 2\u001b[0;31m \u001b[0mwishes\u001b[0m\u001b[0;34m[\u001b[0m\u001b[0;36m0\u001b[0m\u001b[0;34m]\u001b[0m \u001b[0;34m=\u001b[0m \u001b[0;34m'S'\u001b[0m\u001b[0;34m\u001b[0m\u001b[0;34m\u001b[0m\u001b[0m\n\u001b[0m",
            "\u001b[0;31mTypeError\u001b[0m: 'str' object does not support item assignment"
          ]
        }
      ]
    },
    {
      "cell_type": "markdown",
      "metadata": {
        "id": "IEDemif73yPE",
        "colab_type": "text"
      },
      "source": [
        "This is because strings are immutable. This means to change this string, you will need to create a completely new string."
      ]
    },
    {
      "cell_type": "markdown",
      "metadata": {
        "id": "wfyC6CZW35VW",
        "colab_type": "text"
      },
      "source": [
        "There are two things to keep in mind for each of the data types you are using:\n",
        "\n",
        "- Are they **mutable**?\n",
        "- Are they **ordered**?\n",
        "\n",
        "**Order** is about whether the position of an element in the object can be used to access the element. \n",
        "\n",
        "**Both strings and lists are ordered**. We can use the order to access parts of a list and string."
      ]
    },
    {
      "cell_type": "markdown",
      "metadata": {
        "id": "FwhJlWIaxo7q",
        "colab_type": "text"
      },
      "source": [
        "## Adding an element to list"
      ]
    },
    {
      "cell_type": "code",
      "metadata": {
        "id": "l03h1kn7xo7q",
        "colab_type": "code",
        "outputId": "050c3a26-337d-4878-fd97-6d11b4cd2503",
        "colab": {}
      },
      "source": [
        "# Adding an element to the endof the list\n",
        "list1.append('last')\n",
        "print(list1)"
      ],
      "execution_count": 0,
      "outputs": [
        {
          "output_type": "stream",
          "text": [
            "['first', 2, 3, 'Hello', 5, 'last', 'last']\n"
          ],
          "name": "stdout"
        }
      ]
    },
    {
      "cell_type": "code",
      "metadata": {
        "id": "0WRU71U3xo7s",
        "colab_type": "code",
        "outputId": "f3c9c3b7-8da2-4670-ce5b-ed1ef30d095d",
        "colab": {}
      },
      "source": [
        "# Insert element at a particular position\n",
        "list1.insert(0, 'first')\n",
        "print(list1)"
      ],
      "execution_count": 0,
      "outputs": [
        {
          "output_type": "stream",
          "text": [
            "['first', 'first', 2, 3, 'Hello', 5, 'last', 'last']\n"
          ],
          "name": "stdout"
        }
      ]
    },
    {
      "cell_type": "code",
      "metadata": {
        "id": "5nkMRvSJxo7v",
        "colab_type": "code",
        "outputId": "35f1a429-b3ff-44a6-9a3e-a2990a8ef6cf",
        "colab": {}
      },
      "source": [
        "list1.insert(4, 'middle')\n",
        "print(list1)"
      ],
      "execution_count": 0,
      "outputs": [
        {
          "output_type": "stream",
          "text": [
            "['first', 'first', 2, 3, 'middle', 'Hello', 5, 'last', 'last']\n"
          ],
          "name": "stdout"
        }
      ]
    },
    {
      "cell_type": "markdown",
      "metadata": {
        "id": "n1bIiVznxo7x",
        "colab_type": "text"
      },
      "source": [
        "## Removing elements"
      ]
    },
    {
      "cell_type": "code",
      "metadata": {
        "id": "vm61D93Hxo7z",
        "colab_type": "code",
        "outputId": "c0f9472e-7e5f-4baf-e8ad-7fc0f6164ef2",
        "colab": {}
      },
      "source": [
        "# Removing an item by its position\n",
        "print(list1)\n",
        "del list1[-2]\n",
        "print(list1)"
      ],
      "execution_count": 0,
      "outputs": [
        {
          "output_type": "stream",
          "text": [
            "['first', 'first', 2, 3, 'middle', 'Hello', 5, 'last', 'last']\n",
            "['first', 'first', 2, 3, 'middle', 'Hello', 5, 'last']\n"
          ],
          "name": "stdout"
        }
      ]
    },
    {
      "cell_type": "code",
      "metadata": {
        "id": "O8tPcjwTxo73",
        "colab_type": "code",
        "outputId": "bfe6bfca-543a-41df-94ec-51b0ea1e4583",
        "colab": {}
      },
      "source": [
        "# Removing an item by its value (removes only the first item that has that value.)\n",
        "print(list1)\n",
        "list1.remove('middle')\n",
        "print(list1)"
      ],
      "execution_count": 0,
      "outputs": [
        {
          "output_type": "stream",
          "text": [
            "['first', 'first', 2, 3, 'middle', 'Hello', 5, 'last']\n",
            "['first', 'first', 2, 3, 'Hello', 5, 'last']\n"
          ],
          "name": "stdout"
        }
      ]
    },
    {
      "cell_type": "markdown",
      "metadata": {
        "id": "BODYUoQzxo76",
        "colab_type": "text"
      },
      "source": [
        "### Sorting List"
      ]
    },
    {
      "cell_type": "code",
      "metadata": {
        "id": "8NCq3CsIxo76",
        "colab_type": "code",
        "outputId": "f529d32d-3993-416e-ab65-500bc1061dcb",
        "colab": {}
      },
      "source": [
        "num_list = [43,435,76,45,97,2,56]\n",
        "print (num_list)"
      ],
      "execution_count": 0,
      "outputs": [
        {
          "output_type": "stream",
          "text": [
            "[43, 435, 76, 45, 97, 2, 56]\n"
          ],
          "name": "stdout"
        }
      ]
    },
    {
      "cell_type": "code",
      "metadata": {
        "id": "4SoxR8cNxo79",
        "colab_type": "code",
        "outputId": "6c0b9ab0-a281-4d5c-ea63-3505f3835785",
        "colab": {}
      },
      "source": [
        "num_list.sort()\n",
        "print (num_list)\n",
        "\n",
        "num_list.sort(reverse=True)\n",
        "print (num_list)"
      ],
      "execution_count": 0,
      "outputs": [
        {
          "output_type": "stream",
          "text": [
            "[2, 43, 45, 56, 76, 97, 435]\n",
            "[435, 97, 76, 56, 45, 43, 2]\n"
          ],
          "name": "stdout"
        }
      ]
    },
    {
      "cell_type": "markdown",
      "metadata": {
        "id": "5zAW21muxo7_",
        "colab_type": "text"
      },
      "source": [
        "Note: sort() function returns a copy of the sorted list and leaving the original order."
      ]
    },
    {
      "cell_type": "code",
      "metadata": {
        "id": "Le_iOPAtxo7_",
        "colab_type": "code",
        "outputId": "2681e27d-cf51-4d9d-f963-45cc290bd83b",
        "colab": {}
      },
      "source": [
        "# sorting a list temporarily\n",
        "num_list = [43,435,76,45,97,2,56]\n",
        "print (num_list)\n",
        "\n",
        "print(sorted(num_list)) \n",
        "print(sorted(num_list, reverse=True))\n",
        "print (num_list)"
      ],
      "execution_count": 0,
      "outputs": [
        {
          "output_type": "stream",
          "text": [
            "[43, 435, 76, 45, 97, 2, 56]\n",
            "[2, 43, 45, 56, 76, 97, 435]\n",
            "[435, 97, 76, 56, 45, 43, 2]\n",
            "[43, 435, 76, 45, 97, 2, 56]\n"
          ],
          "name": "stdout"
        }
      ]
    },
    {
      "cell_type": "code",
      "metadata": {
        "id": "cR29sLFMxo8E",
        "colab_type": "code",
        "outputId": "ffb70f7f-4703-4bd7-bd1e-3d985baef6ca",
        "colab": {}
      },
      "source": [
        "# Reversing the order of a list\n",
        "print (num_list)\n",
        "num_list.reverse()\n",
        "print (num_list)"
      ],
      "execution_count": 0,
      "outputs": [
        {
          "output_type": "stream",
          "text": [
            "[43, 435, 76, 45, 97, 2, 56]\n",
            "[56, 2, 97, 45, 76, 435, 43]\n"
          ],
          "name": "stdout"
        }
      ]
    },
    {
      "cell_type": "markdown",
      "metadata": {
        "id": "0HWdVp93xo8I",
        "colab_type": "text"
      },
      "source": [
        "### range() function"
      ]
    },
    {
      "cell_type": "markdown",
      "metadata": {
        "id": "Q41dfBCfxo8J",
        "colab_type": "text"
      },
      "source": [
        "- Using range() function, we can generate a large list of numbers.\n",
        "- It starts by default with 0 and stops one number below the number passed (n-1)"
      ]
    },
    {
      "cell_type": "code",
      "metadata": {
        "id": "XWu16RPxxo8K",
        "colab_type": "code",
        "outputId": "d58ebb30-d903-4069-cd4f-563604a89920",
        "colab": {}
      },
      "source": [
        "for x in range(5):\n",
        "    print(x)"
      ],
      "execution_count": 0,
      "outputs": [
        {
          "output_type": "stream",
          "text": [
            "0\n",
            "1\n",
            "2\n",
            "3\n",
            "4\n"
          ],
          "name": "stdout"
        }
      ]
    },
    {
      "cell_type": "code",
      "metadata": {
        "id": "1haRDkkExo8Q",
        "colab_type": "code",
        "outputId": "f4044c1c-f7bb-4659-a26d-21fcc2543509",
        "colab": {}
      },
      "source": [
        "for x in range(5,10):\n",
        "    print(x)"
      ],
      "execution_count": 0,
      "outputs": [
        {
          "output_type": "stream",
          "text": [
            "5\n",
            "6\n",
            "7\n",
            "8\n",
            "9\n"
          ],
          "name": "stdout"
        }
      ]
    },
    {
      "cell_type": "code",
      "metadata": {
        "id": "AnvaP_xgxo8U",
        "colab_type": "code",
        "outputId": "d81b557c-98e9-4017-dd4a-b481df2ee9e7",
        "colab": {}
      },
      "source": [
        "nums = list(range(7,12))\n",
        "print(nums)"
      ],
      "execution_count": 0,
      "outputs": [
        {
          "output_type": "stream",
          "text": [
            "[7, 8, 9, 10, 11]\n"
          ],
          "name": "stdout"
        }
      ]
    },
    {
      "cell_type": "code",
      "metadata": {
        "id": "QBocEhp5xo8Y",
        "colab_type": "code",
        "outputId": "1076fe4d-2234-4706-815c-0cd58ac18477",
        "colab": {}
      },
      "source": [
        "# simple statistics on list\n",
        "nums = list(range(7,12))\n",
        "print(nums)\n",
        "print('minValue = ', min(nums))\n",
        "print('maxValue = ', max(nums))\n",
        "print('sumValue = ', sum(nums))"
      ],
      "execution_count": 0,
      "outputs": [
        {
          "output_type": "stream",
          "text": [
            "[7, 8, 9, 10, 11]\n",
            "('minValue = ', 7)\n",
            "('maxValue = ', 11)\n",
            "('sumValue = ', 45)\n"
          ],
          "name": "stdout"
        }
      ]
    },
    {
      "cell_type": "markdown",
      "metadata": {
        "id": "DvNu1U-txo8c",
        "colab_type": "text"
      },
      "source": [
        "## List function"
      ]
    },
    {
      "cell_type": "markdown",
      "metadata": {
        "id": "hp34uZuO9l0e",
        "colab_type": "text"
      },
      "source": [
        "- len() returns how many elements are in a list.\n",
        "- max() returns the greatest element of the list. How the greatest element is determined depends on what type objects are in the list. The maximum element in a list of numbers is the largest number. The maximum elements in a list of strings is element that would occur last if the list were sorted alphabetically. This works because the the max function is defined in terms of the greater than comparison operator. The max function is undefined for lists that contain elements from different, incomparable types.\n",
        "- min() returns the smallest element in a list. min is the opposite of max, which returns the largest element in a list."
      ]
    },
    {
      "cell_type": "code",
      "metadata": {
        "id": "fW9JHk8rxo8d",
        "colab_type": "code",
        "outputId": "abf37e7a-a371-42a5-e18a-40bf8f59c4d6",
        "colab": {}
      },
      "source": [
        "print (num_list)"
      ],
      "execution_count": 0,
      "outputs": [
        {
          "output_type": "stream",
          "text": [
            "[56, 2, 97, 45, 76, 435, 43]\n"
          ],
          "name": "stdout"
        }
      ]
    },
    {
      "cell_type": "code",
      "metadata": {
        "id": "6MI5HZnYxo8j",
        "colab_type": "code",
        "outputId": "f839d5ed-209d-4fcc-8625-971c335d7531",
        "colab": {}
      },
      "source": [
        "print('List Length',len(num_list))\n",
        "print('Max value ', max(num_list))\n",
        "print('Min value ', min(num_list))\n",
        "print('Sum ', sum(num_list))"
      ],
      "execution_count": 0,
      "outputs": [
        {
          "output_type": "stream",
          "text": [
            "List Length 7\n",
            "Max value  435\n",
            "Min value  2\n",
            "Sum  754\n"
          ],
          "name": "stdout"
        }
      ]
    },
    {
      "cell_type": "markdown",
      "metadata": {
        "id": "YR-bxzXG-DV3",
        "colab_type": "text"
      },
      "source": [
        "## Join method\n",
        "\n",
        "Join is a string method that takes a list of strings as an argument, and returns a string consisting of the list elements joined by a separator string.\n"
      ]
    },
    {
      "cell_type": "code",
      "metadata": {
        "id": "zBqZocfl-G2l",
        "colab_type": "code",
        "colab": {
          "base_uri": "https://localhost:8080/",
          "height": 34
        },
        "outputId": "f27d23be-289f-472a-bb3d-4ae9d762624a"
      },
      "source": [
        "my_name = \"-\".join([\"Satish\", \"Kumar\",\"Uppara\"])\n",
        "print (my_name)"
      ],
      "execution_count": 1,
      "outputs": [
        {
          "output_type": "stream",
          "text": [
            "Satish-Kumar-Uppara\n"
          ],
          "name": "stdout"
        }
      ]
    },
    {
      "cell_type": "markdown",
      "metadata": {
        "id": "PfauEIE9-lFR",
        "colab_type": "text"
      },
      "source": [
        "Here,  we use the string \"-\" as the separator so that there is a hyphen \"-\" between each element. We can also use other strings as separators with .join. Here we use a space."
      ]
    },
    {
      "cell_type": "code",
      "metadata": {
        "id": "UiIhLN2L-9do",
        "colab_type": "code",
        "colab": {
          "base_uri": "https://localhost:8080/",
          "height": 34
        },
        "outputId": "4bb2b8b8-1948-4bcf-cf73-e6b3bd733a12"
      },
      "source": [
        "my_name = \" \".join([\"Satish\", \"Kumar\",\"Uppara\"])\n",
        "print (my_name)"
      ],
      "execution_count": 2,
      "outputs": [
        {
          "output_type": "stream",
          "text": [
            "Satish Kumar Uppara\n"
          ],
          "name": "stdout"
        }
      ]
    },
    {
      "cell_type": "markdown",
      "metadata": {
        "id": "rk7kicqL_Foc",
        "colab_type": "text"
      },
      "source": [
        "## append method\n",
        "Helpful method to add an element to the end of a list."
      ]
    },
    {
      "cell_type": "code",
      "metadata": {
        "id": "kodYAQG6_I8l",
        "colab_type": "code",
        "colab": {
          "base_uri": "https://localhost:8080/",
          "height": 34
        },
        "outputId": "fa4a059d-238d-41a7-feac-cd3da653e6b4"
      },
      "source": [
        "letters = ['a', 'b', 'c', 'd']\n",
        "letters.append('z')\n",
        "print(letters)"
      ],
      "execution_count": 3,
      "outputs": [
        {
          "output_type": "stream",
          "text": [
            "['a', 'b', 'c', 'd', 'z']\n"
          ],
          "name": "stdout"
        }
      ]
    },
    {
      "cell_type": "markdown",
      "metadata": {
        "id": "wdhZyamtxo8m",
        "colab_type": "text"
      },
      "source": [
        "## Lists and strings"
      ]
    },
    {
      "cell_type": "code",
      "metadata": {
        "id": "ecD3EqeOxo8n",
        "colab_type": "code",
        "outputId": "a619bb7b-4f41-4a8e-eccb-b66832a46e7f",
        "colab": {}
      },
      "source": [
        "string1 = \"Hello World!\"\n",
        "list3 = list(string1)\n",
        "print(list3)"
      ],
      "execution_count": 0,
      "outputs": [
        {
          "output_type": "stream",
          "text": [
            "['H', 'e', 'l', 'l', 'o', ' ', 'W', 'o', 'r', 'l', 'd', '!']\n"
          ],
          "name": "stdout"
        }
      ]
    },
    {
      "cell_type": "code",
      "metadata": {
        "id": "2L4uvOlLxo8q",
        "colab_type": "code",
        "outputId": "450779f1-0d70-4cef-851e-7a7fabfde8f8",
        "colab": {}
      },
      "source": [
        "str = string1.split()\n",
        "print(str)"
      ],
      "execution_count": 0,
      "outputs": [
        {
          "output_type": "stream",
          "text": [
            "['Hello', 'World!']\n"
          ],
          "name": "stdout"
        }
      ]
    },
    {
      "cell_type": "markdown",
      "metadata": {
        "id": "XKY70O2Xxo8v",
        "colab_type": "text"
      },
      "source": [
        "## Get unique words from file "
      ]
    },
    {
      "cell_type": "code",
      "metadata": {
        "id": "5OZfdWTcxo8x",
        "colab_type": "code",
        "outputId": "6cb2929b-9a4c-4c46-b5ec-9ba59f6633ba",
        "colab": {}
      },
      "source": [
        "fileName = input(\"Enter the File path : \")\n",
        "print(fileName)"
      ],
      "execution_count": 0,
      "outputs": [
        {
          "output_type": "stream",
          "text": [
            "Enter the File path : D:\\Python\\sample-data\\python.txt\n",
            "D:\\Python\\sample-data\\python.txt\n"
          ],
          "name": "stdout"
        }
      ]
    },
    {
      "cell_type": "code",
      "metadata": {
        "id": "el994s5mxo80",
        "colab_type": "code",
        "outputId": "578df429-2ea9-460b-8fbb-d23969c12aa9",
        "colab": {}
      },
      "source": [
        "fh = open(fileName)\n",
        "words = list()\n",
        "for line in fh:\n",
        "    lwords = line.rstrip().split()\n",
        "    for word in lwords:\n",
        "        if word not in words:\n",
        "            words.append(word)\n",
        "            words.sort()\n",
        "print(words)"
      ],
      "execution_count": 0,
      "outputs": [
        {
          "output_type": "stream",
          "text": [
            "['It', 'Python', \"Python's\", 'You', 'a', 'an', 'and', 'application', 'approach', 'are', 'areas', 'be', 'both', 'but', 'can', 'claim', 'concentrate', 'data', 'development', 'dynamic', 'easy', 'effective', 'efficient', 'elegant', 'find', 'for', 'has', 'high-level', 'how', 'ideal', 'in', 'in.', 'interpreted', 'is', 'it', 'its', 'language', 'language.', 'languages', 'learn,', 'make', 'many', 'most', 'nature,', 'object-oriented', 'of', 'on', 'one', 'platforms.', 'pleasantly', 'powerful', 'powerful.', 'problem', 'programming', 'programming.', 'rapid', 'rare', 'rather', 'scripting', 'see', 'simple', 'solution', 'structure', 'structures', 'surprised', 'syntax', 'than', 'the', 'those', 'to', 'together', 'typing,', 'which', 'will', 'with', 'you', 'yourself']\n"
          ],
          "name": "stdout"
        }
      ]
    }
  ]
}