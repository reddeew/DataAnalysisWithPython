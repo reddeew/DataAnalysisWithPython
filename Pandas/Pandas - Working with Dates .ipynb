{
 "cells": [
  {
   "cell_type": "code",
   "execution_count": 1,
   "metadata": {},
   "outputs": [],
   "source": [
    "import numpy as np\n",
    "import pandas as pd"
   ]
  },
  {
   "cell_type": "code",
   "execution_count": 17,
   "metadata": {},
   "outputs": [
    {
     "data": {
      "text/html": [
       "<div>\n",
       "<style scoped>\n",
       "    .dataframe tbody tr th:only-of-type {\n",
       "        vertical-align: middle;\n",
       "    }\n",
       "\n",
       "    .dataframe tbody tr th {\n",
       "        vertical-align: top;\n",
       "    }\n",
       "\n",
       "    .dataframe thead th {\n",
       "        text-align: right;\n",
       "    }\n",
       "</style>\n",
       "<table border=\"1\" class=\"dataframe\">\n",
       "  <thead>\n",
       "    <tr style=\"text-align: right;\">\n",
       "      <th></th>\n",
       "      <th>name</th>\n",
       "      <th>emp_id</th>\n",
       "      <th>joining_date</th>\n",
       "    </tr>\n",
       "  </thead>\n",
       "  <tbody>\n",
       "    <tr>\n",
       "      <th>0</th>\n",
       "      <td>Satish</td>\n",
       "      <td>123</td>\n",
       "      <td>2007-06-02</td>\n",
       "    </tr>\n",
       "    <tr>\n",
       "      <th>1</th>\n",
       "      <td>Ramya</td>\n",
       "      <td>124</td>\n",
       "      <td>2011-08-04</td>\n",
       "    </tr>\n",
       "    <tr>\n",
       "      <th>2</th>\n",
       "      <td>Teja</td>\n",
       "      <td>125</td>\n",
       "      <td>2012-10-07</td>\n",
       "    </tr>\n",
       "    <tr>\n",
       "      <th>3</th>\n",
       "      <td>Bhavishya</td>\n",
       "      <td>126</td>\n",
       "      <td>2015-05-15</td>\n",
       "    </tr>\n",
       "  </tbody>\n",
       "</table>\n",
       "</div>"
      ],
      "text/plain": [
       "        name emp_id joining_date\n",
       "0     Satish    123   2007-06-02\n",
       "1      Ramya    124   2011-08-04\n",
       "2       Teja    125   2012-10-07\n",
       "3  Bhavishya    126   2015-05-15"
      ]
     },
     "execution_count": 17,
     "metadata": {},
     "output_type": "execute_result"
    }
   ],
   "source": [
    "employee = pd.DataFrame(\n",
    "    {\n",
    "        'name':['Satish' , 'Ramya' , 'Teja', 'Bhavishya'],\n",
    "        'emp_id': ['123', '124', '125','126'],\n",
    "        'joining_date': ['2007-06-02', '2011-08-04', '2012-10-07' , '2015-05-15'],\n",
    "    }\n",
    ")\n",
    "employee"
   ]
  },
  {
   "cell_type": "code",
   "execution_count": 18,
   "metadata": {},
   "outputs": [
    {
     "data": {
      "text/plain": [
       "name            object\n",
       "emp_id          object\n",
       "joining_date    object\n",
       "dtype: object"
      ]
     },
     "execution_count": 18,
     "metadata": {},
     "output_type": "execute_result"
    }
   ],
   "source": [
    "employee.dtypes"
   ]
  },
  {
   "cell_type": "markdown",
   "metadata": {},
   "source": [
    "## Add new column by changing the datatype of the column to Datetime"
   ]
  },
  {
   "cell_type": "code",
   "execution_count": 19,
   "metadata": {},
   "outputs": [
    {
     "data": {
      "text/html": [
       "<div>\n",
       "<style scoped>\n",
       "    .dataframe tbody tr th:only-of-type {\n",
       "        vertical-align: middle;\n",
       "    }\n",
       "\n",
       "    .dataframe tbody tr th {\n",
       "        vertical-align: top;\n",
       "    }\n",
       "\n",
       "    .dataframe thead th {\n",
       "        text-align: right;\n",
       "    }\n",
       "</style>\n",
       "<table border=\"1\" class=\"dataframe\">\n",
       "  <thead>\n",
       "    <tr style=\"text-align: right;\">\n",
       "      <th></th>\n",
       "      <th>name</th>\n",
       "      <th>emp_id</th>\n",
       "      <th>joining_date</th>\n",
       "      <th>joining_dt</th>\n",
       "    </tr>\n",
       "  </thead>\n",
       "  <tbody>\n",
       "    <tr>\n",
       "      <th>0</th>\n",
       "      <td>Satish</td>\n",
       "      <td>123</td>\n",
       "      <td>2007-06-02</td>\n",
       "      <td>2007-06-02</td>\n",
       "    </tr>\n",
       "    <tr>\n",
       "      <th>1</th>\n",
       "      <td>Ramya</td>\n",
       "      <td>124</td>\n",
       "      <td>2011-08-04</td>\n",
       "      <td>2011-08-04</td>\n",
       "    </tr>\n",
       "    <tr>\n",
       "      <th>2</th>\n",
       "      <td>Teja</td>\n",
       "      <td>125</td>\n",
       "      <td>2012-10-07</td>\n",
       "      <td>2012-10-07</td>\n",
       "    </tr>\n",
       "    <tr>\n",
       "      <th>3</th>\n",
       "      <td>Bhavishya</td>\n",
       "      <td>126</td>\n",
       "      <td>2015-05-15</td>\n",
       "      <td>2015-05-15</td>\n",
       "    </tr>\n",
       "  </tbody>\n",
       "</table>\n",
       "</div>"
      ],
      "text/plain": [
       "        name emp_id joining_date joining_dt\n",
       "0     Satish    123   2007-06-02 2007-06-02\n",
       "1      Ramya    124   2011-08-04 2011-08-04\n",
       "2       Teja    125   2012-10-07 2012-10-07\n",
       "3  Bhavishya    126   2015-05-15 2015-05-15"
      ]
     },
     "execution_count": 19,
     "metadata": {},
     "output_type": "execute_result"
    }
   ],
   "source": [
    "employee['joining_dt']=pd.to_datetime(employee['joining_date']) \n",
    "employee"
   ]
  },
  {
   "cell_type": "code",
   "execution_count": 8,
   "metadata": {},
   "outputs": [
    {
     "data": {
      "text/plain": [
       "name                    object\n",
       "emp_id                  object\n",
       "joining_date            object\n",
       "joining_dt      datetime64[ns]\n",
       "dtype: object"
      ]
     },
     "execution_count": 8,
     "metadata": {},
     "output_type": "execute_result"
    }
   ],
   "source": [
    "employee.dtypes"
   ]
  },
  {
   "cell_type": "markdown",
   "metadata": {},
   "source": [
    "## Changing Datetime format"
   ]
  },
  {
   "cell_type": "code",
   "execution_count": 20,
   "metadata": {},
   "outputs": [
    {
     "data": {
      "text/html": [
       "<div>\n",
       "<style scoped>\n",
       "    .dataframe tbody tr th:only-of-type {\n",
       "        vertical-align: middle;\n",
       "    }\n",
       "\n",
       "    .dataframe tbody tr th {\n",
       "        vertical-align: top;\n",
       "    }\n",
       "\n",
       "    .dataframe thead th {\n",
       "        text-align: right;\n",
       "    }\n",
       "</style>\n",
       "<table border=\"1\" class=\"dataframe\">\n",
       "  <thead>\n",
       "    <tr style=\"text-align: right;\">\n",
       "      <th></th>\n",
       "      <th>name</th>\n",
       "      <th>emp_id</th>\n",
       "      <th>joining_date</th>\n",
       "      <th>joining_dt</th>\n",
       "      <th>JD_yyyymmdd</th>\n",
       "    </tr>\n",
       "  </thead>\n",
       "  <tbody>\n",
       "    <tr>\n",
       "      <th>0</th>\n",
       "      <td>Satish</td>\n",
       "      <td>123</td>\n",
       "      <td>2007-06-02</td>\n",
       "      <td>2007-06-02</td>\n",
       "      <td>20070602</td>\n",
       "    </tr>\n",
       "    <tr>\n",
       "      <th>1</th>\n",
       "      <td>Ramya</td>\n",
       "      <td>124</td>\n",
       "      <td>2011-08-04</td>\n",
       "      <td>2011-08-04</td>\n",
       "      <td>20110804</td>\n",
       "    </tr>\n",
       "    <tr>\n",
       "      <th>2</th>\n",
       "      <td>Teja</td>\n",
       "      <td>125</td>\n",
       "      <td>2012-10-07</td>\n",
       "      <td>2012-10-07</td>\n",
       "      <td>20121007</td>\n",
       "    </tr>\n",
       "    <tr>\n",
       "      <th>3</th>\n",
       "      <td>Bhavishya</td>\n",
       "      <td>126</td>\n",
       "      <td>2015-05-15</td>\n",
       "      <td>2015-05-15</td>\n",
       "      <td>20150515</td>\n",
       "    </tr>\n",
       "  </tbody>\n",
       "</table>\n",
       "</div>"
      ],
      "text/plain": [
       "        name emp_id joining_date joining_dt JD_yyyymmdd\n",
       "0     Satish    123   2007-06-02 2007-06-02    20070602\n",
       "1      Ramya    124   2011-08-04 2011-08-04    20110804\n",
       "2       Teja    125   2012-10-07 2012-10-07    20121007\n",
       "3  Bhavishya    126   2015-05-15 2015-05-15    20150515"
      ]
     },
     "execution_count": 20,
     "metadata": {},
     "output_type": "execute_result"
    }
   ],
   "source": [
    "employee['JD_yyyymmdd'] = pd.to_datetime(employee['joining_dt']).dt.strftime('%Y%m%d')\n",
    "employee"
   ]
  },
  {
   "cell_type": "code",
   "execution_count": 21,
   "metadata": {},
   "outputs": [
    {
     "data": {
      "text/plain": [
       "name                    object\n",
       "emp_id                  object\n",
       "joining_date            object\n",
       "joining_dt      datetime64[ns]\n",
       "JD_yyyymmdd             object\n",
       "dtype: object"
      ]
     },
     "execution_count": 21,
     "metadata": {},
     "output_type": "execute_result"
    }
   ],
   "source": [
    "employee.dtypes"
   ]
  },
  {
   "cell_type": "markdown",
   "metadata": {},
   "source": [
    "Note : This will change the datatype back to object"
   ]
  },
  {
   "cell_type": "markdown",
   "metadata": {},
   "source": [
    "## Extract Month, Day, Year, 'Day of Week' and 'Week of Year' "
   ]
  },
  {
   "cell_type": "code",
   "execution_count": 12,
   "metadata": {},
   "outputs": [],
   "source": [
    "employee['Month'] = employee.joining_dt.dt.month\n",
    "employee['Day'] = employee.joining_dt.dt.day\n",
    "employee['Year'] = employee.joining_dt.dt.year\n",
    "\n",
    "employee['Week Number'] = employee.joining_dt.dt.isocalendar().week\n",
    "employee['Day Of Week'] = employee.joining_dt.dt.dayofweek\n",
    "\n",
    "employee['Day Name'] = pd.to_datetime(employee['joining_dt']).dt.day_name()\n",
    "employee['Month Name'] = pd.to_datetime(employee['joining_dt']).dt.month_name()"
   ]
  },
  {
   "cell_type": "code",
   "execution_count": 13,
   "metadata": {},
   "outputs": [
    {
     "data": {
      "text/html": [
       "<div>\n",
       "<style scoped>\n",
       "    .dataframe tbody tr th:only-of-type {\n",
       "        vertical-align: middle;\n",
       "    }\n",
       "\n",
       "    .dataframe tbody tr th {\n",
       "        vertical-align: top;\n",
       "    }\n",
       "\n",
       "    .dataframe thead th {\n",
       "        text-align: right;\n",
       "    }\n",
       "</style>\n",
       "<table border=\"1\" class=\"dataframe\">\n",
       "  <thead>\n",
       "    <tr style=\"text-align: right;\">\n",
       "      <th></th>\n",
       "      <th>name</th>\n",
       "      <th>emp_id</th>\n",
       "      <th>joining_date</th>\n",
       "      <th>joining_dt</th>\n",
       "      <th>Month</th>\n",
       "      <th>Day</th>\n",
       "      <th>Year</th>\n",
       "      <th>Week Number</th>\n",
       "      <th>Day Of Week</th>\n",
       "      <th>Day Name</th>\n",
       "      <th>Month Name</th>\n",
       "    </tr>\n",
       "  </thead>\n",
       "  <tbody>\n",
       "    <tr>\n",
       "      <th>0</th>\n",
       "      <td>Satish</td>\n",
       "      <td>123</td>\n",
       "      <td>2007-06-02</td>\n",
       "      <td>2007-06-02</td>\n",
       "      <td>6</td>\n",
       "      <td>2</td>\n",
       "      <td>2007</td>\n",
       "      <td>22</td>\n",
       "      <td>5</td>\n",
       "      <td>Saturday</td>\n",
       "      <td>June</td>\n",
       "    </tr>\n",
       "    <tr>\n",
       "      <th>1</th>\n",
       "      <td>Ramya</td>\n",
       "      <td>124</td>\n",
       "      <td>2011-08-04</td>\n",
       "      <td>2011-08-04</td>\n",
       "      <td>8</td>\n",
       "      <td>4</td>\n",
       "      <td>2011</td>\n",
       "      <td>31</td>\n",
       "      <td>3</td>\n",
       "      <td>Thursday</td>\n",
       "      <td>August</td>\n",
       "    </tr>\n",
       "    <tr>\n",
       "      <th>2</th>\n",
       "      <td>Teja</td>\n",
       "      <td>125</td>\n",
       "      <td>2012-10-07</td>\n",
       "      <td>2012-10-07</td>\n",
       "      <td>10</td>\n",
       "      <td>7</td>\n",
       "      <td>2012</td>\n",
       "      <td>40</td>\n",
       "      <td>6</td>\n",
       "      <td>Sunday</td>\n",
       "      <td>October</td>\n",
       "    </tr>\n",
       "    <tr>\n",
       "      <th>3</th>\n",
       "      <td>Bhavishya</td>\n",
       "      <td>126</td>\n",
       "      <td>2015-05-15</td>\n",
       "      <td>2015-05-15</td>\n",
       "      <td>5</td>\n",
       "      <td>15</td>\n",
       "      <td>2015</td>\n",
       "      <td>20</td>\n",
       "      <td>4</td>\n",
       "      <td>Friday</td>\n",
       "      <td>May</td>\n",
       "    </tr>\n",
       "  </tbody>\n",
       "</table>\n",
       "</div>"
      ],
      "text/plain": [
       "        name emp_id joining_date joining_dt  Month  Day  Year  Week Number  \\\n",
       "0     Satish    123   2007-06-02 2007-06-02      6    2  2007           22   \n",
       "1      Ramya    124   2011-08-04 2011-08-04      8    4  2011           31   \n",
       "2       Teja    125   2012-10-07 2012-10-07     10    7  2012           40   \n",
       "3  Bhavishya    126   2015-05-15 2015-05-15      5   15  2015           20   \n",
       "\n",
       "   Day Of Week  Day Name Month Name  \n",
       "0            5  Saturday       June  \n",
       "1            3  Thursday     August  \n",
       "2            6    Sunday    October  \n",
       "3            4    Friday        May  "
      ]
     },
     "execution_count": 13,
     "metadata": {},
     "output_type": "execute_result"
    }
   ],
   "source": [
    "employee"
   ]
  },
  {
   "cell_type": "code",
   "execution_count": 14,
   "metadata": {},
   "outputs": [
    {
     "data": {
      "text/plain": [
       "name                    object\n",
       "emp_id                  object\n",
       "joining_date            object\n",
       "joining_dt      datetime64[ns]\n",
       "Month                    int64\n",
       "Day                      int64\n",
       "Year                     int64\n",
       "Week Number             UInt32\n",
       "Day Of Week              int64\n",
       "Day Name                object\n",
       "Month Name              object\n",
       "dtype: object"
      ]
     },
     "execution_count": 14,
     "metadata": {},
     "output_type": "execute_result"
    }
   ],
   "source": [
    "employee.dtypes"
   ]
  },
  {
   "cell_type": "markdown",
   "metadata": {},
   "source": [
    "## Apply filter conditions "
   ]
  },
  {
   "cell_type": "code",
   "execution_count": 22,
   "metadata": {},
   "outputs": [
    {
     "data": {
      "text/html": [
       "<div>\n",
       "<style scoped>\n",
       "    .dataframe tbody tr th:only-of-type {\n",
       "        vertical-align: middle;\n",
       "    }\n",
       "\n",
       "    .dataframe tbody tr th {\n",
       "        vertical-align: top;\n",
       "    }\n",
       "\n",
       "    .dataframe thead th {\n",
       "        text-align: right;\n",
       "    }\n",
       "</style>\n",
       "<table border=\"1\" class=\"dataframe\">\n",
       "  <thead>\n",
       "    <tr style=\"text-align: right;\">\n",
       "      <th></th>\n",
       "      <th>name</th>\n",
       "      <th>emp_id</th>\n",
       "      <th>joining_date</th>\n",
       "      <th>joining_dt</th>\n",
       "      <th>JD_yyyymmdd</th>\n",
       "    </tr>\n",
       "  </thead>\n",
       "  <tbody>\n",
       "    <tr>\n",
       "      <th>1</th>\n",
       "      <td>Ramya</td>\n",
       "      <td>124</td>\n",
       "      <td>2011-08-04</td>\n",
       "      <td>2011-08-04</td>\n",
       "      <td>20110804</td>\n",
       "    </tr>\n",
       "    <tr>\n",
       "      <th>2</th>\n",
       "      <td>Teja</td>\n",
       "      <td>125</td>\n",
       "      <td>2012-10-07</td>\n",
       "      <td>2012-10-07</td>\n",
       "      <td>20121007</td>\n",
       "    </tr>\n",
       "    <tr>\n",
       "      <th>3</th>\n",
       "      <td>Bhavishya</td>\n",
       "      <td>126</td>\n",
       "      <td>2015-05-15</td>\n",
       "      <td>2015-05-15</td>\n",
       "      <td>20150515</td>\n",
       "    </tr>\n",
       "  </tbody>\n",
       "</table>\n",
       "</div>"
      ],
      "text/plain": [
       "        name emp_id joining_date joining_dt JD_yyyymmdd\n",
       "1      Ramya    124   2011-08-04 2011-08-04    20110804\n",
       "2       Teja    125   2012-10-07 2012-10-07    20121007\n",
       "3  Bhavishya    126   2015-05-15 2015-05-15    20150515"
      ]
     },
     "execution_count": 22,
     "metadata": {},
     "output_type": "execute_result"
    }
   ],
   "source": [
    "# Find employees who are joined after 2010-01-01\n",
    "from datetime import date\n",
    "employee[pd.to_datetime(employee['joining_dt']) > pd.Timestamp(date(2010,1,1))]"
   ]
  },
  {
   "cell_type": "code",
   "execution_count": 24,
   "metadata": {},
   "outputs": [
    {
     "data": {
      "text/html": [
       "<div>\n",
       "<style scoped>\n",
       "    .dataframe tbody tr th:only-of-type {\n",
       "        vertical-align: middle;\n",
       "    }\n",
       "\n",
       "    .dataframe tbody tr th {\n",
       "        vertical-align: top;\n",
       "    }\n",
       "\n",
       "    .dataframe thead th {\n",
       "        text-align: right;\n",
       "    }\n",
       "</style>\n",
       "<table border=\"1\" class=\"dataframe\">\n",
       "  <thead>\n",
       "    <tr style=\"text-align: right;\">\n",
       "      <th></th>\n",
       "      <th>name</th>\n",
       "      <th>emp_id</th>\n",
       "      <th>joining_date</th>\n",
       "      <th>joining_dt</th>\n",
       "      <th>JD_yyyymmdd</th>\n",
       "    </tr>\n",
       "  </thead>\n",
       "  <tbody>\n",
       "    <tr>\n",
       "      <th>1</th>\n",
       "      <td>Ramya</td>\n",
       "      <td>124</td>\n",
       "      <td>2011-08-04</td>\n",
       "      <td>2011-08-04</td>\n",
       "      <td>20110804</td>\n",
       "    </tr>\n",
       "  </tbody>\n",
       "</table>\n",
       "</div>"
      ],
      "text/plain": [
       "    name emp_id joining_date joining_dt JD_yyyymmdd\n",
       "1  Ramya    124   2011-08-04 2011-08-04    20110804"
      ]
     },
     "execution_count": 24,
     "metadata": {},
     "output_type": "execute_result"
    }
   ],
   "source": [
    "# Find employees who joined in between \"2011-04-01\" and \"2012-04-01\"\n",
    "employee[\n",
    "    (pd.to_datetime(employee['joining_dt']) > pd.Timestamp(date(2011,4,1))) &\n",
    "    (pd.to_datetime(employee['joining_dt']) < pd.Timestamp(date(2012,4,1)))\n",
    "]\n"
   ]
  },
  {
   "cell_type": "code",
   "execution_count": null,
   "metadata": {},
   "outputs": [],
   "source": []
  }
 ],
 "metadata": {
  "kernelspec": {
   "display_name": "Python 3",
   "language": "python",
   "name": "python3"
  },
  "language_info": {
   "codemirror_mode": {
    "name": "ipython",
    "version": 3
   },
   "file_extension": ".py",
   "mimetype": "text/x-python",
   "name": "python",
   "nbconvert_exporter": "python",
   "pygments_lexer": "ipython3",
   "version": "3.8.5"
  }
 },
 "nbformat": 4,
 "nbformat_minor": 4
}
