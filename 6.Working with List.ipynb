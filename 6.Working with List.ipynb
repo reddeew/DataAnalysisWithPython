{
 "cells": [
  {
   "cell_type": "markdown",
   "metadata": {},
   "source": [
    "## List"
   ]
  },
  {
   "cell_type": "markdown",
   "metadata": {},
   "source": [
    "Python List store a series of items in a particular order. Lists are mutable."
   ]
  },
  {
   "cell_type": "markdown",
   "metadata": {},
   "source": [
    "### Defining a List\n",
    "- Defining a list by using square brackets and use commas to separate individual items in the list. "
   ]
  },
  {
   "cell_type": "code",
   "execution_count": 31,
   "metadata": {
    "scrolled": true
   },
   "outputs": [
    {
     "name": "stdout",
     "output_type": "stream",
     "text": [
      "[1, 2, 3, 'Hello', 5, 'Hi']\n"
     ]
    }
   ],
   "source": [
    "list1 = [1,2,3, 'Hello',5, \"Hi\"]\n",
    "print(list1)"
   ]
  },
  {
   "cell_type": "code",
   "execution_count": 61,
   "metadata": {},
   "outputs": [
    {
     "name": "stdout",
     "output_type": "stream",
     "text": [
      "[]\n"
     ]
    }
   ],
   "source": [
    "list_empty = []\n",
    "print(list_empty)"
   ]
  },
  {
   "cell_type": "code",
   "execution_count": 62,
   "metadata": {},
   "outputs": [
    {
     "name": "stdout",
     "output_type": "stream",
     "text": [
      "[]\n"
     ]
    }
   ],
   "source": [
    "list_empty2 = list()\n",
    "print(list_empty2)"
   ]
  },
  {
   "cell_type": "markdown",
   "metadata": {},
   "source": [
    "- Nested List : A list within List"
   ]
  },
  {
   "cell_type": "code",
   "execution_count": 4,
   "metadata": {},
   "outputs": [
    {
     "name": "stdout",
     "output_type": "stream",
     "text": [
      "[1, 2, 3, ['Hello', 5], 'Hi']\n"
     ]
    }
   ],
   "source": [
    "list2 = [1,2,3, ['Hello',5], \"Hi\"]\n",
    "print(list2)"
   ]
  },
  {
   "cell_type": "code",
   "execution_count": 64,
   "metadata": {},
   "outputs": [
    {
     "name": "stdout",
     "output_type": "stream",
     "text": [
      "[[1, 2, 3], [4, 5, 6], [7, 8, 9]]\n"
     ]
    }
   ],
   "source": [
    "list_multi = [[1,2,3], [4,5,6],[7,8,9]]\n",
    "print(list_multi)"
   ]
  },
  {
   "cell_type": "markdown",
   "metadata": {},
   "source": [
    "### Accessing elements\n",
    "- Individual elements in a list are accessed through index.\n",
    "- Index starts with 0\n",
    "- Negative index refers to itemsat the end of the list."
   ]
  },
  {
   "cell_type": "code",
   "execution_count": 5,
   "metadata": {},
   "outputs": [
    {
     "name": "stdout",
     "output_type": "stream",
     "text": [
      "[1, 2, 3, 'Hello', 5, 'Hi']\n",
      "first item =  1\n",
      "last item =  Hi\n",
      "5\n",
      "Hello\n",
      "[3, 'Hello', 5]\n",
      "[1, 2, 3, 'Hello', 5, 'Hi']\n"
     ]
    }
   ],
   "source": [
    "print(list1)\n",
    "print('first item = ',list1[0])\n",
    "print('last item = ',list1[-1])\n",
    "print(list1[-2])\n",
    "print(list1[3])\n",
    "print(list1[2:5])\n",
    "print(list1[:])"
   ]
  },
  {
   "cell_type": "code",
   "execution_count": 67,
   "metadata": {},
   "outputs": [
    {
     "name": "stdout",
     "output_type": "stream",
     "text": [
      "200\n"
     ]
    }
   ],
   "source": [
    "mlist = [[1,2,3,[10,20,30,[100,200,300]]]]\n",
    "print(mlist[0][3][3][1])"
   ]
  },
  {
   "cell_type": "markdown",
   "metadata": {},
   "source": [
    "## Traversing a list"
   ]
  },
  {
   "cell_type": "markdown",
   "metadata": {},
   "source": [
    "The most common way to traverse the elements of a list is with a for loop."
   ]
  },
  {
   "cell_type": "code",
   "execution_count": 8,
   "metadata": {},
   "outputs": [
    {
     "name": "stdout",
     "output_type": "stream",
     "text": [
      "1\n",
      "2\n",
      "3\n",
      "['Hello', 5]\n",
      "Hi\n"
     ]
    }
   ],
   "source": [
    "for item in list2:\n",
    "    print(item)"
   ]
  },
  {
   "cell_type": "markdown",
   "metadata": {},
   "source": [
    "Python provides an efficient way to loop through all the items in a list. When you set up a loop, Python pulls each item from the list one at a time and stores it in a temporary variable, which you provide a name for. This name should be the singular version of the list name. \n",
    "\n",
    "The indented block of code makes up the body of the loop, where you can work with each individual item. Any lines that are not indented run after the loop is completed."
   ]
  },
  {
   "cell_type": "markdown",
   "metadata": {},
   "source": [
    "## List Operations"
   ]
  },
  {
   "cell_type": "code",
   "execution_count": 10,
   "metadata": {},
   "outputs": [
    {
     "name": "stdout",
     "output_type": "stream",
     "text": [
      "[1, 2, 3, 4, 5, 6]\n"
     ]
    }
   ],
   "source": [
    "# concatenate lists usinf '+' operator\n",
    "x = [1, 2, 3]\n",
    "y = [4, 5, 6]\n",
    "print(x + y)"
   ]
  },
  {
   "cell_type": "code",
   "execution_count": 11,
   "metadata": {},
   "outputs": [
    {
     "name": "stdout",
     "output_type": "stream",
     "text": [
      "[1, 2, 3, 1, 2, 3]\n"
     ]
    }
   ],
   "source": [
    "print(x * 2)"
   ]
  },
  {
   "cell_type": "markdown",
   "metadata": {},
   "source": [
    "## Slicing a list "
   ]
  },
  {
   "cell_type": "code",
   "execution_count": 33,
   "metadata": {},
   "outputs": [
    {
     "name": "stdout",
     "output_type": "stream",
     "text": [
      "[1, 2, 3, 'Hello', 5, 'Hi']\n",
      "[1, 2, 3, ['Hello', 5], 'Hi']\n"
     ]
    }
   ],
   "source": [
    "print(list1)\n",
    "print(list2)"
   ]
  },
  {
   "cell_type": "code",
   "execution_count": 34,
   "metadata": {},
   "outputs": [
    {
     "name": "stdout",
     "output_type": "stream",
     "text": [
      "[2, 3, 'Hello']\n"
     ]
    }
   ],
   "source": [
    "print(list1[1:4])"
   ]
  },
  {
   "cell_type": "code",
   "execution_count": 35,
   "metadata": {},
   "outputs": [
    {
     "name": "stdout",
     "output_type": "stream",
     "text": [
      "[1, 2, 3, 'Hello']\n"
     ]
    }
   ],
   "source": [
    "print(list1[:4])"
   ]
  },
  {
   "cell_type": "code",
   "execution_count": 36,
   "metadata": {},
   "outputs": [
    {
     "name": "stdout",
     "output_type": "stream",
     "text": [
      "3\n"
     ]
    }
   ],
   "source": [
    "print(list1[-4])"
   ]
  },
  {
   "cell_type": "code",
   "execution_count": 41,
   "metadata": {},
   "outputs": [
    {
     "name": "stdout",
     "output_type": "stream",
     "text": [
      "[3, 'Hello', 5, 'Hi']\n"
     ]
    }
   ],
   "source": [
    "print(list1[2:])"
   ]
  },
  {
   "cell_type": "code",
   "execution_count": 42,
   "metadata": {},
   "outputs": [
    {
     "name": "stdout",
     "output_type": "stream",
     "text": [
      "['1', 2, 3, 'Hello', 5, 'Hi']\n"
     ]
    }
   ],
   "source": [
    "print(list1[:])"
   ]
  },
  {
   "cell_type": "markdown",
   "metadata": {},
   "source": [
    "#### Note: Since lists are mutable, it is often useful to make a copy before performing operations that fold, spindle, or mutilate lists."
   ]
  },
  {
   "cell_type": "markdown",
   "metadata": {},
   "source": [
    "## Changing an element in the list"
   ]
  },
  {
   "cell_type": "code",
   "execution_count": 43,
   "metadata": {},
   "outputs": [
    {
     "name": "stdout",
     "output_type": "stream",
     "text": [
      "['1', 2, 3, 'Hello', 5, 'Hi']\n",
      "[1, 2, 3, ['Hello', 5], 'Hi']\n"
     ]
    }
   ],
   "source": [
    "print(list1)\n",
    "print(list2)"
   ]
  },
  {
   "cell_type": "code",
   "execution_count": 44,
   "metadata": {},
   "outputs": [
    {
     "name": "stdout",
     "output_type": "stream",
     "text": [
      "['first', 2, 3, 'Hello', 5, 'Hi']\n"
     ]
    }
   ],
   "source": [
    "list1[0] = 'first'\n",
    "print(list1)"
   ]
  },
  {
   "cell_type": "code",
   "execution_count": 45,
   "metadata": {},
   "outputs": [
    {
     "name": "stdout",
     "output_type": "stream",
     "text": [
      "['first', 2, 3, 'Hello', 5, 'last']\n"
     ]
    }
   ],
   "source": [
    "list1[-1] = 'last'\n",
    "print(list1)"
   ]
  },
  {
   "cell_type": "markdown",
   "metadata": {},
   "source": [
    "## Adding an element to list"
   ]
  },
  {
   "cell_type": "code",
   "execution_count": 46,
   "metadata": {},
   "outputs": [
    {
     "name": "stdout",
     "output_type": "stream",
     "text": [
      "['first', 2, 3, 'Hello', 5, 'last', 'last']\n"
     ]
    }
   ],
   "source": [
    "# Adding an element to the endof the list\n",
    "list1.append('last')\n",
    "print(list1)"
   ]
  },
  {
   "cell_type": "code",
   "execution_count": 47,
   "metadata": {},
   "outputs": [
    {
     "name": "stdout",
     "output_type": "stream",
     "text": [
      "['first', 'first', 2, 3, 'Hello', 5, 'last', 'last']\n"
     ]
    }
   ],
   "source": [
    "# Insert element at a particular position\n",
    "list1.insert(0, 'first')\n",
    "print(list1)"
   ]
  },
  {
   "cell_type": "code",
   "execution_count": 48,
   "metadata": {},
   "outputs": [
    {
     "name": "stdout",
     "output_type": "stream",
     "text": [
      "['first', 'first', 2, 3, 'middle', 'Hello', 5, 'last', 'last']\n"
     ]
    }
   ],
   "source": [
    "list1.insert(4, 'middle')\n",
    "print(list1)"
   ]
  },
  {
   "cell_type": "markdown",
   "metadata": {},
   "source": [
    "## Removing elements"
   ]
  },
  {
   "cell_type": "code",
   "execution_count": 49,
   "metadata": {},
   "outputs": [
    {
     "name": "stdout",
     "output_type": "stream",
     "text": [
      "['first', 'first', 2, 3, 'middle', 'Hello', 5, 'last', 'last']\n",
      "['first', 'first', 2, 3, 'middle', 'Hello', 5, 'last']\n"
     ]
    }
   ],
   "source": [
    "# Removing an item by its position\n",
    "print(list1)\n",
    "del list1[-2]\n",
    "print(list1)"
   ]
  },
  {
   "cell_type": "code",
   "execution_count": 50,
   "metadata": {},
   "outputs": [
    {
     "name": "stdout",
     "output_type": "stream",
     "text": [
      "['first', 'first', 2, 3, 'middle', 'Hello', 5, 'last']\n",
      "['first', 'first', 2, 3, 'Hello', 5, 'last']\n"
     ]
    }
   ],
   "source": [
    "# Removing an item by its value (removes only the first item that has that value.)\n",
    "print(list1)\n",
    "list1.remove('middle')\n",
    "print(list1)"
   ]
  },
  {
   "cell_type": "markdown",
   "metadata": {},
   "source": [
    "### Sorting List"
   ]
  },
  {
   "cell_type": "code",
   "execution_count": 51,
   "metadata": {},
   "outputs": [
    {
     "name": "stdout",
     "output_type": "stream",
     "text": [
      "[43, 435, 76, 45, 97, 2, 56]\n"
     ]
    }
   ],
   "source": [
    "num_list = [43,435,76,45,97,2,56]\n",
    "print (num_list)"
   ]
  },
  {
   "cell_type": "code",
   "execution_count": 52,
   "metadata": {},
   "outputs": [
    {
     "name": "stdout",
     "output_type": "stream",
     "text": [
      "[2, 43, 45, 56, 76, 97, 435]\n",
      "[435, 97, 76, 56, 45, 43, 2]\n"
     ]
    }
   ],
   "source": [
    "num_list.sort()\n",
    "print (num_list)\n",
    "\n",
    "num_list.sort(reverse=True)\n",
    "print (num_list)"
   ]
  },
  {
   "cell_type": "markdown",
   "metadata": {},
   "source": [
    "Note: sort() function returns a copy of the sorted list and leaving the original order."
   ]
  },
  {
   "cell_type": "code",
   "execution_count": 53,
   "metadata": {},
   "outputs": [
    {
     "name": "stdout",
     "output_type": "stream",
     "text": [
      "[43, 435, 76, 45, 97, 2, 56]\n",
      "[2, 43, 45, 56, 76, 97, 435]\n",
      "[435, 97, 76, 56, 45, 43, 2]\n",
      "[43, 435, 76, 45, 97, 2, 56]\n"
     ]
    }
   ],
   "source": [
    "# sorting a list temporarily\n",
    "num_list = [43,435,76,45,97,2,56]\n",
    "print (num_list)\n",
    "\n",
    "print(sorted(num_list)) \n",
    "print(sorted(num_list, reverse=True))\n",
    "print (num_list)"
   ]
  },
  {
   "cell_type": "code",
   "execution_count": 54,
   "metadata": {},
   "outputs": [
    {
     "name": "stdout",
     "output_type": "stream",
     "text": [
      "[43, 435, 76, 45, 97, 2, 56]\n",
      "[56, 2, 97, 45, 76, 435, 43]\n"
     ]
    }
   ],
   "source": [
    "# Reversing the order of a list\n",
    "print (num_list)\n",
    "num_list.reverse()\n",
    "print (num_list)"
   ]
  },
  {
   "cell_type": "markdown",
   "metadata": {},
   "source": [
    "### range() function"
   ]
  },
  {
   "cell_type": "markdown",
   "metadata": {},
   "source": [
    "- Using range() function, we can generate a large list of numbers.\n",
    "- It starts by default with 0 and stops one number below the number passed (n-1)"
   ]
  },
  {
   "cell_type": "code",
   "execution_count": 55,
   "metadata": {},
   "outputs": [
    {
     "name": "stdout",
     "output_type": "stream",
     "text": [
      "0\n",
      "1\n",
      "2\n",
      "3\n",
      "4\n"
     ]
    }
   ],
   "source": [
    "for x in range(5):\n",
    "    print(x)"
   ]
  },
  {
   "cell_type": "code",
   "execution_count": 52,
   "metadata": {},
   "outputs": [
    {
     "name": "stdout",
     "output_type": "stream",
     "text": [
      "5\n",
      "6\n",
      "7\n",
      "8\n",
      "9\n"
     ]
    }
   ],
   "source": [
    "for x in range(5,10):\n",
    "    print(x)"
   ]
  },
  {
   "cell_type": "code",
   "execution_count": 53,
   "metadata": {},
   "outputs": [
    {
     "name": "stdout",
     "output_type": "stream",
     "text": [
      "[7, 8, 9, 10, 11]\n"
     ]
    }
   ],
   "source": [
    "nums = list(range(7,12))\n",
    "print(nums)"
   ]
  },
  {
   "cell_type": "code",
   "execution_count": 55,
   "metadata": {},
   "outputs": [
    {
     "name": "stdout",
     "output_type": "stream",
     "text": [
      "[7, 8, 9, 10, 11]\n",
      "('minValue = ', 7)\n",
      "('maxValue = ', 11)\n",
      "('sumValue = ', 45)\n"
     ]
    }
   ],
   "source": [
    "# simple statistics on list\n",
    "nums = list(range(7,12))\n",
    "print(nums)\n",
    "print('minValue = ', min(nums))\n",
    "print('maxValue = ', max(nums))\n",
    "print('sumValue = ', sum(nums))"
   ]
  },
  {
   "cell_type": "markdown",
   "metadata": {},
   "source": [
    "## List function"
   ]
  },
  {
   "cell_type": "code",
   "execution_count": 56,
   "metadata": {},
   "outputs": [
    {
     "name": "stdout",
     "output_type": "stream",
     "text": [
      "[56, 2, 97, 45, 76, 435, 43]\n"
     ]
    }
   ],
   "source": [
    "print (num_list)"
   ]
  },
  {
   "cell_type": "code",
   "execution_count": 58,
   "metadata": {},
   "outputs": [
    {
     "name": "stdout",
     "output_type": "stream",
     "text": [
      "List Length 7\n",
      "Max value  435\n",
      "Min value  2\n",
      "Sum  754\n"
     ]
    }
   ],
   "source": [
    "print('List Length',len(num_list))\n",
    "print('Max value ', max(num_list))\n",
    "print('Min value ', min(num_list))\n",
    "print('Sum ', sum(num_list))"
   ]
  },
  {
   "cell_type": "markdown",
   "metadata": {},
   "source": [
    "## Lists and strings"
   ]
  },
  {
   "cell_type": "code",
   "execution_count": 70,
   "metadata": {},
   "outputs": [
    {
     "name": "stdout",
     "output_type": "stream",
     "text": [
      "['H', 'e', 'l', 'l', 'o', ' ', 'W', 'o', 'r', 'l', 'd', '!']\n"
     ]
    }
   ],
   "source": [
    "string1 = \"Hello World!\"\n",
    "list3 = list(string1)\n",
    "print(list3)"
   ]
  },
  {
   "cell_type": "code",
   "execution_count": 72,
   "metadata": {},
   "outputs": [
    {
     "name": "stdout",
     "output_type": "stream",
     "text": [
      "['Hello', 'World!']\n"
     ]
    }
   ],
   "source": [
    "str = string1.split()\n",
    "print(str)"
   ]
  },
  {
   "cell_type": "markdown",
   "metadata": {},
   "source": [
    "## Get unique words from file "
   ]
  },
  {
   "cell_type": "code",
   "execution_count": 1,
   "metadata": {},
   "outputs": [
    {
     "name": "stdout",
     "output_type": "stream",
     "text": [
      "Enter the File path : D:\\Python\\sample-data\\python.txt\n",
      "D:\\Python\\sample-data\\python.txt\n"
     ]
    }
   ],
   "source": [
    "fileName = input(\"Enter the File path : \")\n",
    "print(fileName)"
   ]
  },
  {
   "cell_type": "code",
   "execution_count": 5,
   "metadata": {},
   "outputs": [
    {
     "name": "stdout",
     "output_type": "stream",
     "text": [
      "['It', 'Python', \"Python's\", 'You', 'a', 'an', 'and', 'application', 'approach', 'are', 'areas', 'be', 'both', 'but', 'can', 'claim', 'concentrate', 'data', 'development', 'dynamic', 'easy', 'effective', 'efficient', 'elegant', 'find', 'for', 'has', 'high-level', 'how', 'ideal', 'in', 'in.', 'interpreted', 'is', 'it', 'its', 'language', 'language.', 'languages', 'learn,', 'make', 'many', 'most', 'nature,', 'object-oriented', 'of', 'on', 'one', 'platforms.', 'pleasantly', 'powerful', 'powerful.', 'problem', 'programming', 'programming.', 'rapid', 'rare', 'rather', 'scripting', 'see', 'simple', 'solution', 'structure', 'structures', 'surprised', 'syntax', 'than', 'the', 'those', 'to', 'together', 'typing,', 'which', 'will', 'with', 'you', 'yourself']\n"
     ]
    }
   ],
   "source": [
    "fh = open(fileName)\n",
    "words = list()\n",
    "for line in fh:\n",
    "    lwords = line.rstrip().split()\n",
    "    for word in lwords:\n",
    "        if word not in words:\n",
    "            words.append(word)\n",
    "            words.sort()\n",
    "print(words)"
   ]
  }
 ],
 "metadata": {
  "kernelspec": {
   "display_name": "Python 3",
   "language": "python",
   "name": "python3"
  },
  "language_info": {
   "codemirror_mode": {
    "name": "ipython",
    "version": 3
   },
   "file_extension": ".py",
   "mimetype": "text/x-python",
   "name": "python",
   "nbconvert_exporter": "python",
   "pygments_lexer": "ipython3",
   "version": "3.7.3"
  }
 },
 "nbformat": 4,
 "nbformat_minor": 2
}
