{
 "cells": [
  {
   "cell_type": "markdown",
   "metadata": {},
   "source": [
    "# Basic Data Types in Python"
   ]
  },
  {
   "cell_type": "markdown",
   "metadata": {},
   "source": [
    "Python comes with build-in datatypes like other programming language\n",
    "- Integer\n",
    "- Floating\n",
    "- Long\n",
    "- complex\n",
    "- String"
   ]
  },
  {
   "cell_type": "markdown",
   "metadata": {},
   "source": [
    "### Integer"
   ]
  },
  {
   "cell_type": "code",
   "execution_count": 1,
   "metadata": {},
   "outputs": [
    {
     "name": "stdout",
     "output_type": "stream",
     "text": [
      "10\n",
      "<type 'int'>\n",
      "13\n",
      "<type 'int'>\n",
      "2571\n",
      "<type 'int'>\n"
     ]
    }
   ],
   "source": [
    "x = 10\n",
    "print x\n",
    "print type(x)\n",
    "\n",
    "# Octal Number (base 8) - A number prefixed by a 0 (zero) will be interpreted as an octal number, can be defined with \"0o\" as a prefix\n",
    "octal_num = 015\n",
    "print octal_num\n",
    "print type(octal_num)\n",
    "\n",
    "# Hexadecimal Number (base 16) - Defined with prefixed either by \"0x\" or \"0X\".\n",
    "hex_num = 0xA0B\n",
    "print hex_num\n",
    "print type(hex_num)"
   ]
  },
  {
   "cell_type": "markdown",
   "metadata": {},
   "source": [
    "### Float"
   ]
  },
  {
   "cell_type": "code",
   "execution_count": 2,
   "metadata": {},
   "outputs": [
    {
     "name": "stdout",
     "output_type": "stream",
     "text": [
      "50.2\n",
      "<type 'float'>\n"
     ]
    }
   ],
   "source": [
    "# float - floating point numbers\n",
    "f = 50.2\n",
    "print f\n",
    "print type(f)"
   ]
  },
  {
   "cell_type": "markdown",
   "metadata": {},
   "source": [
    "### Long"
   ]
  },
  {
   "cell_type": "code",
   "execution_count": 3,
   "metadata": {},
   "outputs": [
    {
     "name": "stdout",
     "output_type": "stream",
     "text": [
      "330444444444444444444444444444444400000\n",
      "<type 'long'>\n",
      "33\n",
      "<type 'long'>\n"
     ]
    }
   ],
   "source": [
    "# Long - these numbers are of unlimited size.\n",
    "l = 330444444444444444444444444444444400000L\n",
    "print l\n",
    "print type(l)\n",
    "\n",
    "l1= 33L\n",
    "print l1\n",
    "print type(l1)"
   ]
  },
  {
   "cell_type": "markdown",
   "metadata": {},
   "source": [
    "### Complex"
   ]
  },
  {
   "cell_type": "code",
   "execution_count": 4,
   "metadata": {},
   "outputs": [
    {
     "name": "stdout",
     "output_type": "stream",
     "text": [
      "(1+2j)\n",
      "<type 'complex'>\n",
      "(2+3j)\n",
      "<type 'complex'>\n"
     ]
    }
   ],
   "source": [
    "# Complex numbers are written as <real part> + <imaginary part>j\n",
    "x = 1 + 2j\n",
    "print x\n",
    "print type(x)\n",
    "\n",
    "y = 2 + 3j\n",
    "print y\n",
    "print type(y)"
   ]
  },
  {
   "cell_type": "markdown",
   "metadata": {},
   "source": [
    "### String"
   ]
  },
  {
   "cell_type": "markdown",
   "metadata": {},
   "source": [
    "- Similar to other programming languages, in Python a string consists of a series or sequence of characters - letters, numbers, and special characters. Strings can be indexed and the first character of a string has the index 0.\n",
    "- Can be define by wrapped with single-quto(') or double-quro('') or triple-quto(''')."
   ]
  },
  {
   "cell_type": "code",
   "execution_count": 5,
   "metadata": {},
   "outputs": [
    {
     "name": "stdout",
     "output_type": "stream",
     "text": [
      "sequence of characters with single-quote\n",
      "<type 'str'>\n",
      "sequence of characters with double-quote\n",
      "<type 'str'>\n",
      " sequence of characters \n",
      "with multiline \n",
      "and 'single' and ''double'' quote text \n",
      "using triple-quote \n",
      "<type 'str'>\n"
     ]
    }
   ],
   "source": [
    "# Wrapped with the single-quote ( ' ) character to define single line text\n",
    "str1 = \"sequence of characters with single-quote\"\n",
    "print str1\n",
    "print type(str1)\n",
    "\n",
    "# Wrapped with the double-quote ( '' ) character to define single line text\n",
    "str2 = \"sequence of characters with double-quote\"\n",
    "print str2\n",
    "print type(str2)\n",
    "\n",
    "# Wrapped with the triple-quote ( ''' ) character to define multi line text\n",
    "str3 = ''' sequence of characters \n",
    "with multiline \n",
    "and 'single' and ''double'' quote text \n",
    "using triple-quote '''\n",
    "print str3\n",
    "print type(str3)"
   ]
  }
 ],
 "metadata": {
  "kernelspec": {
   "display_name": "Python 2",
   "language": "python",
   "name": "python2"
  },
  "language_info": {
   "codemirror_mode": {
    "name": "ipython",
    "version": 2
   },
   "file_extension": ".py",
   "mimetype": "text/x-python",
   "name": "python",
   "nbconvert_exporter": "python",
   "pygments_lexer": "ipython2",
   "version": "2.7.15"
  }
 },
 "nbformat": 4,
 "nbformat_minor": 2
}
