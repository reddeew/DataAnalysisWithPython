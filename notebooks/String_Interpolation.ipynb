{
 "cells": [
  {
   "cell_type": "markdown",
   "metadata": {},
   "source": [
    "##### String interpolation\n",
    "- String interpolation is a process of substituting values of variables into placeholders in a string. \n",
    "- For Example, if you have string \"My First Name {FN} and Last Name {LN}\", you would like to replace the placeholder for 'FN' and 'LN' with actual values. This process is called string interpolation."
   ]
  },
  {
   "cell_type": "markdown",
   "metadata": {},
   "source": [
    "Python supports multiple ways to format text strings and these includes:\n",
    "- Using % operator\n",
    "- Using str.format()\n",
    "- Using string.Template"
   ]
  },
  {
   "cell_type": "markdown",
   "metadata": {},
   "source": [
    "#### Using % operator"
   ]
  },
  {
   "cell_type": "code",
   "execution_count": 1,
   "metadata": {},
   "outputs": [
    {
     "name": "stdout",
     "output_type": "stream",
     "text": [
      "Learning Python\n",
      "Python Programming\n"
     ]
    }
   ],
   "source": [
    "print(\"Learning %s\" %'Python')\n",
    "print(\"%s %s\" %('Python','Programming',))"
   ]
  },
  {
   "cell_type": "markdown",
   "metadata": {},
   "source": [
    "In the above example, %s string format specifier tell Python where to substitute the value. In case multiple substitutions we need to specify in paranthases in order of the values that are referenced in the format string."
   ]
  },
  {
   "cell_type": "markdown",
   "metadata": {},
   "source": [
    "#### Using str.format()"
   ]
  },
  {
   "cell_type": "code",
   "execution_count": 2,
   "metadata": {},
   "outputs": [
    {
     "name": "stdout",
     "output_type": "stream",
     "text": [
      "Learning Python Programming\n"
     ]
    }
   ],
   "source": [
    "print 'Learning {} Programming'.format('Python')"
   ]
  },
  {
   "cell_type": "markdown",
   "metadata": {},
   "source": [
    "In the above example, we use String object function format() to substitue in place of braces {} like % formatting."
   ]
  },
  {
   "cell_type": "markdown",
   "metadata": {},
   "source": [
    "We can also substitute multiple values in order of the values that are referenced in the format function with comma separation."
   ]
  },
  {
   "cell_type": "code",
   "execution_count": 3,
   "metadata": {},
   "outputs": [
    {
     "name": "stdout",
     "output_type": "stream",
     "text": [
      "Learning Python Programming\n"
     ]
    }
   ],
   "source": [
    "print 'Learning {} {}'.format('Python','Programming')"
   ]
  },
  {
   "cell_type": "code",
   "execution_count": 4,
   "metadata": {},
   "outputs": [
    {
     "name": "stdout",
     "output_type": "stream",
     "text": [
      "Learning Programming with Python\n"
     ]
    }
   ],
   "source": [
    "# we can specify the indexing for substituting the values  \n",
    "print 'Learning {1} with {0}'.format('Python','Programming')"
   ]
  },
  {
   "cell_type": "code",
   "execution_count": 5,
   "metadata": {},
   "outputs": [
    {
     "name": "stdout",
     "output_type": "stream",
     "text": [
      "Learning Programming with Python\n"
     ]
    }
   ],
   "source": [
    "# We can also specify the variable name to substitute the values, so that no need to worry on the order of the display.\n",
    "print 'Learning {str2} with {str1}'.format(str1='Python',str2='Programming')"
   ]
  },
  {
   "cell_type": "markdown",
   "metadata": {},
   "source": [
    "###### This is a powerful feature as it allows changing order of the display without changing the arguments passed to the format function."
   ]
  },
  {
   "cell_type": "markdown",
   "metadata": {},
   "source": [
    "#### Using string.Template()"
   ]
  },
  {
   "cell_type": "code",
   "execution_count": 6,
   "metadata": {},
   "outputs": [
    {
     "name": "stdout",
     "output_type": "stream",
     "text": [
      "Learning Python with Programming\n"
     ]
    }
   ],
   "source": [
    "from string import Template\n",
    "new = Template('Learning $str1 with $str2')\n",
    "print(new.substitute(str1='Python',str2='Programming'))"
   ]
  },
  {
   "cell_type": "markdown",
   "metadata": {},
   "source": [
    "Similar to format() function, but here we have to use Templete class from Python’s built-in string module."
   ]
  }
 ],
 "metadata": {
  "kernelspec": {
   "display_name": "Python 2",
   "language": "python",
   "name": "python2"
  },
  "language_info": {
   "codemirror_mode": {
    "name": "ipython",
    "version": 2
   },
   "file_extension": ".py",
   "mimetype": "text/x-python",
   "name": "python",
   "nbconvert_exporter": "python",
   "pygments_lexer": "ipython2",
   "version": "2.7.15"
  }
 },
 "nbformat": 4,
 "nbformat_minor": 2
}
