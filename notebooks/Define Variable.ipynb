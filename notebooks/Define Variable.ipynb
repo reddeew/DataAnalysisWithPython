{
 "cells": [
  {
   "cell_type": "markdown",
   "metadata": {},
   "source": [
    "# Define Variables"
   ]
  },
  {
   "cell_type": "markdown",
   "metadata": {},
   "source": [
    "#### Variables \n",
    "- A variable is nothing more than an alias for something so you can use the alias rather than the something as you code. \n",
    "- Programmers use these variable alias to make their code more readble. If use good naming, it will be easy to read code again.\n",
    "\n",
    "The variables are decalred with equal sign, followed by the value of the variable. \n",
    "\n",
    "#### Rules to define a varaible\n",
    "- Should be sequence of letter or digit or underscore'_'.\n",
    "- Should be start with letter or underscore.\n",
    "- White spaces and signs (+,-) are not allowed.\n",
    "- Should not use keywords.\n",
    "- Can be any length.\n",
    "- Variable names are case sensitive.\n"
   ]
  },
  {
   "cell_type": "code",
   "execution_count": 1,
   "metadata": {},
   "outputs": [
    {
     "name": "stdout",
     "output_type": "stream",
     "text": [
      "20\n",
      "<type 'int'>\n",
      "20.2\n",
      "<type 'float'>\n",
      "Python\n",
      "<type 'str'>\n"
     ]
    }
   ],
   "source": [
    "# Python is dynamically typed, which means that we don't have to declare what datatype of variable is.\n",
    "x = 20  # data type is implicitly set to integer\n",
    "print x \n",
    "print type(x)  \n",
    "\n",
    "x = 20.2 # data type is changed to float\n",
    "print x \n",
    "print type(x)  \n",
    "\n",
    "x = 'Python' # data type is changed to String\n",
    "print x \n",
    "print type(x)  "
   ]
  },
  {
   "cell_type": "markdown",
   "metadata": {},
   "source": [
    "###### Note: Python automatically changes the type of a variable during the execution and takes care of the physical representation for the different data types, i.e. an integer values will be stored in a different memory location than a float or a string."
   ]
  },
  {
   "cell_type": "code",
   "execution_count": 2,
   "metadata": {},
   "outputs": [
    {
     "ename": "SyntaxError",
     "evalue": "invalid syntax (<ipython-input-2-29dedc82a440>, line 2)",
     "output_type": "error",
     "traceback": [
      "\u001b[1;36m  File \u001b[1;32m\"<ipython-input-2-29dedc82a440>\"\u001b[1;36m, line \u001b[1;32m2\u001b[0m\n\u001b[1;33m    9test = 34\u001b[0m\n\u001b[1;37m        ^\u001b[0m\n\u001b[1;31mSyntaxError\u001b[0m\u001b[1;31m:\u001b[0m invalid syntax\n"
     ]
    }
   ],
   "source": [
    "# Should not start with number\n",
    "9test = 34"
   ]
  },
  {
   "cell_type": "code",
   "execution_count": null,
   "metadata": {},
   "outputs": [],
   "source": [
    "str1='python'\n",
    "print str1\n",
    "\n",
    "str2=str1\n",
    "print str2\n",
    "\n",
    "str2='learn python'\n",
    "print str2"
   ]
  },
  {
   "cell_type": "markdown",
   "metadata": {},
   "source": [
    "- First assignment : Python chooses a memory location for 'str1' and saves the value 'python'.\n",
    "- Second assignment : Python chooses a memory location for 'str2' to the memory location of 'str1', since both variables will have the same value after the assignment.\n",
    "- Third assignment : Python chooses new memory location for 'str2' and saves the value 'lear python' and 'str1' points to same location to 'python'."
   ]
  },
  {
   "cell_type": "markdown",
   "metadata": {},
   "source": [
    "###### Every varaible have an uniqie interger id within a script, that can be get by using identity function id(). Now, we are going to prove above with this function. "
   ]
  },
  {
   "cell_type": "code",
   "execution_count": null,
   "metadata": {},
   "outputs": [],
   "source": [
    "str1='python'\n",
    "print str1 \n",
    "print id(str1)\n",
    "\n",
    "str2=str1\n",
    "print str2\n",
    "print id(str2)\n",
    "\n",
    "str2='learn python'\n",
    "print str2\n",
    "print id(str2)"
   ]
  },
  {
   "cell_type": "code",
   "execution_count": null,
   "metadata": {},
   "outputs": [],
   "source": [
    "x, y, z = 1, 2 # Invalid"
   ]
  },
  {
   "cell_type": "code",
   "execution_count": null,
   "metadata": {},
   "outputs": [],
   "source": [
    "a=b=10 \n",
    "print a,b"
   ]
  },
  {
   "cell_type": "code",
   "execution_count": null,
   "metadata": {},
   "outputs": [],
   "source": [
    "a, b, c  = 1, 2, 3\n",
    "print a\n",
    "print b\n",
    "print c "
   ]
  }
 ],
 "metadata": {
  "kernelspec": {
   "display_name": "Python 2",
   "language": "python",
   "name": "python2"
  },
  "language_info": {
   "codemirror_mode": {
    "name": "ipython",
    "version": 2
   },
   "file_extension": ".py",
   "mimetype": "text/x-python",
   "name": "python",
   "nbconvert_exporter": "python",
   "pygments_lexer": "ipython2",
   "version": "2.7.15"
  }
 },
 "nbformat": 4,
 "nbformat_minor": 2
}
