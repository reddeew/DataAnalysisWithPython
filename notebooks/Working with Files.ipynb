{
 "cells": [
  {
   "cell_type": "markdown",
   "metadata": {},
   "source": [
    "### Reading a File"
   ]
  },
  {
   "cell_type": "code",
   "execution_count": 3,
   "metadata": {},
   "outputs": [
    {
     "name": "stdout",
     "output_type": "stream",
     "text": [
      "Enter the File pathD:\\Python\\sample-data\\python.txt\n",
      "D:\\Python\\sample-data\\python.txt\n"
     ]
    }
   ],
   "source": [
    "fileName = input(\"Enter the File path\")\n",
    "print(fileName)"
   ]
  },
  {
   "cell_type": "code",
   "execution_count": 5,
   "metadata": {},
   "outputs": [
    {
     "name": "stdout",
     "output_type": "stream",
     "text": [
      "Python is one of those rare languages which can claim to be both simple and powerful. \n",
      "\n",
      "You will find yourself pleasantly surprised to see how easy it is to concentrate on the solution to the problem rather than the syntax and structure of the language you are programming in.\n",
      "\n",
      "Python is an easy to learn, powerful programming language. \n",
      "\n",
      "It has efficient high-level data structures and a simple but effective approach to object-oriented programming. \n",
      "\n",
      "Python's elegant syntax and dynamic typing, together with its interpreted nature, make it an ideal language for scripting and rapid application development in many areas on most platforms.\n"
     ]
    }
   ],
   "source": [
    "# Read the file content\n",
    "fileContent = open(fileName)\n",
    "for line in fileContent : \n",
    "    print(line)"
   ]
  },
  {
   "cell_type": "code",
   "execution_count": 6,
   "metadata": {},
   "outputs": [
    {
     "name": "stdout",
     "output_type": "stream",
     "text": [
      "Number of line in file =  5\n"
     ]
    }
   ],
   "source": [
    "# Find number of lines in file\n",
    "fileContent = open(fileName)\n",
    "count = 0\n",
    "for line in fileContent : \n",
    "    count = count + 1\n",
    "print('Number of line in file = ',count)"
   ]
  },
  {
   "cell_type": "markdown",
   "metadata": {},
   "source": [
    "### Writing to File"
   ]
  },
  {
   "cell_type": "markdown",
   "metadata": {},
   "source": [
    "Find the lines that starts with 'Pyhton' and write to File."
   ]
  },
  {
   "cell_type": "code",
   "execution_count": 9,
   "metadata": {},
   "outputs": [
    {
     "name": "stdout",
     "output_type": "stream",
     "text": [
      "Enter the file nameD:\\Python\\sample-data\\python-new.txt\n",
      "targetFilePath = D:\\Python\\sample-data\\python-new.txt\n"
     ]
    }
   ],
   "source": [
    "targetFilePath = input(\"Enter the file name\")\n",
    "print(\"targetFilePath = \"+targetFilePath)"
   ]
  },
  {
   "cell_type": "code",
   "execution_count": 15,
   "metadata": {},
   "outputs": [
    {
     "name": "stdout",
     "output_type": "stream",
     "text": [
      "Done\n"
     ]
    }
   ],
   "source": [
    "target = open(targetFilePath, 'w')\n",
    "fileContent = open(fileName)\n",
    "for line in fileContent : \n",
    "    if(line.startswith('Python')):\n",
    "        target.write(line)\n",
    "target.close()\n",
    "print('Done')"
   ]
  },
  {
   "cell_type": "code",
   "execution_count": 16,
   "metadata": {},
   "outputs": [
    {
     "name": "stdout",
     "output_type": "stream",
     "text": [
      "Python is one of those rare languages which can claim to be both simple and powerful. \n",
      "\n",
      "Python is an easy to learn, powerful programming language. \n",
      "\n",
      "Python's elegant syntax and dynamic typing, together with its interpreted nature, make it an ideal language for scripting and rapid application development in many areas on most platforms.\n"
     ]
    }
   ],
   "source": [
    "# Read the file content\n",
    "fileContent = open(targetFilePath)\n",
    "for line in fileContent : \n",
    "    print(line)"
   ]
  }
 ],
 "metadata": {
  "kernelspec": {
   "display_name": "Python 3",
   "language": "python",
   "name": "python3"
  },
  "language_info": {
   "codemirror_mode": {
    "name": "ipython",
    "version": 3
   },
   "file_extension": ".py",
   "mimetype": "text/x-python",
   "name": "python",
   "nbconvert_exporter": "python",
   "pygments_lexer": "ipython3",
   "version": "3.7.3"
  }
 },
 "nbformat": 4,
 "nbformat_minor": 2
}
